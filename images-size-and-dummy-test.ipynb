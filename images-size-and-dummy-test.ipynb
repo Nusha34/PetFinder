{
 "cells": [
  {
   "cell_type": "code",
   "execution_count": 1,
   "id": "18afb1ea",
   "metadata": {
    "execution": {
     "iopub.execute_input": "2021-12-13T17:04:50.474118Z",
     "iopub.status.busy": "2021-12-13T17:04:50.472527Z",
     "iopub.status.idle": "2021-12-13T17:04:50.474708Z",
     "shell.execute_reply": "2021-12-13T17:04:50.475109Z",
     "shell.execute_reply.started": "2021-11-14T15:38:59.316616Z"
    },
    "papermill": {
     "duration": 0.032502,
     "end_time": "2021-12-13T17:04:50.475317",
     "exception": false,
     "start_time": "2021-12-13T17:04:50.442815",
     "status": "completed"
    },
    "tags": []
   },
   "outputs": [],
   "source": [
    "#/kaggle/input/petfinder-pawpularity-score/sample_submission.csv\n",
    "#/kaggle/input/petfinder-pawpularity-score/train.csv\n",
    "#/kaggle/input/petfinder-pawpularity-score/test.csv\n",
    "#/kaggle/input/petfinder-pawpularity-score/test/c978013571258ed6d4637f6e8cc9d6a3.jpg"
   ]
  },
  {
   "cell_type": "code",
   "execution_count": 2,
   "id": "48265cae",
   "metadata": {
    "_cell_guid": "b1076dfc-b9ad-4769-8c92-a6c4dae69d19",
    "_uuid": "8f2839f25d086af736a60e9eeb907d3b93b6e0e5",
    "execution": {
     "iopub.execute_input": "2021-12-13T17:04:50.527933Z",
     "iopub.status.busy": "2021-12-13T17:04:50.526197Z",
     "iopub.status.idle": "2021-12-13T17:04:55.420388Z",
     "shell.execute_reply": "2021-12-13T17:04:55.419851Z",
     "shell.execute_reply.started": "2021-12-13T16:51:11.778165Z"
    },
    "papermill": {
     "duration": 4.922589,
     "end_time": "2021-12-13T17:04:55.420548",
     "exception": false,
     "start_time": "2021-12-13T17:04:50.497959",
     "status": "completed"
    },
    "tags": []
   },
   "outputs": [],
   "source": [
    "# This Python 3 environment comes with many helpful analytics libraries installed\n",
    "# It is defined by the kaggle/python Docker image: https://github.com/kaggle/docker-python\n",
    "# For example, here's several helpful packages to load\n",
    "\n",
    "import pandas as pd \n",
    "import numpy as np\n",
    "from tensorflow.keras.preprocessing.image import ImageDataGenerator \n",
    "import matplotlib.pyplot as plt\n",
    "from PIL import Image\n",
    "import os\n",
    "# Input data files are available in the read-only \"../input/\" directory\n",
    "# For example, running this (by clicking run or pressing Shift+Enter) will list all files under the input directory\n",
    "\n",
    "# You can write up to 20GB to the current directory (/kaggle/working/) that gets preserved as output when you create a version using \"Save & Run All\" \n",
    "# You can also write temporary files to /kaggle/temp/, but they won't be saved outside of the current session"
   ]
  },
  {
   "cell_type": "code",
   "execution_count": 3,
   "id": "d84f150c",
   "metadata": {
    "execution": {
     "iopub.execute_input": "2021-12-13T17:04:55.470119Z",
     "iopub.status.busy": "2021-12-13T17:04:55.469588Z",
     "iopub.status.idle": "2021-12-13T17:04:55.521914Z",
     "shell.execute_reply": "2021-12-13T17:04:55.522373Z",
     "shell.execute_reply.started": "2021-12-13T16:51:16.948372Z"
    },
    "papermill": {
     "duration": 0.079133,
     "end_time": "2021-12-13T17:04:55.522528",
     "exception": false,
     "start_time": "2021-12-13T17:04:55.443395",
     "status": "completed"
    },
    "tags": []
   },
   "outputs": [
    {
     "data": {
      "text/html": [
       "<div>\n",
       "<style scoped>\n",
       "    .dataframe tbody tr th:only-of-type {\n",
       "        vertical-align: middle;\n",
       "    }\n",
       "\n",
       "    .dataframe tbody tr th {\n",
       "        vertical-align: top;\n",
       "    }\n",
       "\n",
       "    .dataframe thead th {\n",
       "        text-align: right;\n",
       "    }\n",
       "</style>\n",
       "<table border=\"1\" class=\"dataframe\">\n",
       "  <thead>\n",
       "    <tr style=\"text-align: right;\">\n",
       "      <th></th>\n",
       "      <th>Id</th>\n",
       "      <th>Subject Focus</th>\n",
       "      <th>Eyes</th>\n",
       "      <th>Face</th>\n",
       "      <th>Near</th>\n",
       "      <th>Action</th>\n",
       "      <th>Accessory</th>\n",
       "      <th>Group</th>\n",
       "      <th>Collage</th>\n",
       "      <th>Human</th>\n",
       "      <th>Occlusion</th>\n",
       "      <th>Info</th>\n",
       "      <th>Blur</th>\n",
       "      <th>Pawpularity</th>\n",
       "    </tr>\n",
       "  </thead>\n",
       "  <tbody>\n",
       "    <tr>\n",
       "      <th>0</th>\n",
       "      <td>0007de18844b0dbbb5e1f607da0606e0</td>\n",
       "      <td>0</td>\n",
       "      <td>1</td>\n",
       "      <td>1</td>\n",
       "      <td>1</td>\n",
       "      <td>0</td>\n",
       "      <td>0</td>\n",
       "      <td>1</td>\n",
       "      <td>0</td>\n",
       "      <td>0</td>\n",
       "      <td>0</td>\n",
       "      <td>0</td>\n",
       "      <td>0</td>\n",
       "      <td>63</td>\n",
       "    </tr>\n",
       "    <tr>\n",
       "      <th>1</th>\n",
       "      <td>0009c66b9439883ba2750fb825e1d7db</td>\n",
       "      <td>0</td>\n",
       "      <td>1</td>\n",
       "      <td>1</td>\n",
       "      <td>0</td>\n",
       "      <td>0</td>\n",
       "      <td>0</td>\n",
       "      <td>0</td>\n",
       "      <td>0</td>\n",
       "      <td>0</td>\n",
       "      <td>0</td>\n",
       "      <td>0</td>\n",
       "      <td>0</td>\n",
       "      <td>42</td>\n",
       "    </tr>\n",
       "    <tr>\n",
       "      <th>2</th>\n",
       "      <td>0013fd999caf9a3efe1352ca1b0d937e</td>\n",
       "      <td>0</td>\n",
       "      <td>1</td>\n",
       "      <td>1</td>\n",
       "      <td>1</td>\n",
       "      <td>0</td>\n",
       "      <td>0</td>\n",
       "      <td>0</td>\n",
       "      <td>0</td>\n",
       "      <td>1</td>\n",
       "      <td>1</td>\n",
       "      <td>0</td>\n",
       "      <td>0</td>\n",
       "      <td>28</td>\n",
       "    </tr>\n",
       "    <tr>\n",
       "      <th>3</th>\n",
       "      <td>0018df346ac9c1d8413cfcc888ca8246</td>\n",
       "      <td>0</td>\n",
       "      <td>1</td>\n",
       "      <td>1</td>\n",
       "      <td>1</td>\n",
       "      <td>0</td>\n",
       "      <td>0</td>\n",
       "      <td>0</td>\n",
       "      <td>0</td>\n",
       "      <td>0</td>\n",
       "      <td>0</td>\n",
       "      <td>0</td>\n",
       "      <td>0</td>\n",
       "      <td>15</td>\n",
       "    </tr>\n",
       "    <tr>\n",
       "      <th>4</th>\n",
       "      <td>001dc955e10590d3ca4673f034feeef2</td>\n",
       "      <td>0</td>\n",
       "      <td>0</td>\n",
       "      <td>0</td>\n",
       "      <td>1</td>\n",
       "      <td>0</td>\n",
       "      <td>0</td>\n",
       "      <td>1</td>\n",
       "      <td>0</td>\n",
       "      <td>0</td>\n",
       "      <td>0</td>\n",
       "      <td>0</td>\n",
       "      <td>0</td>\n",
       "      <td>72</td>\n",
       "    </tr>\n",
       "  </tbody>\n",
       "</table>\n",
       "</div>"
      ],
      "text/plain": [
       "                                 Id  Subject Focus  Eyes  Face  Near  Action  \\\n",
       "0  0007de18844b0dbbb5e1f607da0606e0              0     1     1     1       0   \n",
       "1  0009c66b9439883ba2750fb825e1d7db              0     1     1     0       0   \n",
       "2  0013fd999caf9a3efe1352ca1b0d937e              0     1     1     1       0   \n",
       "3  0018df346ac9c1d8413cfcc888ca8246              0     1     1     1       0   \n",
       "4  001dc955e10590d3ca4673f034feeef2              0     0     0     1       0   \n",
       "\n",
       "   Accessory  Group  Collage  Human  Occlusion  Info  Blur  Pawpularity  \n",
       "0          0      1        0      0          0     0     0           63  \n",
       "1          0      0        0      0          0     0     0           42  \n",
       "2          0      0        0      1          1     0     0           28  \n",
       "3          0      0        0      0          0     0     0           15  \n",
       "4          0      1        0      0          0     0     0           72  "
      ]
     },
     "execution_count": 3,
     "metadata": {},
     "output_type": "execute_result"
    }
   ],
   "source": [
    "meta = pd.read_csv('/kaggle/input/petfinder-pawpularity-score/train.csv')\n",
    "meta.head(5)"
   ]
  },
  {
   "cell_type": "code",
   "execution_count": 4,
   "id": "27c67848",
   "metadata": {
    "execution": {
     "iopub.execute_input": "2021-12-13T17:04:55.572007Z",
     "iopub.status.busy": "2021-12-13T17:04:55.571201Z",
     "iopub.status.idle": "2021-12-13T17:04:55.573081Z",
     "shell.execute_reply": "2021-12-13T17:04:55.573532Z",
     "shell.execute_reply.started": "2021-12-13T16:51:17.038190Z"
    },
    "papermill": {
     "duration": 0.029027,
     "end_time": "2021-12-13T17:04:55.573654",
     "exception": false,
     "start_time": "2021-12-13T17:04:55.544627",
     "status": "completed"
    },
    "tags": []
   },
   "outputs": [],
   "source": [
    "def append_ext(fn):\n",
    "    return fn+\".jpg\""
   ]
  },
  {
   "cell_type": "code",
   "execution_count": 5,
   "id": "4d00bfaf",
   "metadata": {
    "execution": {
     "iopub.execute_input": "2021-12-13T17:04:55.621393Z",
     "iopub.status.busy": "2021-12-13T17:04:55.620552Z",
     "iopub.status.idle": "2021-12-13T17:04:55.629033Z",
     "shell.execute_reply": "2021-12-13T17:04:55.628559Z",
     "shell.execute_reply.started": "2021-12-13T16:51:30.081193Z"
    },
    "papermill": {
     "duration": 0.03326,
     "end_time": "2021-12-13T17:04:55.629155",
     "exception": false,
     "start_time": "2021-12-13T17:04:55.595895",
     "status": "completed"
    },
    "tags": []
   },
   "outputs": [],
   "source": [
    "labels = meta[['Id','Pawpularity']]\n",
    "train_datagen = ImageDataGenerator(rescale=1./255)"
   ]
  },
  {
   "cell_type": "code",
   "execution_count": 6,
   "id": "8048a9d3",
   "metadata": {
    "execution": {
     "iopub.execute_input": "2021-12-13T17:04:55.675313Z",
     "iopub.status.busy": "2021-12-13T17:04:55.674532Z",
     "iopub.status.idle": "2021-12-13T17:04:55.690346Z",
     "shell.execute_reply": "2021-12-13T17:04:55.690976Z",
     "shell.execute_reply.started": "2021-12-13T16:51:32.209560Z"
    },
    "papermill": {
     "duration": 0.040106,
     "end_time": "2021-12-13T17:04:55.691134",
     "exception": false,
     "start_time": "2021-12-13T17:04:55.651028",
     "status": "completed"
    },
    "tags": []
   },
   "outputs": [
    {
     "name": "stderr",
     "output_type": "stream",
     "text": [
      "/opt/conda/lib/python3.7/site-packages/ipykernel_launcher.py:1: SettingWithCopyWarning: \n",
      "A value is trying to be set on a copy of a slice from a DataFrame.\n",
      "Try using .loc[row_indexer,col_indexer] = value instead\n",
      "\n",
      "See the caveats in the documentation: https://pandas.pydata.org/pandas-docs/stable/user_guide/indexing.html#returning-a-view-versus-a-copy\n",
      "  \"\"\"Entry point for launching an IPython kernel.\n"
     ]
    },
    {
     "data": {
      "text/html": [
       "<div>\n",
       "<style scoped>\n",
       "    .dataframe tbody tr th:only-of-type {\n",
       "        vertical-align: middle;\n",
       "    }\n",
       "\n",
       "    .dataframe tbody tr th {\n",
       "        vertical-align: top;\n",
       "    }\n",
       "\n",
       "    .dataframe thead th {\n",
       "        text-align: right;\n",
       "    }\n",
       "</style>\n",
       "<table border=\"1\" class=\"dataframe\">\n",
       "  <thead>\n",
       "    <tr style=\"text-align: right;\">\n",
       "      <th></th>\n",
       "      <th>Id</th>\n",
       "      <th>Pawpularity</th>\n",
       "    </tr>\n",
       "  </thead>\n",
       "  <tbody>\n",
       "    <tr>\n",
       "      <th>0</th>\n",
       "      <td>0007de18844b0dbbb5e1f607da0606e0.jpg</td>\n",
       "      <td>63</td>\n",
       "    </tr>\n",
       "    <tr>\n",
       "      <th>1</th>\n",
       "      <td>0009c66b9439883ba2750fb825e1d7db.jpg</td>\n",
       "      <td>42</td>\n",
       "    </tr>\n",
       "    <tr>\n",
       "      <th>2</th>\n",
       "      <td>0013fd999caf9a3efe1352ca1b0d937e.jpg</td>\n",
       "      <td>28</td>\n",
       "    </tr>\n",
       "    <tr>\n",
       "      <th>3</th>\n",
       "      <td>0018df346ac9c1d8413cfcc888ca8246.jpg</td>\n",
       "      <td>15</td>\n",
       "    </tr>\n",
       "    <tr>\n",
       "      <th>4</th>\n",
       "      <td>001dc955e10590d3ca4673f034feeef2.jpg</td>\n",
       "      <td>72</td>\n",
       "    </tr>\n",
       "  </tbody>\n",
       "</table>\n",
       "</div>"
      ],
      "text/plain": [
       "                                     Id  Pawpularity\n",
       "0  0007de18844b0dbbb5e1f607da0606e0.jpg           63\n",
       "1  0009c66b9439883ba2750fb825e1d7db.jpg           42\n",
       "2  0013fd999caf9a3efe1352ca1b0d937e.jpg           28\n",
       "3  0018df346ac9c1d8413cfcc888ca8246.jpg           15\n",
       "4  001dc955e10590d3ca4673f034feeef2.jpg           72"
      ]
     },
     "execution_count": 6,
     "metadata": {},
     "output_type": "execute_result"
    }
   ],
   "source": [
    "labels[\"Id\"] = labels[\"Id\"].apply(append_ext)\n",
    "labels.head(5)"
   ]
  },
  {
   "cell_type": "code",
   "execution_count": 7,
   "id": "9bc7c2e3",
   "metadata": {
    "execution": {
     "iopub.execute_input": "2021-12-13T17:04:55.740295Z",
     "iopub.status.busy": "2021-12-13T17:04:55.739779Z",
     "iopub.status.idle": "2021-12-13T17:04:55.747349Z",
     "shell.execute_reply": "2021-12-13T17:04:55.746764Z",
     "shell.execute_reply.started": "2021-12-13T16:51:35.862603Z"
    },
    "papermill": {
     "duration": 0.033695,
     "end_time": "2021-12-13T17:04:55.747497",
     "exception": false,
     "start_time": "2021-12-13T17:04:55.713802",
     "status": "completed"
    },
    "tags": []
   },
   "outputs": [
    {
     "name": "stderr",
     "output_type": "stream",
     "text": [
      "/opt/conda/lib/python3.7/site-packages/pandas/core/frame.py:5047: SettingWithCopyWarning: \n",
      "A value is trying to be set on a copy of a slice from a DataFrame\n",
      "\n",
      "See the caveats in the documentation: https://pandas.pydata.org/pandas-docs/stable/user_guide/indexing.html#returning-a-view-versus-a-copy\n",
      "  errors=errors,\n"
     ]
    }
   ],
   "source": [
    "labels.rename(columns={'Id': 'filename'}, inplace=True)"
   ]
  },
  {
   "cell_type": "code",
   "execution_count": 8,
   "id": "648e1922",
   "metadata": {
    "execution": {
     "iopub.execute_input": "2021-12-13T17:04:55.800476Z",
     "iopub.status.busy": "2021-12-13T17:04:55.799825Z",
     "iopub.status.idle": "2021-12-13T17:04:55.802655Z",
     "shell.execute_reply": "2021-12-13T17:04:55.803054Z",
     "shell.execute_reply.started": "2021-12-13T16:53:57.558814Z"
    },
    "papermill": {
     "duration": 0.032419,
     "end_time": "2021-12-13T17:04:55.803170",
     "exception": false,
     "start_time": "2021-12-13T17:04:55.770751",
     "status": "completed"
    },
    "tags": []
   },
   "outputs": [
    {
     "data": {
      "text/html": [
       "<div>\n",
       "<style scoped>\n",
       "    .dataframe tbody tr th:only-of-type {\n",
       "        vertical-align: middle;\n",
       "    }\n",
       "\n",
       "    .dataframe tbody tr th {\n",
       "        vertical-align: top;\n",
       "    }\n",
       "\n",
       "    .dataframe thead th {\n",
       "        text-align: right;\n",
       "    }\n",
       "</style>\n",
       "<table border=\"1\" class=\"dataframe\">\n",
       "  <thead>\n",
       "    <tr style=\"text-align: right;\">\n",
       "      <th></th>\n",
       "      <th>filename</th>\n",
       "      <th>Pawpularity</th>\n",
       "    </tr>\n",
       "  </thead>\n",
       "  <tbody>\n",
       "    <tr>\n",
       "      <th>0</th>\n",
       "      <td>0007de18844b0dbbb5e1f607da0606e0.jpg</td>\n",
       "      <td>63</td>\n",
       "    </tr>\n",
       "    <tr>\n",
       "      <th>1</th>\n",
       "      <td>0009c66b9439883ba2750fb825e1d7db.jpg</td>\n",
       "      <td>42</td>\n",
       "    </tr>\n",
       "    <tr>\n",
       "      <th>2</th>\n",
       "      <td>0013fd999caf9a3efe1352ca1b0d937e.jpg</td>\n",
       "      <td>28</td>\n",
       "    </tr>\n",
       "    <tr>\n",
       "      <th>3</th>\n",
       "      <td>0018df346ac9c1d8413cfcc888ca8246.jpg</td>\n",
       "      <td>15</td>\n",
       "    </tr>\n",
       "    <tr>\n",
       "      <th>4</th>\n",
       "      <td>001dc955e10590d3ca4673f034feeef2.jpg</td>\n",
       "      <td>72</td>\n",
       "    </tr>\n",
       "  </tbody>\n",
       "</table>\n",
       "</div>"
      ],
      "text/plain": [
       "                               filename  Pawpularity\n",
       "0  0007de18844b0dbbb5e1f607da0606e0.jpg           63\n",
       "1  0009c66b9439883ba2750fb825e1d7db.jpg           42\n",
       "2  0013fd999caf9a3efe1352ca1b0d937e.jpg           28\n",
       "3  0018df346ac9c1d8413cfcc888ca8246.jpg           15\n",
       "4  001dc955e10590d3ca4673f034feeef2.jpg           72"
      ]
     },
     "execution_count": 8,
     "metadata": {},
     "output_type": "execute_result"
    }
   ],
   "source": [
    "labels.head(5)"
   ]
  },
  {
   "cell_type": "markdown",
   "id": "ad9e3451",
   "metadata": {
    "papermill": {
     "duration": 0.022777,
     "end_time": "2021-12-13T17:04:55.848953",
     "exception": false,
     "start_time": "2021-12-13T17:04:55.826176",
     "status": "completed"
    },
    "tags": []
   },
   "source": [
    "try to get size of the image"
   ]
  },
  {
   "cell_type": "code",
   "execution_count": 9,
   "id": "204f0404",
   "metadata": {
    "execution": {
     "iopub.execute_input": "2021-12-13T17:04:55.903572Z",
     "iopub.status.busy": "2021-12-13T17:04:55.902808Z",
     "iopub.status.idle": "2021-12-13T17:04:55.921492Z",
     "shell.execute_reply": "2021-12-13T17:04:55.922162Z",
     "shell.execute_reply.started": "2021-11-14T15:39:04.421637Z"
    },
    "papermill": {
     "duration": 0.049645,
     "end_time": "2021-12-13T17:04:55.922347",
     "exception": false,
     "start_time": "2021-12-13T17:04:55.872702",
     "status": "completed"
    },
    "tags": []
   },
   "outputs": [
    {
     "name": "stdout",
     "output_type": "stream",
     "text": [
      "128 128\n"
     ]
    }
   ],
   "source": [
    "im = Image.open('/kaggle/input/petfinder-pawpularity-score/test/c978013571258ed6d4637f6e8cc9d6a3.jpg')\n",
    "width, height = im.size\n",
    "print(width, height)"
   ]
  },
  {
   "cell_type": "code",
   "execution_count": 10,
   "id": "b46893a3",
   "metadata": {
    "execution": {
     "iopub.execute_input": "2021-12-13T17:04:55.982371Z",
     "iopub.status.busy": "2021-12-13T17:04:55.981466Z",
     "iopub.status.idle": "2021-12-13T17:04:55.983745Z",
     "shell.execute_reply": "2021-12-13T17:04:55.984188Z",
     "shell.execute_reply.started": "2021-11-14T15:39:04.441932Z"
    },
    "papermill": {
     "duration": 0.03365,
     "end_time": "2021-12-13T17:04:55.984326",
     "exception": false,
     "start_time": "2021-12-13T17:04:55.950676",
     "status": "completed"
    },
    "tags": []
   },
   "outputs": [],
   "source": [
    "#for dirname, _, filenames in os.walk('/kaggle/input/petfinder-pawpularity-score/test/'):\n",
    "#    for filename in filenames:\n",
    "#        print(os.path.join(dirname, filename))"
   ]
  },
  {
   "cell_type": "markdown",
   "id": "1d060f0f",
   "metadata": {
    "papermill": {
     "duration": 0.026872,
     "end_time": "2021-12-13T17:04:56.037778",
     "exception": false,
     "start_time": "2021-12-13T17:04:56.010906",
     "status": "completed"
    },
    "tags": []
   },
   "source": [
    "Now we know how to get image size we can get sizes of all images. First let's create a dedicated dataset where we can store size with respect of each image id"
   ]
  },
  {
   "cell_type": "code",
   "execution_count": 11,
   "id": "ac071dcd",
   "metadata": {
    "execution": {
     "iopub.execute_input": "2021-12-13T17:04:56.091500Z",
     "iopub.status.busy": "2021-12-13T17:04:56.090676Z",
     "iopub.status.idle": "2021-12-13T17:04:56.100203Z",
     "shell.execute_reply": "2021-12-13T17:04:56.100708Z",
     "shell.execute_reply.started": "2021-12-13T16:51:45.960861Z"
    },
    "papermill": {
     "duration": 0.037437,
     "end_time": "2021-12-13T17:04:56.100842",
     "exception": false,
     "start_time": "2021-12-13T17:04:56.063405",
     "status": "completed"
    },
    "tags": []
   },
   "outputs": [
    {
     "data": {
      "text/html": [
       "<div>\n",
       "<style scoped>\n",
       "    .dataframe tbody tr th:only-of-type {\n",
       "        vertical-align: middle;\n",
       "    }\n",
       "\n",
       "    .dataframe tbody tr th {\n",
       "        vertical-align: top;\n",
       "    }\n",
       "\n",
       "    .dataframe thead th {\n",
       "        text-align: right;\n",
       "    }\n",
       "</style>\n",
       "<table border=\"1\" class=\"dataframe\">\n",
       "  <thead>\n",
       "    <tr style=\"text-align: right;\">\n",
       "      <th></th>\n",
       "      <th>filename</th>\n",
       "    </tr>\n",
       "  </thead>\n",
       "  <tbody>\n",
       "    <tr>\n",
       "      <th>0</th>\n",
       "      <td>0007de18844b0dbbb5e1f607da0606e0.jpg</td>\n",
       "    </tr>\n",
       "    <tr>\n",
       "      <th>1</th>\n",
       "      <td>0009c66b9439883ba2750fb825e1d7db.jpg</td>\n",
       "    </tr>\n",
       "    <tr>\n",
       "      <th>2</th>\n",
       "      <td>0013fd999caf9a3efe1352ca1b0d937e.jpg</td>\n",
       "    </tr>\n",
       "  </tbody>\n",
       "</table>\n",
       "</div>"
      ],
      "text/plain": [
       "                               filename\n",
       "0  0007de18844b0dbbb5e1f607da0606e0.jpg\n",
       "1  0009c66b9439883ba2750fb825e1d7db.jpg\n",
       "2  0013fd999caf9a3efe1352ca1b0d937e.jpg"
      ]
     },
     "execution_count": 11,
     "metadata": {},
     "output_type": "execute_result"
    }
   ],
   "source": [
    "image_sizes = labels.copy(deep= True)\n",
    "image_sizes.drop('Pawpularity', axis=1,inplace = True)\n",
    "image_sizes.head(3)"
   ]
  },
  {
   "cell_type": "markdown",
   "id": "34cbca1e",
   "metadata": {
    "papermill": {
     "duration": 0.025602,
     "end_time": "2021-12-13T17:04:56.150772",
     "exception": false,
     "start_time": "2021-12-13T17:04:56.125170",
     "status": "completed"
    },
    "tags": []
   },
   "source": [
    "Define the function to get images sizes from train dataset"
   ]
  },
  {
   "cell_type": "code",
   "execution_count": 12,
   "id": "05c0e4f2",
   "metadata": {
    "execution": {
     "iopub.execute_input": "2021-12-13T17:04:56.204886Z",
     "iopub.status.busy": "2021-12-13T17:04:56.204130Z",
     "iopub.status.idle": "2021-12-13T17:04:56.206469Z",
     "shell.execute_reply": "2021-12-13T17:04:56.206052Z",
     "shell.execute_reply.started": "2021-12-13T16:51:49.062070Z"
    },
    "papermill": {
     "duration": 0.030845,
     "end_time": "2021-12-13T17:04:56.206585",
     "exception": false,
     "start_time": "2021-12-13T17:04:56.175740",
     "status": "completed"
    },
    "tags": []
   },
   "outputs": [],
   "source": [
    "def get_image_sizes(filename):\n",
    "    path = '/kaggle/input/petfinder-pawpularity-score/train/'\n",
    "    final_path = path + filename\n",
    "    im = Image.open(final_path)\n",
    "    width, height = im.size\n",
    "    return (width, height)"
   ]
  },
  {
   "cell_type": "markdown",
   "id": "e24f62dd",
   "metadata": {
    "papermill": {
     "duration": 0.023821,
     "end_time": "2021-12-13T17:04:56.254116",
     "exception": false,
     "start_time": "2021-12-13T17:04:56.230295",
     "status": "completed"
    },
    "tags": []
   },
   "source": [
    "Apply the function "
   ]
  },
  {
   "cell_type": "code",
   "execution_count": 13,
   "id": "3c1650b5",
   "metadata": {
    "execution": {
     "iopub.execute_input": "2021-12-13T17:04:56.305878Z",
     "iopub.status.busy": "2021-12-13T17:04:56.305336Z",
     "iopub.status.idle": "2021-12-13T17:05:40.999995Z",
     "shell.execute_reply": "2021-12-13T17:05:40.999325Z",
     "shell.execute_reply.started": "2021-12-13T16:51:51.441299Z"
    },
    "papermill": {
     "duration": 44.722566,
     "end_time": "2021-12-13T17:05:41.000181",
     "exception": false,
     "start_time": "2021-12-13T17:04:56.277615",
     "status": "completed"
    },
    "tags": []
   },
   "outputs": [],
   "source": [
    "image_sizes['width'], image_sizes['height'] = image_sizes.apply(lambda row: get_image_sizes(row['filename']), \n",
    "                                                                axis=1,\n",
    "                                                                result_type='expand').T.values"
   ]
  },
  {
   "cell_type": "markdown",
   "id": "2ff09db0",
   "metadata": {
    "papermill": {
     "duration": 0.031159,
     "end_time": "2021-12-13T17:05:41.063241",
     "exception": false,
     "start_time": "2021-12-13T17:05:41.032082",
     "status": "completed"
    },
    "tags": []
   },
   "source": [
    "Check the results and plot distribution of sizes"
   ]
  },
  {
   "cell_type": "code",
   "execution_count": 14,
   "id": "74145155",
   "metadata": {
    "execution": {
     "iopub.execute_input": "2021-12-13T17:05:41.136878Z",
     "iopub.status.busy": "2021-12-13T17:05:41.135101Z",
     "iopub.status.idle": "2021-12-13T17:05:41.140960Z",
     "shell.execute_reply": "2021-12-13T17:05:41.140369Z",
     "shell.execute_reply.started": "2021-12-13T16:53:26.684805Z"
    },
    "papermill": {
     "duration": 0.046405,
     "end_time": "2021-12-13T17:05:41.141112",
     "exception": false,
     "start_time": "2021-12-13T17:05:41.094707",
     "status": "completed"
    },
    "tags": []
   },
   "outputs": [
    {
     "data": {
      "text/html": [
       "<div>\n",
       "<style scoped>\n",
       "    .dataframe tbody tr th:only-of-type {\n",
       "        vertical-align: middle;\n",
       "    }\n",
       "\n",
       "    .dataframe tbody tr th {\n",
       "        vertical-align: top;\n",
       "    }\n",
       "\n",
       "    .dataframe thead th {\n",
       "        text-align: right;\n",
       "    }\n",
       "</style>\n",
       "<table border=\"1\" class=\"dataframe\">\n",
       "  <thead>\n",
       "    <tr style=\"text-align: right;\">\n",
       "      <th></th>\n",
       "      <th>filename</th>\n",
       "      <th>width</th>\n",
       "      <th>height</th>\n",
       "    </tr>\n",
       "  </thead>\n",
       "  <tbody>\n",
       "    <tr>\n",
       "      <th>0</th>\n",
       "      <td>0007de18844b0dbbb5e1f607da0606e0.jpg</td>\n",
       "      <td>405</td>\n",
       "      <td>720</td>\n",
       "    </tr>\n",
       "    <tr>\n",
       "      <th>1</th>\n",
       "      <td>0009c66b9439883ba2750fb825e1d7db.jpg</td>\n",
       "      <td>1032</td>\n",
       "      <td>774</td>\n",
       "    </tr>\n",
       "    <tr>\n",
       "      <th>2</th>\n",
       "      <td>0013fd999caf9a3efe1352ca1b0d937e.jpg</td>\n",
       "      <td>720</td>\n",
       "      <td>960</td>\n",
       "    </tr>\n",
       "  </tbody>\n",
       "</table>\n",
       "</div>"
      ],
      "text/plain": [
       "                               filename  width  height\n",
       "0  0007de18844b0dbbb5e1f607da0606e0.jpg    405     720\n",
       "1  0009c66b9439883ba2750fb825e1d7db.jpg   1032     774\n",
       "2  0013fd999caf9a3efe1352ca1b0d937e.jpg    720     960"
      ]
     },
     "execution_count": 14,
     "metadata": {},
     "output_type": "execute_result"
    }
   ],
   "source": [
    "image_sizes.head(3)"
   ]
  },
  {
   "cell_type": "code",
   "execution_count": 15,
   "id": "d264a5f7",
   "metadata": {
    "execution": {
     "iopub.execute_input": "2021-12-13T17:05:41.208340Z",
     "iopub.status.busy": "2021-12-13T17:05:41.207553Z",
     "iopub.status.idle": "2021-12-13T17:05:41.490871Z",
     "shell.execute_reply": "2021-12-13T17:05:41.490391Z",
     "shell.execute_reply.started": "2021-12-13T16:55:19.459264Z"
    },
    "papermill": {
     "duration": 0.318816,
     "end_time": "2021-12-13T17:05:41.490993",
     "exception": false,
     "start_time": "2021-12-13T17:05:41.172177",
     "status": "completed"
    },
    "tags": []
   },
   "outputs": [
    {
     "data": {
      "image/png": "[encoded data removed]",
      "text/plain": [
       "<Figure size 432x288 with 1 Axes>"
      ]
     },
     "metadata": {
      "needs_background": "light"
     },
     "output_type": "display_data"
    }
   ],
   "source": [
    "image_sizes['width'].hist(bins=25)\n",
    "plt.show()"
   ]
  },
  {
   "cell_type": "code",
   "execution_count": 16,
   "id": "6d83deac",
   "metadata": {
    "execution": {
     "iopub.execute_input": "2021-12-13T17:05:41.568782Z",
     "iopub.status.busy": "2021-12-13T17:05:41.567634Z",
     "iopub.status.idle": "2021-12-13T17:05:41.792909Z",
     "shell.execute_reply": "2021-12-13T17:05:41.792054Z",
     "shell.execute_reply.started": "2021-12-13T16:55:22.756845Z"
    },
    "papermill": {
     "duration": 0.272553,
     "end_time": "2021-12-13T17:05:41.793076",
     "exception": false,
     "start_time": "2021-12-13T17:05:41.520523",
     "status": "completed"
    },
    "tags": []
   },
   "outputs": [
    {
     "data": {
      "image/png": "[encoded data removed]",
      "text/plain": [
       "<Figure size 432x288 with 1 Axes>"
      ]
     },
     "metadata": {
      "needs_background": "light"
     },
     "output_type": "display_data"
    }
   ],
   "source": [
    "image_sizes['height'].hist(bins=25)\n",
    "plt.show()"
   ]
  },
  {
   "cell_type": "markdown",
   "id": "922c8b7f",
   "metadata": {
    "papermill": {
     "duration": 0.032501,
     "end_time": "2021-12-13T17:05:41.858505",
     "exception": false,
     "start_time": "2021-12-13T17:05:41.826004",
     "status": "completed"
    },
    "tags": []
   },
   "source": [
    "Now we can decide how to rescale our images, we can have two options:\n",
    "1. use mean of sizes\n",
    "2. use mode of sizes\n",
    "\n",
    "After that check which approach gives better model performance in terms of RMSE metric. \n",
    "Presumably the mode of sizes should perform better. "
   ]
  },
  {
   "cell_type": "code",
   "execution_count": 17,
   "id": "0098fff2",
   "metadata": {
    "execution": {
     "iopub.execute_input": "2021-12-13T17:05:41.939573Z",
     "iopub.status.busy": "2021-12-13T17:05:41.937654Z",
     "iopub.status.idle": "2021-12-13T17:05:41.942346Z",
     "shell.execute_reply": "2021-12-13T17:05:41.941592Z",
     "shell.execute_reply.started": "2021-12-13T16:54:58.317276Z"
    },
    "papermill": {
     "duration": 0.050917,
     "end_time": "2021-12-13T17:05:41.942559",
     "exception": false,
     "start_time": "2021-12-13T17:05:41.891642",
     "status": "completed"
    },
    "tags": []
   },
   "outputs": [
    {
     "name": "stdout",
     "output_type": "stream",
     "text": [
      "mean width:  804.4262510088781\n",
      "mean height:  904.2843018563358\n",
      "mode width:  0    720\n",
      "dtype: int64\n",
      "mode width:  0    960\n",
      "dtype: int64\n"
     ]
    }
   ],
   "source": [
    "width_mean = image_sizes['width'].mean()\n",
    "height_mean = image_sizes['height'].mean()\n",
    "width_mode = image_sizes['width'].mode()\n",
    "height_mode = image_sizes['height'].mode()\n",
    "\n",
    "print('mean width: ', width_mean)\n",
    "print('mean height: ', height_mean)\n",
    "print('mode width: ', width_mode)\n",
    "print('mode width: ', height_mode)"
   ]
  },
  {
   "cell_type": "code",
   "execution_count": 18,
   "id": "d31461a4",
   "metadata": {
    "execution": {
     "iopub.execute_input": "2021-12-13T17:05:42.017062Z",
     "iopub.status.busy": "2021-12-13T17:05:42.015933Z",
     "iopub.status.idle": "2021-12-13T17:05:42.059705Z",
     "shell.execute_reply": "2021-12-13T17:05:42.058890Z",
     "shell.execute_reply.started": "2021-11-14T15:39:45.8498Z"
    },
    "papermill": {
     "duration": 0.083395,
     "end_time": "2021-12-13T17:05:42.059893",
     "exception": false,
     "start_time": "2021-12-13T17:05:41.976498",
     "status": "completed"
    },
    "tags": []
   },
   "outputs": [],
   "source": [
    "image_sizes.to_csv('image_sizes.csv',index=False)"
   ]
  },
  {
   "cell_type": "code",
   "execution_count": 19,
   "id": "b59d9a82",
   "metadata": {
    "execution": {
     "iopub.execute_input": "2021-12-13T17:05:42.137745Z",
     "iopub.status.busy": "2021-12-13T17:05:42.137059Z",
     "iopub.status.idle": "2021-12-13T17:05:42.152398Z",
     "shell.execute_reply": "2021-12-13T17:05:42.152878Z",
     "shell.execute_reply.started": "2021-12-13T16:57:13.365939Z"
    },
    "papermill": {
     "duration": 0.060176,
     "end_time": "2021-12-13T17:05:42.153041",
     "exception": false,
     "start_time": "2021-12-13T17:05:42.092865",
     "status": "completed"
    },
    "tags": []
   },
   "outputs": [
    {
     "data": {
      "text/html": [
       "<div>\n",
       "<style scoped>\n",
       "    .dataframe tbody tr th:only-of-type {\n",
       "        vertical-align: middle;\n",
       "    }\n",
       "\n",
       "    .dataframe tbody tr th {\n",
       "        vertical-align: top;\n",
       "    }\n",
       "\n",
       "    .dataframe thead th {\n",
       "        text-align: right;\n",
       "    }\n",
       "</style>\n",
       "<table border=\"1\" class=\"dataframe\">\n",
       "  <thead>\n",
       "    <tr style=\"text-align: right;\">\n",
       "      <th></th>\n",
       "      <th>filename</th>\n",
       "      <th>width</th>\n",
       "      <th>height</th>\n",
       "      <th>Pawpularity</th>\n",
       "    </tr>\n",
       "  </thead>\n",
       "  <tbody>\n",
       "    <tr>\n",
       "      <th>0</th>\n",
       "      <td>0007de18844b0dbbb5e1f607da0606e0.jpg</td>\n",
       "      <td>405</td>\n",
       "      <td>720</td>\n",
       "      <td>63</td>\n",
       "    </tr>\n",
       "    <tr>\n",
       "      <th>1</th>\n",
       "      <td>0009c66b9439883ba2750fb825e1d7db.jpg</td>\n",
       "      <td>1032</td>\n",
       "      <td>774</td>\n",
       "      <td>42</td>\n",
       "    </tr>\n",
       "    <tr>\n",
       "      <th>2</th>\n",
       "      <td>0013fd999caf9a3efe1352ca1b0d937e.jpg</td>\n",
       "      <td>720</td>\n",
       "      <td>960</td>\n",
       "      <td>28</td>\n",
       "    </tr>\n",
       "    <tr>\n",
       "      <th>3</th>\n",
       "      <td>0018df346ac9c1d8413cfcc888ca8246.jpg</td>\n",
       "      <td>405</td>\n",
       "      <td>720</td>\n",
       "      <td>15</td>\n",
       "    </tr>\n",
       "    <tr>\n",
       "      <th>4</th>\n",
       "      <td>001dc955e10590d3ca4673f034feeef2.jpg</td>\n",
       "      <td>540</td>\n",
       "      <td>960</td>\n",
       "      <td>72</td>\n",
       "    </tr>\n",
       "  </tbody>\n",
       "</table>\n",
       "</div>"
      ],
      "text/plain": [
       "                               filename  width  height  Pawpularity\n",
       "0  0007de18844b0dbbb5e1f607da0606e0.jpg    405     720           63\n",
       "1  0009c66b9439883ba2750fb825e1d7db.jpg   1032     774           42\n",
       "2  0013fd999caf9a3efe1352ca1b0d937e.jpg    720     960           28\n",
       "3  0018df346ac9c1d8413cfcc888ca8246.jpg    405     720           15\n",
       "4  001dc955e10590d3ca4673f034feeef2.jpg    540     960           72"
      ]
     },
     "execution_count": 19,
     "metadata": {},
     "output_type": "execute_result"
    }
   ],
   "source": [
    "result = pd.merge(image_sizes, labels, on=\"filename\")\n",
    "result.head()"
   ]
  },
  {
   "cell_type": "code",
   "execution_count": 20,
   "id": "6fd82b67",
   "metadata": {
    "execution": {
     "iopub.execute_input": "2021-12-13T17:05:42.380127Z",
     "iopub.status.busy": "2021-12-13T17:05:42.224842Z",
     "iopub.status.idle": "2021-12-13T17:05:42.620726Z",
     "shell.execute_reply": "2021-12-13T17:05:42.621245Z",
     "shell.execute_reply.started": "2021-12-13T16:58:02.166107Z"
    },
    "papermill": {
     "duration": 0.434852,
     "end_time": "2021-12-13T17:05:42.621419",
     "exception": false,
     "start_time": "2021-12-13T17:05:42.186567",
     "status": "completed"
    },
    "tags": []
   },
   "outputs": [
    {
     "data": {
      "image/png": "[encoded data removed]",
      "text/plain": [
       "<Figure size 432x288 with 1 Axes>"
      ]
     },
     "metadata": {
      "needs_background": "light"
     },
     "output_type": "display_data"
    }
   ],
   "source": [
    "result[result['Pawpularity']==100]['height'].hist(bins=25)\n",
    "plt.show()"
   ]
  },
  {
   "cell_type": "code",
   "execution_count": 21,
   "id": "7a9075e2",
   "metadata": {
    "execution": {
     "iopub.execute_input": "2021-12-13T17:05:42.686097Z",
     "iopub.status.busy": "2021-12-13T17:05:42.685271Z",
     "iopub.status.idle": "2021-12-13T17:05:42.927167Z",
     "shell.execute_reply": "2021-12-13T17:05:42.927630Z",
     "shell.execute_reply.started": "2021-12-13T16:58:14.095960Z"
    },
    "papermill": {
     "duration": 0.276569,
     "end_time": "2021-12-13T17:05:42.927797",
     "exception": false,
     "start_time": "2021-12-13T17:05:42.651228",
     "status": "completed"
    },
    "tags": []
   },
   "outputs": [
    {
     "data": {
      "image/png": "[encoded data removed]",
      "text/plain": [
       "<Figure size 432x288 with 1 Axes>"
      ]
     },
     "metadata": {
      "needs_background": "light"
     },
     "output_type": "display_data"
    }
   ],
   "source": [
    "result[result['Pawpularity']<100]['height'].hist(bins=25)\n",
    "plt.show()"
   ]
  },
  {
   "cell_type": "code",
   "execution_count": 22,
   "id": "567fd99f",
   "metadata": {
    "execution": {
     "iopub.execute_input": "2021-12-13T17:05:43.011276Z",
     "iopub.status.busy": "2021-12-13T17:05:42.999003Z",
     "iopub.status.idle": "2021-12-13T17:05:43.236119Z",
     "shell.execute_reply": "2021-12-13T17:05:43.235627Z",
     "shell.execute_reply.started": "2021-12-13T16:58:41.686015Z"
    },
    "papermill": {
     "duration": 0.278109,
     "end_time": "2021-12-13T17:05:43.236254",
     "exception": false,
     "start_time": "2021-12-13T17:05:42.958145",
     "status": "completed"
    },
    "tags": []
   },
   "outputs": [
    {
     "data": {
      "image/png": "[encoded data removed]",
      "text/plain": [
       "<Figure size 432x288 with 1 Axes>"
      ]
     },
     "metadata": {
      "needs_background": "light"
     },
     "output_type": "display_data"
    }
   ],
   "source": [
    "result[result['Pawpularity']==100]['width'].hist(bins=25)\n",
    "plt.show()"
   ]
  },
  {
   "cell_type": "code",
   "execution_count": 23,
   "id": "f7a27820",
   "metadata": {
    "execution": {
     "iopub.execute_input": "2021-12-13T17:05:43.306971Z",
     "iopub.status.busy": "2021-12-13T17:05:43.306101Z",
     "iopub.status.idle": "2021-12-13T17:05:43.557314Z",
     "shell.execute_reply": "2021-12-13T17:05:43.556625Z",
     "shell.execute_reply.started": "2021-12-13T16:58:51.278270Z"
    },
    "papermill": {
     "duration": 0.289452,
     "end_time": "2021-12-13T17:05:43.557474",
     "exception": false,
     "start_time": "2021-12-13T17:05:43.268022",
     "status": "completed"
    },
    "tags": []
   },
   "outputs": [
    {
     "data": {
      "image/png": "[encoded data removed]",
      "text/plain": [
       "<Figure size 432x288 with 1 Axes>"
      ]
     },
     "metadata": {
      "needs_background": "light"
     },
     "output_type": "display_data"
    }
   ],
   "source": [
    "result[result['Pawpularity']<100]['width'].hist(bins=25)\n",
    "plt.show()"
   ]
  },
  {
   "cell_type": "code",
   "execution_count": 24,
   "id": "ffda7cce",
   "metadata": {
    "execution": {
     "iopub.execute_input": "2021-12-13T17:05:43.628969Z",
     "iopub.status.busy": "2021-12-13T17:05:43.627689Z",
     "iopub.status.idle": "2021-12-13T17:05:43.631104Z",
     "shell.execute_reply": "2021-12-13T17:05:43.631589Z",
     "shell.execute_reply.started": "2021-12-13T16:59:46.825175Z"
    },
    "papermill": {
     "duration": 0.042023,
     "end_time": "2021-12-13T17:05:43.631737",
     "exception": false,
     "start_time": "2021-12-13T17:05:43.589714",
     "status": "completed"
    },
    "tags": []
   },
   "outputs": [
    {
     "data": {
      "text/plain": [
       "38.03904358353511"
      ]
     },
     "execution_count": 24,
     "metadata": {},
     "output_type": "execute_result"
    }
   ],
   "source": [
    "labels['Pawpularity'].mean()"
   ]
  },
  {
   "cell_type": "code",
   "execution_count": 25,
   "id": "4e6f2504",
   "metadata": {
    "execution": {
     "iopub.execute_input": "2021-12-13T17:05:43.698510Z",
     "iopub.status.busy": "2021-12-13T17:05:43.697692Z",
     "iopub.status.idle": "2021-12-13T17:05:43.699690Z",
     "shell.execute_reply": "2021-12-13T17:05:43.700132Z",
     "shell.execute_reply.started": "2021-12-13T17:00:18.884197Z"
    },
    "papermill": {
     "duration": 0.035642,
     "end_time": "2021-12-13T17:05:43.700267",
     "exception": false,
     "start_time": "2021-12-13T17:05:43.664625",
     "status": "completed"
    },
    "tags": []
   },
   "outputs": [],
   "source": [
    "dummy_test = labels.copy(deep=True)"
   ]
  },
  {
   "cell_type": "code",
   "execution_count": 26,
   "id": "9cacafa9",
   "metadata": {
    "execution": {
     "iopub.execute_input": "2021-12-13T17:05:43.764010Z",
     "iopub.status.busy": "2021-12-13T17:05:43.763346Z",
     "iopub.status.idle": "2021-12-13T17:05:43.766216Z",
     "shell.execute_reply": "2021-12-13T17:05:43.766679Z",
     "shell.execute_reply.started": "2021-12-13T17:00:33.643045Z"
    },
    "papermill": {
     "duration": 0.037374,
     "end_time": "2021-12-13T17:05:43.766819",
     "exception": false,
     "start_time": "2021-12-13T17:05:43.729445",
     "status": "completed"
    },
    "tags": []
   },
   "outputs": [],
   "source": [
    "dummy_test['dummy_score'] = labels['Pawpularity'].mean()"
   ]
  },
  {
   "cell_type": "code",
   "execution_count": 27,
   "id": "cedb31e1",
   "metadata": {
    "execution": {
     "iopub.execute_input": "2021-12-13T17:05:43.836006Z",
     "iopub.status.busy": "2021-12-13T17:05:43.835151Z",
     "iopub.status.idle": "2021-12-13T17:05:43.840264Z",
     "shell.execute_reply": "2021-12-13T17:05:43.839744Z",
     "shell.execute_reply.started": "2021-12-13T17:01:13.170075Z"
    },
    "papermill": {
     "duration": 0.044623,
     "end_time": "2021-12-13T17:05:43.840426",
     "exception": false,
     "start_time": "2021-12-13T17:05:43.795803",
     "status": "completed"
    },
    "tags": []
   },
   "outputs": [
    {
     "data": {
      "text/html": [
       "<div>\n",
       "<style scoped>\n",
       "    .dataframe tbody tr th:only-of-type {\n",
       "        vertical-align: middle;\n",
       "    }\n",
       "\n",
       "    .dataframe tbody tr th {\n",
       "        vertical-align: top;\n",
       "    }\n",
       "\n",
       "    .dataframe thead th {\n",
       "        text-align: right;\n",
       "    }\n",
       "</style>\n",
       "<table border=\"1\" class=\"dataframe\">\n",
       "  <thead>\n",
       "    <tr style=\"text-align: right;\">\n",
       "      <th></th>\n",
       "      <th>filename</th>\n",
       "      <th>Pawpularity</th>\n",
       "      <th>dummy_score</th>\n",
       "    </tr>\n",
       "  </thead>\n",
       "  <tbody>\n",
       "    <tr>\n",
       "      <th>0</th>\n",
       "      <td>0007de18844b0dbbb5e1f607da0606e0.jpg</td>\n",
       "      <td>63</td>\n",
       "      <td>38.039044</td>\n",
       "    </tr>\n",
       "    <tr>\n",
       "      <th>1</th>\n",
       "      <td>0009c66b9439883ba2750fb825e1d7db.jpg</td>\n",
       "      <td>42</td>\n",
       "      <td>38.039044</td>\n",
       "    </tr>\n",
       "    <tr>\n",
       "      <th>2</th>\n",
       "      <td>0013fd999caf9a3efe1352ca1b0d937e.jpg</td>\n",
       "      <td>28</td>\n",
       "      <td>38.039044</td>\n",
       "    </tr>\n",
       "    <tr>\n",
       "      <th>3</th>\n",
       "      <td>0018df346ac9c1d8413cfcc888ca8246.jpg</td>\n",
       "      <td>15</td>\n",
       "      <td>38.039044</td>\n",
       "    </tr>\n",
       "    <tr>\n",
       "      <th>4</th>\n",
       "      <td>001dc955e10590d3ca4673f034feeef2.jpg</td>\n",
       "      <td>72</td>\n",
       "      <td>38.039044</td>\n",
       "    </tr>\n",
       "  </tbody>\n",
       "</table>\n",
       "</div>"
      ],
      "text/plain": [
       "                               filename  Pawpularity  dummy_score\n",
       "0  0007de18844b0dbbb5e1f607da0606e0.jpg           63    38.039044\n",
       "1  0009c66b9439883ba2750fb825e1d7db.jpg           42    38.039044\n",
       "2  0013fd999caf9a3efe1352ca1b0d937e.jpg           28    38.039044\n",
       "3  0018df346ac9c1d8413cfcc888ca8246.jpg           15    38.039044\n",
       "4  001dc955e10590d3ca4673f034feeef2.jpg           72    38.039044"
      ]
     },
     "execution_count": 27,
     "metadata": {},
     "output_type": "execute_result"
    }
   ],
   "source": [
    "dummy_test.head()"
   ]
  },
  {
   "cell_type": "code",
   "execution_count": 28,
   "id": "8095f7bf",
   "metadata": {
    "execution": {
     "iopub.execute_input": "2021-12-13T17:05:43.912989Z",
     "iopub.status.busy": "2021-12-13T17:05:43.912244Z",
     "iopub.status.idle": "2021-12-13T17:05:44.463561Z",
     "shell.execute_reply": "2021-12-13T17:05:44.463991Z",
     "shell.execute_reply.started": "2021-12-13T17:02:13.888147Z"
    },
    "papermill": {
     "duration": 0.58941,
     "end_time": "2021-12-13T17:05:44.464136",
     "exception": false,
     "start_time": "2021-12-13T17:05:43.874726",
     "status": "completed"
    },
    "tags": []
   },
   "outputs": [
    {
     "data": {
      "text/plain": [
       "20.59095133915306"
      ]
     },
     "execution_count": 28,
     "metadata": {},
     "output_type": "execute_result"
    }
   ],
   "source": [
    "from sklearn.metrics import mean_squared_error\n",
    "y_true = dummy_test['Pawpularity']\n",
    "y_pred = dummy_test['dummy_score']\n",
    "mean_squared_error(y_true, y_pred, squared=False)"
   ]
  }
 ],
 "metadata": {
  "kernelspec": {
   "display_name": "Python 3",
   "language": "python",
   "name": "python3"
  },
  "language_info": {
   "codemirror_mode": {
    "name": "ipython",
    "version": 3
   },
   "file_extension": ".py",
   "mimetype": "text/x-python",
   "name": "python",
   "nbconvert_exporter": "python",
   "pygments_lexer": "ipython3",
   "version": "3.7.10"
  },
  "papermill": {
   "default_parameters": {},
   "duration": 65.516525,
   "end_time": "2021-12-13T17:05:47.926179",
   "environment_variables": {},
   "exception": null,
   "input_path": "__notebook__.ipynb",
   "output_path": "__notebook__.ipynb",
   "parameters": {},
   "start_time": "2021-12-13T17:04:42.409654",
   "version": "2.3.3"
  }
 },
 "nbformat": 4,
 "nbformat_minor": 5
}
