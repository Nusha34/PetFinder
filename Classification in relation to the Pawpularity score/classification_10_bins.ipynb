{
 "cells": [
  {
   "cell_type": "raw",
   "metadata": {
    "_cell_guid": "b1076dfc-b9ad-4769-8c92-a6c4dae69d19",
    "_uuid": "8f2839f25d086af736a60e9eeb907d3b93b6e0e5",
    "execution": {
     "iopub.execute_input": "2022-02-03T19:32:21.536365Z",
     "iopub.status.busy": "2022-02-03T19:32:21.535769Z",
     "iopub.status.idle": "2022-02-03T19:32:21.541148Z",
     "shell.execute_reply": "2022-02-03T19:32:21.540359Z",
     "shell.execute_reply.started": "2022-02-03T19:32:21.536315Z"
    }
   },
   "source": [
    "# This Python 3 environment comes with many helpful analytics libraries installed\n",
    "# It is defined by the kaggle/python Docker image: https://github.com/kaggle/docker-python\n",
    "# For example, here's several helpful packages to load\n",
    "\n",
    "import numpy as np # linear algebra\n",
    "import pandas as pd # data processing, CSV file I/O (e.g. pd.read_csv)\n",
    "from matplotlib import pyplot as plt\n",
    "# Input data files are available in the read-only \"../input/\" directory\n",
    "# For example, running this (by clicking run or pressing Shift+Enter) will list all files under the input directory\n",
    "# You can write up to 20GB to the current directory (/kaggle/working/) that gets preserved as output when you create a version using \"Save & Run All\" \n",
    "# You can also write temporary files to /kaggle/temp/, but they won't be saved outside of the current session"
   ]
  },
  {
   "cell_type": "markdown",
   "metadata": {},
   "source": [
    "https://medium.com/@somilshah112/how-to-find-duplicate-or-similar-images-quickly-with-python-2d636af9452f\n"
   ]
  },
  {
   "cell_type": "code",
   "execution_count": 86,
   "metadata": {
    "execution": {
     "iopub.execute_input": "2022-02-03T19:32:21.543569Z",
     "iopub.status.busy": "2022-02-03T19:32:21.542937Z",
     "iopub.status.idle": "2022-02-03T19:32:21.585808Z",
     "shell.execute_reply": "2022-02-03T19:32:21.585034Z",
     "shell.execute_reply.started": "2022-02-03T19:32:21.543526Z"
    }
   },
   "outputs": [],
   "source": [
    "df=pd.read_csv('../input/petfinder-pawpularity-score/train.csv')"
   ]
  },
  {
   "cell_type": "code",
   "execution_count": 87,
   "metadata": {
    "execution": {
     "iopub.execute_input": "2022-02-03T19:32:21.587560Z",
     "iopub.status.busy": "2022-02-03T19:32:21.587128Z",
     "iopub.status.idle": "2022-02-03T19:32:21.603872Z",
     "shell.execute_reply": "2022-02-03T19:32:21.602979Z",
     "shell.execute_reply.started": "2022-02-03T19:32:21.587520Z"
    }
   },
   "outputs": [],
   "source": [
    "df"
   ]
  },
  {
   "cell_type": "code",
   "execution_count": 88,
   "metadata": {
    "execution": {
     "iopub.execute_input": "2022-02-03T19:32:21.605557Z",
     "iopub.status.busy": "2022-02-03T19:32:21.605090Z",
     "iopub.status.idle": "2022-02-03T19:32:21.618739Z",
     "shell.execute_reply": "2022-02-03T19:32:21.618045Z",
     "shell.execute_reply.started": "2022-02-03T19:32:21.605525Z"
    }
   },
   "outputs": [],
   "source": [
    "df[\"img\"] = df[\"Id\"].apply(lambda x:x+ \".jpg\")"
   ]
  },
  {
   "cell_type": "code",
   "execution_count": 89,
   "metadata": {
    "execution": {
     "iopub.execute_input": "2022-02-03T19:32:21.620886Z",
     "iopub.status.busy": "2022-02-03T19:32:21.620459Z",
     "iopub.status.idle": "2022-02-03T19:32:21.632177Z",
     "shell.execute_reply": "2022-02-03T19:32:21.631484Z",
     "shell.execute_reply.started": "2022-02-03T19:32:21.620847Z"
    }
   },
   "outputs": [],
   "source": [
    "df=df[['img', 'Pawpularity']]"
   ]
  },
  {
   "cell_type": "code",
   "execution_count": 90,
   "metadata": {
    "execution": {
     "iopub.execute_input": "2022-02-03T19:32:21.633747Z",
     "iopub.status.busy": "2022-02-03T19:32:21.633379Z",
     "iopub.status.idle": "2022-02-03T19:32:21.649110Z",
     "shell.execute_reply": "2022-02-03T19:32:21.648566Z",
     "shell.execute_reply.started": "2022-02-03T19:32:21.633717Z"
    }
   },
   "outputs": [],
   "source": [
    "df"
   ]
  },
  {
   "cell_type": "code",
   "execution_count": 91,
   "metadata": {
    "execution": {
     "iopub.execute_input": "2022-02-03T19:32:21.650603Z",
     "iopub.status.busy": "2022-02-03T19:32:21.650384Z",
     "iopub.status.idle": "2022-02-03T19:32:24.608718Z",
     "shell.execute_reply": "2022-02-03T19:32:24.607951Z",
     "shell.execute_reply.started": "2022-02-03T19:32:21.650580Z"
    }
   },
   "outputs": [],
   "source": [
    "for i in range(len(df)):\n",
    "    if df['Pawpularity'][i] in range(0,10):\n",
    "        df['Pawpularity'][i]=0\n",
    "    elif df['Pawpularity'][i] in range(10,20):\n",
    "        df['Pawpularity'][i]=1\n",
    "    elif df['Pawpularity'][i] in range(20,30):\n",
    "        df['Pawpularity'][i]=2\n",
    "    elif df['Pawpularity'][i] in range(30,40):\n",
    "        df['Pawpularity'][i]=3\n",
    "    elif df['Pawpularity'][i] in range(40,50):\n",
    "        df['Pawpularity'][i]=4\n",
    "    elif df['Pawpularity'][i] in range(50,60):\n",
    "        df['Pawpularity'][i]=5\n",
    "    elif df['Pawpularity'][i] in range(60,70):\n",
    "        df['Pawpularity'][i]=6\n",
    "    elif df['Pawpularity'][i] in range(70,80):\n",
    "        df['Pawpularity'][i]=7\n",
    "    elif df['Pawpularity'][i] in range(80,90):\n",
    "        df['Pawpularity'][i]=8\n",
    "    elif df['Pawpularity'][i] in range(90,101):\n",
    "        df['Pawpularity'][i]=9"
   ]
  },
  {
   "cell_type": "code",
   "execution_count": null,
   "metadata": {},
   "outputs": [],
   "source": []
  },
  {
   "cell_type": "markdown",
   "metadata": {},
   "source": [
    "# Cleaning"
   ]
  },
  {
   "cell_type": "markdown",
   "metadata": {},
   "source": [
    "## Delete duplicates"
   ]
  },
  {
   "cell_type": "code",
   "execution_count": 92,
   "metadata": {
    "execution": {
     "iopub.execute_input": "2022-02-03T19:32:24.610408Z",
     "iopub.status.busy": "2022-02-03T19:32:24.610190Z",
     "iopub.status.idle": "2022-02-03T19:32:24.614043Z",
     "shell.execute_reply": "2022-02-03T19:32:24.613200Z",
     "shell.execute_reply.started": "2022-02-03T19:32:24.610383Z"
    }
   },
   "outputs": [],
   "source": [
    "import os\n",
    "from PIL import Image\n",
    "import imagehash\n"
   ]
  },
  {
   "cell_type": "code",
   "execution_count": 93,
   "metadata": {
    "execution": {
     "iopub.execute_input": "2022-02-03T19:32:24.616856Z",
     "iopub.status.busy": "2022-02-03T19:32:24.616119Z",
     "iopub.status.idle": "2022-02-03T19:32:24.624246Z",
     "shell.execute_reply": "2022-02-03T19:32:24.623622Z",
     "shell.execute_reply.started": "2022-02-03T19:32:24.616822Z"
    }
   },
   "outputs": [],
   "source": [
    "TRAIN_PATH='../input/petfinder-pawpularity-score/train'"
   ]
  },
  {
   "cell_type": "code",
   "execution_count": 94,
   "metadata": {
    "execution": {
     "iopub.execute_input": "2022-02-03T19:32:24.625811Z",
     "iopub.status.busy": "2022-02-03T19:32:24.625324Z",
     "iopub.status.idle": "2022-02-03T19:32:24.634735Z",
     "shell.execute_reply": "2022-02-03T19:32:24.634029Z",
     "shell.execute_reply.started": "2022-02-03T19:32:24.625779Z"
    }
   },
   "outputs": [],
   "source": [
    "#images_names=os.listdir(TRAIN_PATH)"
   ]
  },
  {
   "cell_type": "code",
   "execution_count": 95,
   "metadata": {
    "execution": {
     "iopub.execute_input": "2022-02-03T19:32:24.636622Z",
     "iopub.status.busy": "2022-02-03T19:32:24.636324Z",
     "iopub.status.idle": "2022-02-03T19:32:24.644416Z",
     "shell.execute_reply": "2022-02-03T19:32:24.643696Z",
     "shell.execute_reply.started": "2022-02-03T19:32:24.636586Z"
    }
   },
   "outputs": [],
   "source": [
    "#hashes={}\n",
    "#duplicates=[]"
   ]
  },
  {
   "cell_type": "code",
   "execution_count": 96,
   "metadata": {
    "execution": {
     "iopub.execute_input": "2022-02-03T19:32:24.646030Z",
     "iopub.status.busy": "2022-02-03T19:32:24.645771Z",
     "iopub.status.idle": "2022-02-03T19:32:24.655894Z",
     "shell.execute_reply": "2022-02-03T19:32:24.655213Z",
     "shell.execute_reply.started": "2022-02-03T19:32:24.645995Z"
    }
   },
   "outputs": [],
   "source": [
    "#for image in images_names:\n",
    "#    with Image.open(os.path.join(TRAIN_PATH, image)) as img:\n",
    "#        temp_hash = imagehash.average_hash(img, 10)\n",
    "#        if temp_hash in hashes:\n",
    "#            #print('Found')\n",
    " #           duplicates.append(image)\n",
    " #       else:\n",
    " #           hashes[temp_hash]=image"
   ]
  },
  {
   "cell_type": "code",
   "execution_count": 97,
   "metadata": {
    "execution": {
     "iopub.execute_input": "2022-02-03T19:32:24.657642Z",
     "iopub.status.busy": "2022-02-03T19:32:24.657257Z",
     "iopub.status.idle": "2022-02-03T19:32:24.668367Z",
     "shell.execute_reply": "2022-02-03T19:32:24.667828Z",
     "shell.execute_reply.started": "2022-02-03T19:32:24.657612Z"
    }
   },
   "outputs": [],
   "source": [
    "#duplicates_2=[]"
   ]
  },
  {
   "cell_type": "code",
   "execution_count": 98,
   "metadata": {
    "_kg_hide-output": true,
    "execution": {
     "iopub.execute_input": "2022-02-03T19:32:24.669701Z",
     "iopub.status.busy": "2022-02-03T19:32:24.669480Z",
     "iopub.status.idle": "2022-02-03T19:32:24.677608Z",
     "shell.execute_reply": "2022-02-03T19:32:24.676910Z",
     "shell.execute_reply.started": "2022-02-03T19:32:24.669667Z"
    }
   },
   "outputs": [],
   "source": [
    "#for img in duplicates:\n",
    " #   fig,ax = plt.subplots(ncols=2,nrows=1)\n",
    " #   print('DUPLICATES')\n",
    " #   print(df[df['img']==img])\n",
    " #   img=Image.open(os.path.join(TRAIN_PATH, img))\n",
    " #   ax[0].imshow(img)\n",
    "    #pyplot.show()\n",
    "   # temp_hash = imagehash.average_hash(img, 10)\n",
    "  #  for i in hashes:\n",
    "    #    if temp_hash==i:\n",
    "     #       img_dup=hashes[i]\n",
    "      #      print(df[df['img']==img_dup])\n",
    "       #     duplicates_2.append(img_dup)\n",
    "        #    img_dup=Image.open(os.path.join(TRAIN_PATH, img_dup))\n",
    "         #   ax[1].imshow(img_dup)\n",
    "            #pyplot.imshow(img_dup)\n",
    "          #  plt.show()\n",
    "        "
   ]
  },
  {
   "cell_type": "code",
   "execution_count": 99,
   "metadata": {
    "execution": {
     "iopub.execute_input": "2022-02-03T19:32:24.678902Z",
     "iopub.status.busy": "2022-02-03T19:32:24.678690Z",
     "iopub.status.idle": "2022-02-03T19:32:24.687229Z",
     "shell.execute_reply": "2022-02-03T19:32:24.686682Z",
     "shell.execute_reply.started": "2022-02-03T19:32:24.678878Z"
    }
   },
   "outputs": [],
   "source": [
    "#for duplicate in duplicates:\n",
    "#    os.remove(os.path.join(TRAIN_PATH,duplicate))\n",
    "    #print(\"{} Deleted Succesfully!\".format(duplicate))"
   ]
  },
  {
   "cell_type": "code",
   "execution_count": 100,
   "metadata": {
    "execution": {
     "iopub.execute_input": "2022-02-03T19:32:24.689268Z",
     "iopub.status.busy": "2022-02-03T19:32:24.688703Z",
     "iopub.status.idle": "2022-02-03T19:32:24.698396Z",
     "shell.execute_reply": "2022-02-03T19:32:24.697647Z",
     "shell.execute_reply.started": "2022-02-03T19:32:24.689229Z"
    }
   },
   "outputs": [],
   "source": [
    "#df=df.loc[~df['img'].isin(duplicates)]"
   ]
  },
  {
   "cell_type": "code",
   "execution_count": 101,
   "metadata": {
    "execution": {
     "iopub.execute_input": "2022-02-03T19:32:24.700101Z",
     "iopub.status.busy": "2022-02-03T19:32:24.699567Z",
     "iopub.status.idle": "2022-02-03T19:32:24.708804Z",
     "shell.execute_reply": "2022-02-03T19:32:24.708250Z",
     "shell.execute_reply.started": "2022-02-03T19:32:24.700024Z"
    }
   },
   "outputs": [],
   "source": [
    "#df=df.loc[~df['img'].isin(duplicates_2)]"
   ]
  },
  {
   "cell_type": "code",
   "execution_count": 102,
   "metadata": {
    "execution": {
     "iopub.execute_input": "2022-02-03T19:32:24.712861Z",
     "iopub.status.busy": "2022-02-03T19:32:24.712529Z",
     "iopub.status.idle": "2022-02-03T19:32:24.719284Z",
     "shell.execute_reply": "2022-02-03T19:32:24.718725Z",
     "shell.execute_reply.started": "2022-02-03T19:32:24.712825Z"
    }
   },
   "outputs": [],
   "source": [
    "#len_1=len(df)"
   ]
  },
  {
   "cell_type": "code",
   "execution_count": 103,
   "metadata": {
    "execution": {
     "iopub.execute_input": "2022-02-03T19:32:24.721127Z",
     "iopub.status.busy": "2022-02-03T19:32:24.720311Z",
     "iopub.status.idle": "2022-02-03T19:32:24.730364Z",
     "shell.execute_reply": "2022-02-03T19:32:24.729784Z",
     "shell.execute_reply.started": "2022-02-03T19:32:24.721086Z"
    }
   },
   "outputs": [],
   "source": [
    "#df.index=np.arange(0,len_1)"
   ]
  },
  {
   "cell_type": "code",
   "execution_count": 104,
   "metadata": {
    "execution": {
     "iopub.execute_input": "2022-02-03T19:32:24.732595Z",
     "iopub.status.busy": "2022-02-03T19:32:24.732147Z",
     "iopub.status.idle": "2022-02-03T19:32:24.740931Z",
     "shell.execute_reply": "2022-02-03T19:32:24.740140Z",
     "shell.execute_reply.started": "2022-02-03T19:32:24.732555Z"
    }
   },
   "outputs": [],
   "source": [
    "import numpy as np\n",
    "import pandas as pd\n",
    "import seaborn as sns\n",
    "import matplotlib.pyplot as plt\n",
    "import torch\n",
    "import torchvision\n",
    "import torch.nn as nn\n",
    "import torch.optim as optim\n",
    "import torch.nn.functional as F\n",
    "from torchvision import transforms, utils, datasets\n",
    "from torch.utils.data import Dataset, DataLoader, SubsetRandomSampler\n",
    "from sklearn.metrics import classification_report, confusion_matrix\n",
    "from sklearn.model_selection import train_test_split"
   ]
  },
  {
   "cell_type": "code",
   "execution_count": 105,
   "metadata": {
    "execution": {
     "iopub.execute_input": "2022-02-03T19:32:24.742560Z",
     "iopub.status.busy": "2022-02-03T19:32:24.742210Z",
     "iopub.status.idle": "2022-02-03T19:32:24.751367Z",
     "shell.execute_reply": "2022-02-03T19:32:24.750799Z",
     "shell.execute_reply.started": "2022-02-03T19:32:24.742530Z"
    }
   },
   "outputs": [],
   "source": [
    "device = torch.device(\"cuda\" if torch.cuda.is_available() else \"cpu\")"
   ]
  },
  {
   "cell_type": "code",
   "execution_count": 106,
   "metadata": {
    "execution": {
     "iopub.execute_input": "2022-02-03T19:32:24.752635Z",
     "iopub.status.busy": "2022-02-03T19:32:24.752186Z",
     "iopub.status.idle": "2022-02-03T19:32:24.764259Z",
     "shell.execute_reply": "2022-02-03T19:32:24.763249Z",
     "shell.execute_reply.started": "2022-02-03T19:32:24.752606Z"
    }
   },
   "outputs": [],
   "source": [
    "training, validation = train_test_split(df, test_size = 0.25, random_state=17)"
   ]
  },
  {
   "cell_type": "code",
   "execution_count": 107,
   "metadata": {
    "execution": {
     "iopub.execute_input": "2022-02-03T19:32:24.765753Z",
     "iopub.status.busy": "2022-02-03T19:32:24.765393Z",
     "iopub.status.idle": "2022-02-03T19:32:24.772010Z",
     "shell.execute_reply": "2022-02-03T19:32:24.771219Z",
     "shell.execute_reply.started": "2022-02-03T19:32:24.765723Z"
    }
   },
   "outputs": [],
   "source": [
    "X_train=training['img']\n",
    "X_val=validation['img']\n",
    "y_train=training['Pawpularity']\n",
    "y_val=validation['Pawpularity']"
   ]
  },
  {
   "cell_type": "code",
   "execution_count": 108,
   "metadata": {
    "execution": {
     "iopub.execute_input": "2022-02-03T19:32:24.773411Z",
     "iopub.status.busy": "2022-02-03T19:32:24.773190Z",
     "iopub.status.idle": "2022-02-03T19:32:24.784271Z",
     "shell.execute_reply": "2022-02-03T19:32:24.783667Z",
     "shell.execute_reply.started": "2022-02-03T19:32:24.773385Z"
    }
   },
   "outputs": [],
   "source": [
    "class PetfinderDataset(Dataset):\n",
    "    def __init__(self, dataframe, data_path, transform=None, target_transform=None):\n",
    "        self.dataframe=dataframe\n",
    "        self.data_path=data_path\n",
    "        self.transform=transform\n",
    "        self.target_transform=target_transform\n",
    "        \n",
    "    def __len__(self):\n",
    "        return len(self.dataframe)\n",
    "    \n",
    "    def __getitem__(self, idx):\n",
    "        img_name=self.dataframe['img'].iloc[idx]\n",
    "        img=Image.open(os.path.join(self.data_path, img_name))\n",
    "        img=self.transform(img)\n",
    "        label=self.dataframe['Pawpularity'].iloc[idx]\n",
    "        return img, label"
   ]
  },
  {
   "cell_type": "code",
   "execution_count": 109,
   "metadata": {
    "execution": {
     "iopub.execute_input": "2022-02-03T19:32:24.786006Z",
     "iopub.status.busy": "2022-02-03T19:32:24.785247Z",
     "iopub.status.idle": "2022-02-03T19:32:24.797386Z",
     "shell.execute_reply": "2022-02-03T19:32:24.796577Z",
     "shell.execute_reply.started": "2022-02-03T19:32:24.785972Z"
    }
   },
   "outputs": [],
   "source": [
    "image_size = 224 \n",
    "\n",
    "transform = transforms.Compose([\n",
    "    transforms.Resize(255), \n",
    "    transforms.CenterCrop(image_size),\n",
    "    transforms.RandomRotation(20),\n",
    "    transforms.RandomHorizontalFlip(),\n",
    "    transforms.ToTensor(),\n",
    "    transforms.Normalize(mean=[0.485, 0.456, 0.406], std=[0.229, 0.224, 0.225]) \n",
    "])\n",
    "\n",
    "transform_val=transforms.Compose([\n",
    "    transforms.Resize(255),                                       \n",
    "    transforms.CenterCrop(224),\n",
    "    transforms.ToTensor(),\n",
    "    transforms.Normalize(mean=[0.485, 0.456, 0.406], std=[0.229, 0.224, 0.225])\n",
    "])"
   ]
  },
  {
   "cell_type": "code",
   "execution_count": 110,
   "metadata": {
    "execution": {
     "iopub.execute_input": "2022-02-03T19:32:24.799503Z",
     "iopub.status.busy": "2022-02-03T19:32:24.798958Z",
     "iopub.status.idle": "2022-02-03T19:32:24.807926Z",
     "shell.execute_reply": "2022-02-03T19:32:24.807178Z",
     "shell.execute_reply.started": "2022-02-03T19:32:24.799462Z"
    }
   },
   "outputs": [],
   "source": [
    "dataset_train = PetfinderDataset(training, TRAIN_PATH, transform=transform)\n",
    "dataloader_train = DataLoader(dataset_train, batch_size=8)\n",
    "dataset_val=PetfinderDataset(validation, TRAIN_PATH, transform=transform_val)\n",
    "dataloader_val=DataLoader(dataset_val, batch_size=8)"
   ]
  },
  {
   "cell_type": "code",
   "execution_count": 111,
   "metadata": {
    "execution": {
     "iopub.execute_input": "2022-02-03T19:32:24.810034Z",
     "iopub.status.busy": "2022-02-03T19:32:24.809490Z",
     "iopub.status.idle": "2022-02-03T19:32:25.207461Z",
     "shell.execute_reply": "2022-02-03T19:32:25.206495Z",
     "shell.execute_reply.started": "2022-02-03T19:32:24.809994Z"
    }
   },
   "outputs": [],
   "source": [
    "from torchvision.utils import make_grid\n",
    "\n",
    "for images, labels in dataloader_train:\n",
    "    \n",
    "    fig, ax = plt.subplots(figsize = (10, 10))\n",
    "    ax.set_xticks([])\n",
    "    ax.set_yticks([])\n",
    "    ax.imshow(make_grid(images, 4).permute(1,2,0))\n",
    "    print(labels)\n",
    "    break"
   ]
  },
  {
   "cell_type": "code",
   "execution_count": 112,
   "metadata": {
    "execution": {
     "iopub.execute_input": "2022-02-03T19:32:25.208753Z",
     "iopub.status.busy": "2022-02-03T19:32:25.208554Z",
     "iopub.status.idle": "2022-02-03T19:32:25.581552Z",
     "shell.execute_reply": "2022-02-03T19:32:25.580805Z",
     "shell.execute_reply.started": "2022-02-03T19:32:25.208729Z"
    }
   },
   "outputs": [],
   "source": [
    "for images, labels in dataloader_val:\n",
    "    \n",
    "    fig, ax = plt.subplots(figsize = (10, 10))\n",
    "    ax.set_xticks([])\n",
    "    ax.set_yticks([])\n",
    "    ax.imshow(make_grid(images, 4).permute(1,2,0))\n",
    "    break"
   ]
  },
  {
   "cell_type": "code",
   "execution_count": 113,
   "metadata": {
    "execution": {
     "iopub.execute_input": "2022-02-03T19:32:25.582853Z",
     "iopub.status.busy": "2022-02-03T19:32:25.582663Z",
     "iopub.status.idle": "2022-02-03T19:32:25.587469Z",
     "shell.execute_reply": "2022-02-03T19:32:25.586649Z",
     "shell.execute_reply.started": "2022-02-03T19:32:25.582829Z"
    }
   },
   "outputs": [],
   "source": [
    "from torchvision import models\n"
   ]
  },
  {
   "cell_type": "code",
   "execution_count": 114,
   "metadata": {
    "execution": {
     "iopub.execute_input": "2022-02-03T19:32:25.588843Z",
     "iopub.status.busy": "2022-02-03T19:32:25.588652Z",
     "iopub.status.idle": "2022-02-03T19:32:33.126178Z",
     "shell.execute_reply": "2022-02-03T19:32:33.125260Z",
     "shell.execute_reply.started": "2022-02-03T19:32:25.588819Z"
    }
   },
   "outputs": [],
   "source": [
    "pip install pretrainedmodels"
   ]
  },
  {
   "cell_type": "code",
   "execution_count": null,
   "metadata": {},
   "outputs": [],
   "source": []
  },
  {
   "cell_type": "code",
   "execution_count": 115,
   "metadata": {
    "execution": {
     "iopub.execute_input": "2022-02-03T19:32:33.128809Z",
     "iopub.status.busy": "2022-02-03T19:32:33.128465Z",
     "iopub.status.idle": "2022-02-03T19:32:33.132770Z",
     "shell.execute_reply": "2022-02-03T19:32:33.131989Z",
     "shell.execute_reply.started": "2022-02-03T19:32:33.128766Z"
    }
   },
   "outputs": [],
   "source": [
    "import pretrainedmodels"
   ]
  },
  {
   "cell_type": "code",
   "execution_count": 116,
   "metadata": {
    "execution": {
     "iopub.execute_input": "2022-02-03T19:32:33.133992Z",
     "iopub.status.busy": "2022-02-03T19:32:33.133721Z",
     "iopub.status.idle": "2022-02-03T19:32:33.659381Z",
     "shell.execute_reply": "2022-02-03T19:32:33.658714Z",
     "shell.execute_reply.started": "2022-02-03T19:32:33.133957Z"
    }
   },
   "outputs": [],
   "source": [
    "resnet = models.resnet50(pretrained=True)\n",
    "#resnet=resnet(include_top=False, weights='imagenet')"
   ]
  },
  {
   "cell_type": "code",
   "execution_count": 117,
   "metadata": {
    "execution": {
     "iopub.execute_input": "2022-02-03T19:32:33.660990Z",
     "iopub.status.busy": "2022-02-03T19:32:33.660598Z",
     "iopub.status.idle": "2022-02-03T19:32:33.667015Z",
     "shell.execute_reply": "2022-02-03T19:32:33.666280Z",
     "shell.execute_reply.started": "2022-02-03T19:32:33.660958Z"
    }
   },
   "outputs": [],
   "source": [
    "\n",
    "num_ftrs = resnet.fc.in_features\n",
    "print(num_ftrs)\n",
    "# Here the size of each output sample is set to 2.\n",
    "# Alternatively, it can be generalized to nn.Linear(num_ftrs, len(class_names)).\n",
    "#resnet.fc = nn.Linear(num_ftrs, 2)\n",
    "\n",
    "resnet.fc = nn.Sequential(\n",
    "    #nn.Linear(num_ftrs, 256),\n",
    "    #nn.Dropout(0.6),\n",
    "    #nn.ReLU(inplace=True),\n",
    "    #nn.Dropout(0.25),\n",
    "    nn.Linear(num_ftrs, 10),\n",
    "    nn.Sigmoid()\n",
    ")\n"
   ]
  },
  {
   "cell_type": "code",
   "execution_count": 118,
   "metadata": {
    "execution": {
     "iopub.execute_input": "2022-02-03T19:32:33.668343Z",
     "iopub.status.busy": "2022-02-03T19:32:33.668137Z",
     "iopub.status.idle": "2022-02-03T19:32:33.681310Z",
     "shell.execute_reply": "2022-02-03T19:32:33.680516Z",
     "shell.execute_reply.started": "2022-02-03T19:32:33.668318Z"
    }
   },
   "outputs": [],
   "source": [
    "resnet"
   ]
  },
  {
   "cell_type": "code",
   "execution_count": 119,
   "metadata": {
    "execution": {
     "iopub.execute_input": "2022-02-03T19:32:33.682474Z",
     "iopub.status.busy": "2022-02-03T19:32:33.682257Z",
     "iopub.status.idle": "2022-02-03T19:32:33.693822Z",
     "shell.execute_reply": "2022-02-03T19:32:33.692867Z",
     "shell.execute_reply.started": "2022-02-03T19:32:33.682429Z"
    }
   },
   "outputs": [],
   "source": [
    "#CUDA_LAUNCH_BLOCKING=1."
   ]
  },
  {
   "cell_type": "code",
   "execution_count": 120,
   "metadata": {
    "execution": {
     "iopub.execute_input": "2022-02-03T19:32:33.695563Z",
     "iopub.status.busy": "2022-02-03T19:32:33.695301Z",
     "iopub.status.idle": "2022-02-03T19:32:33.705169Z",
     "shell.execute_reply": "2022-02-03T19:32:33.704319Z",
     "shell.execute_reply.started": "2022-02-03T19:32:33.695535Z"
    }
   },
   "outputs": [],
   "source": [
    "#CUDA_LAUNCH_BLOCKING=1\n",
    "#train_on_gpu = torch.cuda.is_available()\n",
    "#if train_on_gpu:\n",
    "#    resnet.cuda()   \n",
    "        "
   ]
  },
  {
   "cell_type": "code",
   "execution_count": 121,
   "metadata": {
    "execution": {
     "iopub.execute_input": "2022-02-03T19:32:33.706507Z",
     "iopub.status.busy": "2022-02-03T19:32:33.706294Z",
     "iopub.status.idle": "2022-02-03T19:32:33.718318Z",
     "shell.execute_reply": "2022-02-03T19:32:33.717527Z",
     "shell.execute_reply.started": "2022-02-03T19:32:33.706481Z"
    }
   },
   "outputs": [],
   "source": [
    "import torch.optim as optim\n",
    "\n",
    "# specify loss function\n",
    "criterion = torch.nn.CrossEntropyLoss()\n",
    "\n",
    "# specify optimizer\n",
    "optimizer = torch.optim.Adam(resnet.parameters(), lr = 0.00001)"
   ]
  },
  {
   "cell_type": "code",
   "execution_count": null,
   "metadata": {},
   "outputs": [],
   "source": []
  },
  {
   "cell_type": "code",
   "execution_count": 122,
   "metadata": {
    "execution": {
     "iopub.execute_input": "2022-02-03T19:32:33.720170Z",
     "iopub.status.busy": "2022-02-03T19:32:33.719782Z",
     "iopub.status.idle": "2022-02-03T19:32:33.729752Z",
     "shell.execute_reply": "2022-02-03T19:32:33.728962Z",
     "shell.execute_reply.started": "2022-02-03T19:32:33.720135Z"
    }
   },
   "outputs": [],
   "source": [
    "def accuracy(preds, trues):\n",
    "    ### Converting preds to 0 or 1\n",
    "    \n",
    "\n",
    "    #preds = [0 if preds[i][0]>=preds[i][1] else 1 for i in range(len(preds))]\n",
    "    #preds=preds.to('cpu').detach().numpy()\n",
    "    probs = [torch.argmax(preds[i]) for i in range(len(preds))]\n",
    "    #print(probs)\n",
    "    \n",
    "    ### Calculating accuracy by comparing predictions with true labels\n",
    "    acc = [1 if probs[i] == trues[i] else 0 for i in range(len(probs))]\n",
    "    #print(trues)\n",
    "    #print(acc)\n",
    "    ### Summing over all correct predictions\n",
    "    acc = np.sum(acc) / len(preds)\n",
    "    #print(acc)\n",
    "    return (acc * 100)\n",
    "    #return torch.tensor(torch.sum(preds == labels).item() / len(preds))"
   ]
  },
  {
   "cell_type": "code",
   "execution_count": 123,
   "metadata": {
    "execution": {
     "iopub.execute_input": "2022-02-03T19:32:33.731397Z",
     "iopub.status.busy": "2022-02-03T19:32:33.731171Z",
     "iopub.status.idle": "2022-02-03T19:32:33.741012Z",
     "shell.execute_reply": "2022-02-03T19:32:33.740286Z",
     "shell.execute_reply.started": "2022-02-03T19:32:33.731373Z"
    }
   },
   "outputs": [],
   "source": [
    "import sklearn.metrics"
   ]
  },
  {
   "cell_type": "code",
   "execution_count": 124,
   "metadata": {
    "execution": {
     "iopub.execute_input": "2022-02-03T19:32:33.742641Z",
     "iopub.status.busy": "2022-02-03T19:32:33.742385Z",
     "iopub.status.idle": "2022-02-03T19:32:33.753760Z",
     "shell.execute_reply": "2022-02-03T19:32:33.752916Z",
     "shell.execute_reply.started": "2022-02-03T19:32:33.742615Z"
    }
   },
   "outputs": [],
   "source": [
    "def other_metrics(preds,trues):\n",
    "    #print(preds)\n",
    "\n",
    "    y_pred = [0 if preds[i][0]>=preds[i][1] else 1 for i in range(len(preds))]\n",
    "    #y_pred = [1 if preds[i] == trues[i] else 0 for i in range(len(preds))]\n",
    "    \n",
    "    #y_pred = np.array(y_pred)# List to Numpy.Arra\n",
    "    #y_pred = torch.from_numpy(y_pred) # array2tensor\n",
    "    #y_pred.get_device()\n",
    "    #y_pred.cuda()\n",
    "    #print(y_pred)\n",
    "    #print(trues)\n",
    "    trues= trues.to('cpu').numpy()\n",
    "    #trues=trues.cpu()\n",
    "    #print(trues)\n",
    "    #print(y_pred)\n",
    "    \n",
    "    \n",
    "    r=sklearn.metrics.confusion_matrix(trues, y_pred)\n",
    "    precision = sklearn.metrics.precision_score(trues, y_pred)\n",
    "    recall = sklearn.metrics.recall_score(trues, y_pred)\n",
    "    \n",
    "    return r, precision, recall "
   ]
  },
  {
   "cell_type": "code",
   "execution_count": 125,
   "metadata": {
    "execution": {
     "iopub.execute_input": "2022-02-03T19:32:33.755732Z",
     "iopub.status.busy": "2022-02-03T19:32:33.755237Z",
     "iopub.status.idle": "2022-02-04T03:17:59.888434Z",
     "shell.execute_reply": "2022-02-04T03:17:59.886813Z",
     "shell.execute_reply.started": "2022-02-03T19:32:33.755698Z"
    }
   },
   "outputs": [],
   "source": [
    "n_epochs = 10\n",
    "valid_loss_min=np.Inf\n",
    "train_loss_list=[]\n",
    "val_loss_list=[]\n",
    "\n",
    "for epoch in range(1, n_epochs+1):\n",
    "    #print(epoch)\n",
    "    train_loss = 0.0\n",
    "    valid_loss = 0.0\n",
    "    \n",
    "    resnet.train()\n",
    "    for data, target in dataloader_train:\n",
    "        #if train_on_gpu:\n",
    "        #    data, target = data.cuda(), target.cuda()\n",
    "        optimizer.zero_grad()\n",
    "        output = resnet(data)\n",
    "        #print(output)\n",
    "        loss = criterion(output, target)\n",
    "        #print(loss)\n",
    "        acc_train=accuracy(output, target)\n",
    "        #print(acc_train)\n",
    "        #matrix_tr, precision_tr, recall_tr=other_metrics(output, target)\n",
    "        loss.backward()\n",
    "        optimizer.step()\n",
    "        train_loss += loss.item()*data.size(0)\n",
    "        \n",
    "        \n",
    "    resnet.eval()\n",
    "    \n",
    "    for data, target in dataloader_val:\n",
    "        #if train_on_gpu:\n",
    "        #    data, target = data.cuda(), target.cuda()\n",
    "        output = resnet(data)\n",
    "        loss = criterion(output, target)\n",
    "        acc_val=accuracy(output, target)\n",
    "        #matrix_val, precision_val, recall_val=other_metrics(output, target)\n",
    "        valid_loss += loss.item()*data.size(0)\n",
    "        \n",
    "    \n",
    "    train_loss = train_loss/len(dataloader_train.dataset)\n",
    "    train_loss_list.append(train_loss)\n",
    "    valid_loss = valid_loss/len(dataloader_val.dataset)\n",
    "    val_loss_list.append(valid_loss)\n",
    "\n",
    "    \n",
    "    print('Epoch: {} \\tTraining Loss: {:.6f} \\t Training Accuracy: {:.6f} \\t Validation Loss: {:.6f} Validation Accuracy: {:.6f}'.format(\n",
    "        epoch, train_loss, acc_train, valid_loss, acc_val))\n",
    "    \n",
    "    #print('Train metrics.\\n Confusion Matrix:{} \\t Precision: {}\\t Recall {}'.format( matrix_tr, precision_tr, recall_tr))\n",
    "    #print('Validation metrics.\\n Confusion Matrix:{} \\t Precision: {}\\t Recall {}'.format( matrix_val, precision_val, recall_val))\n",
    "    \n",
    "    if valid_loss <= valid_loss_min:\n",
    "        print('Validation loss decreased ({:.6f} --> {:.6f}).  Saving model ...'.format(\n",
    "        valid_loss_min,\n",
    "        valid_loss))\n",
    "        torch.save(resnet.state_dict(), 'model_cifar.pt')\n",
    "        valid_loss_min = valid_loss\n",
    "    "
   ]
  },
  {
   "cell_type": "code",
   "execution_count": 126,
   "metadata": {
    "execution": {
     "iopub.execute_input": "2022-02-04T03:17:59.893550Z",
     "iopub.status.busy": "2022-02-04T03:17:59.892879Z",
     "iopub.status.idle": "2022-02-04T03:17:59.902698Z",
     "shell.execute_reply": "2022-02-04T03:17:59.901813Z",
     "shell.execute_reply.started": "2022-02-04T03:17:59.893514Z"
    }
   },
   "outputs": [],
   "source": [
    "print(train_loss_list)\n",
    "print(val_loss_list)"
   ]
  },
  {
   "cell_type": "code",
   "execution_count": 127,
   "metadata": {
    "execution": {
     "iopub.execute_input": "2022-02-04T03:17:59.904493Z",
     "iopub.status.busy": "2022-02-04T03:17:59.904105Z",
     "iopub.status.idle": "2022-02-04T03:17:59.919769Z",
     "shell.execute_reply": "2022-02-04T03:17:59.918910Z",
     "shell.execute_reply.started": "2022-02-04T03:17:59.904454Z"
    }
   },
   "outputs": [],
   "source": [
    "def plot_losses(train_losses, val_losses):\n",
    "    #train_losses = [x.get('train_loss') for x in history]\n",
    "    #val_losses = [x['val_loss'] for x in history]\n",
    "    plt.plot(train_losses, '-bx')\n",
    "    plt.plot(val_losses, '-rx')\n",
    "    plt.xlabel('epoch')\n",
    "    plt.ylabel('loss')\n",
    "    plt.legend(['Training', 'Validation'])\n",
    "    plt.title('Loss vs. No. of epochs');"
   ]
  },
  {
   "cell_type": "code",
   "execution_count": 128,
   "metadata": {
    "execution": {
     "iopub.execute_input": "2022-02-04T03:17:59.921377Z",
     "iopub.status.busy": "2022-02-04T03:17:59.921094Z",
     "iopub.status.idle": "2022-02-04T03:18:00.189329Z",
     "shell.execute_reply": "2022-02-04T03:18:00.188392Z",
     "shell.execute_reply.started": "2022-02-04T03:17:59.921344Z"
    }
   },
   "outputs": [],
   "source": [
    "plot_losses(train_loss_list, val_loss_list)"
   ]
  },
  {
   "cell_type": "code",
   "execution_count": null,
   "metadata": {},
   "outputs": [],
   "source": []
  }
 ],
 "metadata": {
  "kernelspec": {
   "display_name": "Python 3",
   "language": "python",
   "name": "python3"
  },
  "language_info": {
   "codemirror_mode": {
    "name": "ipython",
    "version": 3
   },
   "file_extension": ".py",
   "mimetype": "text/x-python",
   "name": "python",
   "nbconvert_exporter": "python",
   "pygments_lexer": "ipython3",
   "version": "3.8.8"
  }
 },
 "nbformat": 4,
 "nbformat_minor": 4
}
