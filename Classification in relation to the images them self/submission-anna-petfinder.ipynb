{
 "cells": [
  {
   "cell_type": "code",
   "execution_count": 1,
   "id": "fffc2610",
   "metadata": {
    "_cell_guid": "b1076dfc-b9ad-4769-8c92-a6c4dae69d19",
    "_uuid": "8f2839f25d086af736a60e9eeb907d3b93b6e0e5",
    "execution": {
     "iopub.execute_input": "2022-02-03T10:43:13.844108Z",
     "iopub.status.busy": "2022-02-03T10:43:13.842355Z",
     "iopub.status.idle": "2022-02-03T10:43:20.671835Z",
     "shell.execute_reply": "2022-02-03T10:43:20.672750Z",
     "shell.execute_reply.started": "2022-02-03T10:09:47.119927Z"
    },
    "papermill": {
     "duration": 6.840772,
     "end_time": "2022-02-03T10:43:20.673026",
     "exception": false,
     "start_time": "2022-02-03T10:43:13.832254",
     "status": "completed"
    },
    "tags": []
   },
   "outputs": [],
   "source": [
    "import pandas as pd\n",
    "import os\n",
    "from torch.utils.data import Dataset\n",
    "import pandas as pd\n",
    "import numpy as np\n",
    "import matplotlib.pyplot as plt\n",
    "import os\n",
    "\n",
    "import torch\n",
    "import torch.nn as nn\n",
    "import torch.optim as optim\n",
    "from torch.optim import lr_scheduler\n",
    "from torchvision import models, transforms\n",
    "from torch.utils.data import DataLoader\n",
    "\n",
    "%matplotlib inline\n",
    "\n",
    "from PIL import Image\n",
    "import numpy as np\n",
    "import tensorflow as tf\n",
    "from tensorflow.keras.applications.resnet50 import ResNet50, preprocess_input\n",
    "from tensorflow.keras.preprocessing.image import load_img, img_to_array\n",
    "from keras.applications.resnet import preprocess_input as resnet_preprocessing_input\n",
    "import torch"
   ]
  },
  {
   "cell_type": "markdown",
   "id": "907d2be6",
   "metadata": {},
   "source": [
    "## Submission notebook\n",
    "\n",
    "- weights after training on each folder separately were saved\n",
    "- apply classification pretrained model on submission dataset\n",
    "- depending on the class - predict the score of each image using corresponding weights for prediction"
   ]
  },
  {
   "cell_type": "code",
   "execution_count": 2,
   "id": "847e5dc2",
   "metadata": {
    "execution": {
     "iopub.execute_input": "2022-02-03T10:43:20.736333Z",
     "iopub.status.busy": "2022-02-03T10:43:20.735442Z",
     "iopub.status.idle": "2022-02-03T10:43:20.739308Z",
     "shell.execute_reply": "2022-02-03T10:43:20.739747Z",
     "shell.execute_reply.started": "2022-02-03T10:09:47.141012Z"
    },
    "papermill": {
     "duration": 0.059874,
     "end_time": "2022-02-03T10:43:20.739896",
     "exception": false,
     "start_time": "2022-02-03T10:43:20.680022",
     "status": "completed"
    },
    "tags": []
   },
   "outputs": [
    {
     "name": "stdout",
     "output_type": "stream",
     "text": [
      "Using device: cuda:0\n"
     ]
    }
   ],
   "source": [
    "# important: It should be defined first, pytorch need to specify device for every tensor\n",
    "device = torch.device('cuda:0' if torch.cuda.is_available() else 'cpu')\n",
    "print('Using device:', device)"
   ]
  },
  {
   "cell_type": "code",
   "execution_count": 3,
   "id": "92be004c",
   "metadata": {
    "execution": {
     "iopub.execute_input": "2022-02-03T10:43:20.758923Z",
     "iopub.status.busy": "2022-02-03T10:43:20.757982Z",
     "iopub.status.idle": "2022-02-03T10:43:20.760629Z",
     "shell.execute_reply": "2022-02-03T10:43:20.760157Z",
     "shell.execute_reply.started": "2022-02-03T10:09:47.149123Z"
    },
    "papermill": {
     "duration": 0.014657,
     "end_time": "2022-02-03T10:43:20.760762",
     "exception": false,
     "start_time": "2022-02-03T10:43:20.746105",
     "status": "completed"
    },
    "tags": []
   },
   "outputs": [],
   "source": [
    "from torchvision import transforms\n",
    "\n",
    "image_size = 299\n",
    "\n",
    "# simple transfrom for input X\n",
    "transform = transforms.Compose([\n",
    "    transforms.Resize(image_size), \n",
    "    transforms.CenterCrop(image_size),\n",
    "    # require to be tensor for the input of neural net such as resnet18\n",
    "    transforms.ToTensor(),\n",
    "    # commonly used normalizer to transfrom 0-255 -> #TODO\n",
    "    transforms.Normalize(mean=[0.485, 0.456, 0.406], std=[0.229, 0.224, 0.225]) \n",
    "])\n",
    "\n",
    "# transform from 0-100 to 0-1 for label y\n",
    "def target_transform(y):\n",
    "    return y/100\n",
    "\n",
    "def target_inverse_transform(y):\n",
    "    return y*100"
   ]
  },
  {
   "cell_type": "code",
   "execution_count": 4,
   "id": "634976eb",
   "metadata": {
    "execution": {
     "iopub.execute_input": "2022-02-03T10:43:20.776305Z",
     "iopub.status.busy": "2022-02-03T10:43:20.775811Z",
     "iopub.status.idle": "2022-02-03T10:43:37.061690Z",
     "shell.execute_reply": "2022-02-03T10:43:37.061098Z",
     "shell.execute_reply.started": "2022-02-03T10:09:47.159549Z"
    },
    "papermill": {
     "duration": 16.295454,
     "end_time": "2022-02-03T10:43:37.061814",
     "exception": false,
     "start_time": "2022-02-03T10:43:20.766360",
     "status": "completed"
    },
    "tags": []
   },
   "outputs": [
    {
     "name": "stderr",
     "output_type": "stream",
     "text": [
      "2022-02-03 10:43:27.306535: I tensorflow/stream_executor/cuda/cuda_gpu_executor.cc:937] successful NUMA node read from SysFS had negative value (-1), but there must be at least one NUMA node, so returning NUMA node zero\n",
      "2022-02-03 10:43:27.307575: I tensorflow/stream_executor/cuda/cuda_gpu_executor.cc:937] successful NUMA node read from SysFS had negative value (-1), but there must be at least one NUMA node, so returning NUMA node zero\n",
      "2022-02-03 10:43:27.308212: I tensorflow/stream_executor/cuda/cuda_gpu_executor.cc:937] successful NUMA node read from SysFS had negative value (-1), but there must be at least one NUMA node, so returning NUMA node zero\n",
      "2022-02-03 10:43:27.309000: I tensorflow/core/platform/cpu_feature_guard.cc:142] This TensorFlow binary is optimized with oneAPI Deep Neural Network Library (oneDNN) to use the following CPU instructions in performance-critical operations:  AVX2 AVX512F FMA\n",
      "To enable them in other operations, rebuild TensorFlow with the appropriate compiler flags.\n",
      "2022-02-03 10:43:27.310389: I tensorflow/stream_executor/cuda/cuda_gpu_executor.cc:937] successful NUMA node read from SysFS had negative value (-1), but there must be at least one NUMA node, so returning NUMA node zero\n",
      "2022-02-03 10:43:27.311118: I tensorflow/stream_executor/cuda/cuda_gpu_executor.cc:937] successful NUMA node read from SysFS had negative value (-1), but there must be at least one NUMA node, so returning NUMA node zero\n",
      "2022-02-03 10:43:27.311965: I tensorflow/stream_executor/cuda/cuda_gpu_executor.cc:937] successful NUMA node read from SysFS had negative value (-1), but there must be at least one NUMA node, so returning NUMA node zero\n",
      "2022-02-03 10:43:27.313832: I tensorflow/stream_executor/cuda/cuda_gpu_executor.cc:937] successful NUMA node read from SysFS had negative value (-1), but there must be at least one NUMA node, so returning NUMA node zero\n",
      "2022-02-03 10:43:27.314500: I tensorflow/stream_executor/cuda/cuda_gpu_executor.cc:937] successful NUMA node read from SysFS had negative value (-1), but there must be at least one NUMA node, so returning NUMA node zero\n",
      "2022-02-03 10:43:27.315243: I tensorflow/stream_executor/cuda/cuda_gpu_executor.cc:937] successful NUMA node read from SysFS had negative value (-1), but there must be at least one NUMA node, so returning NUMA node zero\n",
      "2022-02-03 10:43:27.315887: I tensorflow/core/common_runtime/gpu/gpu_device.cc:1510] Created device /job:localhost/replica:0/task:0/device:GPU:0 with 14807 MB memory:  -> device: 0, name: Tesla P100-PCIE-16GB, pci bus id: 0000:00:04.0, compute capability: 6.0\n"
     ]
    }
   ],
   "source": [
    "model_conv_dog=torch.load('../input/pawpularity2/resnet18_dog')\n",
    "model_conv_cat=torch.load('../input/pawpularity2/resnet18_cat')\n",
    "model_conv_smth=torch.load('../input/pawpularity2/resnet18_smth')\n",
    "ResNet50_model=tf.keras.models.load_model('../input/pawpularity2/ResNet50_model')"
   ]
  },
  {
   "cell_type": "code",
   "execution_count": 5,
   "id": "741c9595",
   "metadata": {
    "execution": {
     "iopub.execute_input": "2022-02-03T10:43:37.086033Z",
     "iopub.status.busy": "2022-02-03T10:43:37.085267Z",
     "iopub.status.idle": "2022-02-03T10:43:44.497961Z",
     "shell.execute_reply": "2022-02-03T10:43:44.498437Z",
     "shell.execute_reply.started": "2022-02-03T10:41:19.938868Z"
    },
    "papermill": {
     "duration": 7.430796,
     "end_time": "2022-02-03T10:43:44.498629",
     "exception": false,
     "start_time": "2022-02-03T10:43:37.067833",
     "status": "completed"
    },
    "tags": []
   },
   "outputs": [
    {
     "name": "stderr",
     "output_type": "stream",
     "text": [
      "2022-02-03 10:43:37.158669: I tensorflow/compiler/mlir/mlir_graph_optimization_pass.cc:185] None of the MLIR Optimization Passes are enabled (registered 2)\n",
      "2022-02-03 10:43:38.769666: I tensorflow/stream_executor/cuda/cuda_dnn.cc:369] Loaded cuDNN version 8005\n"
     ]
    }
   ],
   "source": [
    "test_dir = '../input/petfinder-pawpularity-score/test'\n",
    "test_df = pd.read_csv('../input/petfinder-pawpularity-score/test.csv')\n",
    "result = []\n",
    "predictor = nn.Sigmoid()\n",
    "for image_id in test_df.iloc[:, 0]:\n",
    "    img_path = os.path.join(test_dir, image_id)\n",
    "    image = Image.open(img_path + '.jpg') # read_image\n",
    "    img=image.resize((224, 224), Image.ANTIALIAS)\n",
    "    converted_image = img_to_array(img)\n",
    "    reshaped_image = converted_image.reshape((1, converted_image.shape[0], converted_image.shape[1], converted_image.shape[2]))\n",
    "    resnet_preprocessed_image = resnet_preprocessing_input(reshaped_image)\n",
    "    probs= ResNet50_model.predict(resnet_preprocessed_image)\n",
    "    position_of_max = np.argmax(probs)\n",
    "    #print(position_of_max)\n",
    "    if ((position_of_max >= 151) & (position_of_max <= 268)):\n",
    "        transformed = transform(image)\n",
    "        transformed = transformed.reshape(1, transformed.shape[0], transformed.shape[1], transformed.shape[2]).to(device)\n",
    "        output=model_conv_dog(transformed)        \n",
    "    elif ((position_of_max >= 281) & (position_of_max <= 285)):\n",
    "        transformed = transform(image)\n",
    "        transformed = transformed.reshape(1, transformed.shape[0], transformed.shape[1], transformed.shape[2]).to(device)\n",
    "        output = model_conv_cat(transformed)\n",
    "    else:\n",
    "        #print('i')\n",
    "        transformed = transform(image)\n",
    "        transformed = transformed.reshape(1, transformed.shape[0], transformed.shape[1], transformed.shape[2]).to(device)\n",
    "        #print(transformed.shape)\n",
    "        output = model_conv_dog(transformed)\n",
    "    pred = target_inverse_transform(predictor(output))\n",
    "    pred=pred.cpu()\n",
    "    pred=pred.detach().numpy()\n",
    "    pred=pred[0][0]\n",
    "    #print(pred[0][0])\n",
    "    #print(pred.type)\n",
    "    result.append(pred)\n",
    "    #print(result)\n",
    "        \n",
    "result_df = pd.DataFrame({'Id': test_df.iloc[:, 0], 'Pawpularity': result})\n",
    "#print(result_df)\n",
    "result_df.to_csv( 'submission.csv', index=False)"
   ]
  },
  {
   "cell_type": "code",
   "execution_count": 6,
   "id": "d6946183",
   "metadata": {
    "execution": {
     "iopub.execute_input": "2022-02-03T10:43:44.518189Z",
     "iopub.status.busy": "2022-02-03T10:43:44.516586Z",
     "iopub.status.idle": "2022-02-03T10:43:44.518794Z",
     "shell.execute_reply": "2022-02-03T10:43:44.519190Z",
     "shell.execute_reply.started": "2022-02-03T10:41:23.455515Z"
    },
    "papermill": {
     "duration": 0.013378,
     "end_time": "2022-02-03T10:43:44.519328",
     "exception": false,
     "start_time": "2022-02-03T10:43:44.505950",
     "status": "completed"
    },
    "tags": []
   },
   "outputs": [],
   "source": [
    "#pd.read_csv('submission.csv')"
   ]
  }
 ],
 "metadata": {
  "kernelspec": {
   "display_name": "Python 3",
   "language": "python",
   "name": "python3"
  },
  "language_info": {
   "codemirror_mode": {
    "name": "ipython",
    "version": 3
   },
   "file_extension": ".py",
   "mimetype": "text/x-python",
   "name": "python",
   "nbconvert_exporter": "python",
   "pygments_lexer": "ipython3",
   "version": "3.8.8"
  },
  "papermill": {
   "default_parameters": {},
   "duration": 42.406568,
   "end_time": "2022-02-03T10:43:48.084151",
   "environment_variables": {},
   "exception": null,
   "input_path": "__notebook__.ipynb",
   "output_path": "__notebook__.ipynb",
   "parameters": {},
   "start_time": "2022-02-03T10:43:05.677583",
   "version": "2.3.3"
  }
 },
 "nbformat": 4,
 "nbformat_minor": 5
}
