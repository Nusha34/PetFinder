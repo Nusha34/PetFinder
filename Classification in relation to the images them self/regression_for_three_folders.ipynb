{
 "cells": [
  {
   "cell_type": "markdown",
   "id": "9ada8229",
   "metadata": {
    "papermill": {
     "duration": 0.042017,
     "end_time": "2022-02-02T20:23:41.138869",
     "exception": false,
     "start_time": "2022-02-02T20:23:41.096852",
     "status": "completed"
    },
    "tags": []
   },
   "source": [
    "# Data Preprocess"
   ]
  },
  {
   "cell_type": "code",
   "execution_count": 1,
   "id": "35c1bbc4",
   "metadata": {
    "execution": {
     "iopub.execute_input": "2022-02-02T20:23:41.203081Z",
     "iopub.status.busy": "2022-02-02T20:23:41.201541Z",
     "iopub.status.idle": "2022-02-02T20:23:41.204128Z",
     "shell.execute_reply": "2022-02-02T20:23:41.203599Z",
     "shell.execute_reply.started": "2022-02-02T11:06:36.861158Z"
    },
    "papermill": {
     "duration": 0.03269,
     "end_time": "2022-02-02T20:23:41.204255",
     "exception": false,
     "start_time": "2022-02-02T20:23:41.171565",
     "status": "completed"
    },
    "tags": []
   },
   "outputs": [],
   "source": [
    "#import wandb\n",
    "#wandb.init(config=args)"
   ]
  },
  {
   "cell_type": "code",
   "execution_count": 2,
   "id": "1177711f",
   "metadata": {
    "execution": {
     "iopub.execute_input": "2022-02-02T20:23:41.262878Z",
     "iopub.status.busy": "2022-02-02T20:23:41.262249Z",
     "iopub.status.idle": "2022-02-02T20:23:43.818945Z",
     "shell.execute_reply": "2022-02-02T20:23:43.818123Z",
     "shell.execute_reply.started": "2022-02-02T11:06:36.866980Z"
    },
    "papermill": {
     "duration": 2.591043,
     "end_time": "2022-02-02T20:23:43.819105",
     "exception": false,
     "start_time": "2022-02-02T20:23:41.228062",
     "status": "completed"
    },
    "tags": []
   },
   "outputs": [],
   "source": [
    "import pandas as pd\n",
    "import numpy as np\n",
    "import matplotlib.pyplot as plt\n",
    "import os\n",
    "\n",
    "import torch\n",
    "import torch.nn as nn\n",
    "import torch.optim as optim\n",
    "from torch.optim import lr_scheduler\n",
    "from torchvision import models, transforms\n",
    "from torch.utils.data import DataLoader\n",
    "\n",
    "%matplotlib inline"
   ]
  },
  {
   "cell_type": "code",
   "execution_count": 3,
   "id": "7619f4f8",
   "metadata": {
    "execution": {
     "iopub.execute_input": "2022-02-02T20:23:43.913006Z",
     "iopub.status.busy": "2022-02-02T20:23:43.912456Z",
     "iopub.status.idle": "2022-02-02T20:23:43.919272Z",
     "shell.execute_reply": "2022-02-02T20:23:43.919864Z",
     "shell.execute_reply.started": "2022-02-02T11:06:36.879054Z"
    },
    "papermill": {
     "duration": 0.076849,
     "end_time": "2022-02-02T20:23:43.920063",
     "exception": false,
     "start_time": "2022-02-02T20:23:43.843214",
     "status": "completed"
    },
    "tags": []
   },
   "outputs": [
    {
     "name": "stdout",
     "output_type": "stream",
     "text": [
      "Using device: cuda:0\n"
     ]
    }
   ],
   "source": [
    "# important: It should be defined first, pytorch need to specify device for every tensor\n",
    "device = torch.device('cuda:0' if torch.cuda.is_available() else 'cpu')\n",
    "print('Using device:', device)"
   ]
  },
  {
   "cell_type": "code",
   "execution_count": 4,
   "id": "c2749cde",
   "metadata": {
    "execution": {
     "iopub.execute_input": "2022-02-02T20:23:43.978877Z",
     "iopub.status.busy": "2022-02-02T20:23:43.977237Z",
     "iopub.status.idle": "2022-02-02T20:23:43.979569Z",
     "shell.execute_reply": "2022-02-02T20:23:43.980020Z",
     "shell.execute_reply.started": "2022-02-02T11:06:36.890012Z"
    },
    "papermill": {
     "duration": 0.034572,
     "end_time": "2022-02-02T20:23:43.980172",
     "exception": false,
     "start_time": "2022-02-02T20:23:43.945600",
     "status": "completed"
    },
    "tags": []
   },
   "outputs": [],
   "source": [
    "import os\n",
    "from torch.utils.data import Dataset\n",
    "from PIL import Image\n",
    "\n",
    "\n",
    "class ImageDataset(Dataset):\n",
    "    def __init__(self, img_labels, img_dir, transform=None, target_transform=None):\n",
    "        # storage these params for use in getitem\n",
    "        self.img_labels = img_labels\n",
    "        self.img_dir = img_dir\n",
    "        self.transform = transform\n",
    "        self.target_transform = target_transform\n",
    "    \n",
    "    def __len__(self):\n",
    "        return len(self.img_labels)\n",
    "\n",
    "    def __getitem__(self, idx):\n",
    "        img_path = os.path.join(self.img_dir, self.img_labels.iloc[idx, 0])\n",
    "        image = Image.open(img_path)\n",
    "        label = self.img_labels.iloc[idx, 1]\n",
    "        if self.transform:\n",
    "            image = self.transform(image)\n",
    "        if self.target_transform:\n",
    "            label = self.target_transform(label)\n",
    "        return image, label\n",
    "\n",
    "    \n",
    "#train_dataset = ImageDataset(train_data[['Id', 'Pawpularity']], '../input/train-after-classification/cats', transform=transforms.ToTensor())\n",
    "#test_dataset = ImageDataset(test_data[['Id', 'Pawpularity']], '../input/train-after-classification/cats', transform=transforms.ToTensor())"
   ]
  },
  {
   "cell_type": "code",
   "execution_count": 5,
   "id": "5990d2d5",
   "metadata": {
    "execution": {
     "iopub.execute_input": "2022-02-02T20:23:44.032783Z",
     "iopub.status.busy": "2022-02-02T20:23:44.031921Z",
     "iopub.status.idle": "2022-02-02T20:23:44.036190Z",
     "shell.execute_reply": "2022-02-02T20:23:44.035570Z",
     "shell.execute_reply.started": "2022-02-02T11:06:36.904913Z"
    },
    "papermill": {
     "duration": 0.031532,
     "end_time": "2022-02-02T20:23:44.036317",
     "exception": false,
     "start_time": "2022-02-02T20:23:44.004785",
     "status": "completed"
    },
    "tags": []
   },
   "outputs": [],
   "source": [
    "# Comment see image size distribution\n",
    "# train_dataset = ImageDataset(train_data[['Id', 'Pawpularity']], '../input/petfinder-pawpularity-score/train', transform=transforms.ToTensor())\n",
    "# \n",
    "# sizes = np.array([image.shape for image, _ in train_dataset])\n",
    "# fig, ax = plt.subplots().\n",
    "# ax.set_title('Image height, width')\n",
    "# ax.boxplot(sizes[:, 1:])\n",
    "# plt.show()"
   ]
  },
  {
   "cell_type": "code",
   "execution_count": 6,
   "id": "542455c8",
   "metadata": {
    "execution": {
     "iopub.execute_input": "2022-02-02T20:23:44.137000Z",
     "iopub.status.busy": "2022-02-02T20:23:44.130968Z",
     "iopub.status.idle": "2022-02-02T20:23:44.142014Z",
     "shell.execute_reply": "2022-02-02T20:23:44.143082Z",
     "shell.execute_reply.started": "2022-02-02T11:06:36.913348Z"
    },
    "papermill": {
     "duration": 0.06584,
     "end_time": "2022-02-02T20:23:44.143378",
     "exception": false,
     "start_time": "2022-02-02T20:23:44.077538",
     "status": "completed"
    },
    "tags": []
   },
   "outputs": [],
   "source": [
    "from torchvision import transforms\n",
    "\n",
    "image_size = 299\n",
    "\n",
    "# simple transfrom for input X\n",
    "transform = transforms.Compose([\n",
    "    transforms.Resize(image_size), \n",
    "    transforms.CenterCrop(image_size),\n",
    "    # require to be tensor for the input of neural net such as resnet18\n",
    "    transforms.ToTensor(),\n",
    "    # commonly used normalizer to transfrom 0-255 -> #TODO\n",
    "    transforms.Normalize(mean=[0.485, 0.456, 0.406], std=[0.229, 0.224, 0.225]) \n",
    "])\n",
    "\n",
    "# transform from 0-100 to 0-1 for label y\n",
    "def target_transform(y):\n",
    "    return y/100\n",
    "\n",
    "def target_inverse_transform(y):\n",
    "    return y*100"
   ]
  },
  {
   "cell_type": "code",
   "execution_count": 7,
   "id": "1e5c80eb",
   "metadata": {
    "execution": {
     "iopub.execute_input": "2022-02-02T20:23:44.226795Z",
     "iopub.status.busy": "2022-02-02T20:23:44.225946Z",
     "iopub.status.idle": "2022-02-02T20:23:44.228165Z",
     "shell.execute_reply": "2022-02-02T20:23:44.227521Z",
     "shell.execute_reply.started": "2022-02-02T11:06:36.923231Z"
    },
    "papermill": {
     "duration": 0.044747,
     "end_time": "2022-02-02T20:23:44.228314",
     "exception": false,
     "start_time": "2022-02-02T20:23:44.183567",
     "status": "completed"
    },
    "tags": []
   },
   "outputs": [],
   "source": [
    "#train_dataset = ImageDataset(train_data[['Id', 'Pawpularity']], '../input/train-after-classification/cats', \n",
    "#                             transform=transform, target_transform=target_transform\n",
    "#                             \n",
    "#test_dataset = ImageDataset(test_data[['Id', 'Pawpularity']], '../input/train-after-classification/cats',\n",
    "#                            transform=transform, target_transform=target_transform)"
   ]
  },
  {
   "cell_type": "markdown",
   "id": "8f61c8fd",
   "metadata": {
    "execution": {
     "iopub.execute_input": "2021-11-07T22:36:33.550602Z",
     "iopub.status.busy": "2021-11-07T22:36:33.550129Z",
     "iopub.status.idle": "2021-11-07T22:36:33.619409Z",
     "shell.execute_reply": "2021-11-07T22:36:33.618557Z",
     "shell.execute_reply.started": "2021-11-07T22:36:33.550558Z"
    },
    "papermill": {
     "duration": 0.037777,
     "end_time": "2022-02-02T20:23:44.304207",
     "exception": false,
     "start_time": "2022-02-02T20:23:44.266430",
     "status": "completed"
    },
    "tags": []
   },
   "source": [
    "# Model analysis"
   ]
  },
  {
   "cell_type": "markdown",
   "id": "2308a730",
   "metadata": {
    "execution": {
     "iopub.execute_input": "2021-11-15T23:02:00.060136Z",
     "iopub.status.busy": "2021-11-15T23:02:00.059879Z",
     "iopub.status.idle": "2021-11-15T23:02:00.066063Z",
     "shell.execute_reply": "2021-11-15T23:02:00.065342Z",
     "shell.execute_reply.started": "2021-11-15T23:02:00.060108Z"
    },
    "papermill": {
     "duration": 0.035679,
     "end_time": "2022-02-02T20:23:44.377421",
     "exception": false,
     "start_time": "2022-02-02T20:23:44.341742",
     "status": "completed"
    },
    "tags": []
   },
   "source": [
    "## Pretained model"
   ]
  },
  {
   "cell_type": "code",
   "execution_count": 8,
   "id": "fda1acf7",
   "metadata": {
    "execution": {
     "iopub.execute_input": "2022-02-02T20:23:44.469688Z",
     "iopub.status.busy": "2022-02-02T20:23:44.468990Z",
     "iopub.status.idle": "2022-02-02T20:23:44.471035Z",
     "shell.execute_reply": "2022-02-02T20:23:44.470277Z",
     "shell.execute_reply.started": "2022-02-02T11:06:36.935250Z"
    },
    "papermill": {
     "duration": 0.056535,
     "end_time": "2022-02-02T20:23:44.471241",
     "exception": false,
     "start_time": "2022-02-02T20:23:44.414706",
     "status": "completed"
    },
    "tags": []
   },
   "outputs": [],
   "source": [
    "def freeze_parameters(model):\n",
    "    for param in model.parameters():\n",
    "        param.requires_grad = False\n",
    "\n",
    "def redefine_last_layer(model):\n",
    "    num_input_features = model.fc.in_features\n",
    "    model.fc = nn.Linear(num_input_features, 1)\n",
    "    \n",
    "    if hasattr(model, 'AuxLogits'):\n",
    "        num_aux_input_features = model.AuxLogits.fc.in_features\n",
    "        model.AuxLogits.fc = nn.Linear(num_aux_input_features, 1)\n",
    "\n",
    "def get_training_funcs(model):\n",
    "    # define the loss function for guiding training as binary cross entropy loss\n",
    "    criterion = nn.BCEWithLogitsLoss()\n",
    "    # optimizer for training, observe that only parameters of final layer are being optimized.\n",
    "    optimizer = optim.SGD(model.fc.parameters(), lr=0.001, momentum=0.9)\n",
    "    # decay learning rate by a factor of 0.1 every 7 epochs\n",
    "    learning_rate_scheduler = lr_scheduler.StepLR(optimizer, step_size=7, gamma=0.1)\n",
    "    return criterion, optimizer, learning_rate_scheduler"
   ]
  },
  {
   "cell_type": "code",
   "execution_count": 9,
   "id": "ee7e0096",
   "metadata": {
    "execution": {
     "iopub.execute_input": "2022-02-02T20:23:44.552623Z",
     "iopub.status.busy": "2022-02-02T20:23:44.551689Z",
     "iopub.status.idle": "2022-02-02T20:23:44.566178Z",
     "shell.execute_reply": "2022-02-02T20:23:44.566861Z",
     "shell.execute_reply.started": "2022-02-02T11:06:36.945429Z"
    },
    "papermill": {
     "duration": 0.057093,
     "end_time": "2022-02-02T20:23:44.567078",
     "exception": false,
     "start_time": "2022-02-02T20:23:44.509985",
     "status": "completed"
    },
    "tags": []
   },
   "outputs": [],
   "source": [
    "def train_model(model, dataloader, criterion, optimizer, scheduler, \\\n",
    "                model_name='default', num_epochs=12, is_inception=False):\n",
    "    model.train() \n",
    "    epoches, losses = [], []\n",
    "    \n",
    "    for epoch in range(num_epochs):\n",
    "        running_loss = 0.0\n",
    "        for inputs, labels in dataloader:\n",
    "            \"\"\"\n",
    "            boilerplate code (to(device)), you d better do this\n",
    "            pytorch need to specify device and need their devices are consistent\n",
    "            \"\"\"\n",
    "            inputs = inputs.to(device)\n",
    "            labels = torch.reshape(labels, (-1,1)).to(device)\n",
    "            # boilerplate code (zero_grad), you have to do this, that is a step for pytorch model training\n",
    "            optimizer.zero_grad()\n",
    "            if is_inception:\n",
    "                # From https://discuss.pytorch.org/t/how-to-optimize-inception-model-with-auxiliary-classifiers/7958\n",
    "                outputs, aux_outputs = model(inputs)\n",
    "                loss1 = criterion(outputs, labels)\n",
    "                loss2 = criterion(aux_outputs, labels)\n",
    "                loss = loss1 + 0.4*loss2\n",
    "            else:\n",
    "                outputs = model(inputs)     \n",
    "                loss = criterion(outputs, labels)\n",
    "            # boilerplate code (backward, step), you have to do this, that is a step for pytorch model training\n",
    "            loss.backward()                    \n",
    "            optimizer.step() \n",
    "            #wandb.log({\"loss\": loss})\n",
    "            running_loss += loss.item() * inputs.size(0)\n",
    "        scheduler.step()\n",
    "\n",
    "        epoch_loss = running_loss / len(dataloader.dataset)\n",
    "        epoches.append(epoch)\n",
    "        losses.append(epoch_loss)\n",
    "        print('Epoch {}/{}, Loss: {:.4f}'.format(epoch, num_epochs - 1, epoch_loss))\n",
    "    torch.save(model.state_dict(), '/kaggle/working/' + model_name + '.pth')\n",
    "    torch.save(model, '/kaggle/working/'+model_name)\n",
    "    debug_data = (losses, epoches)\n",
    "    return model, debug_data"
   ]
  },
  {
   "cell_type": "code",
   "execution_count": 10,
   "id": "3b9d8111",
   "metadata": {
    "execution": {
     "iopub.execute_input": "2022-02-02T20:23:44.657673Z",
     "iopub.status.busy": "2022-02-02T20:23:44.656880Z",
     "iopub.status.idle": "2022-02-02T20:23:44.664689Z",
     "shell.execute_reply": "2022-02-02T20:23:44.665120Z",
     "shell.execute_reply.started": "2022-02-02T11:06:36.959192Z"
    },
    "papermill": {
     "duration": 0.055707,
     "end_time": "2022-02-02T20:23:44.665250",
     "exception": false,
     "start_time": "2022-02-02T20:23:44.609543",
     "status": "completed"
    },
    "tags": []
   },
   "outputs": [],
   "source": [
    "def eval_model(model, dataloader, model_path=None):\n",
    "    if model_path:\n",
    "        model.load_state_dict(torch.load(model_path))\n",
    "    model.eval()\n",
    "    model.to(device)\n",
    "    predictor = nn.Sigmoid()\n",
    "    history_se = torch.tensor([]).to(device)\n",
    "\n",
    "    for x, y in dataloader:\n",
    "        x = x.to(device)\n",
    "        y = y.to(device)\n",
    "        with torch.no_grad():\n",
    "            y_hat = target_inverse_transform(predictor(model(x))).reshape(1,-1)\n",
    "        se = (y_hat-y)**2\n",
    "        rmse = torch.sqrt(torch.mean(se))\n",
    "        # print(history_se.shape, se.shape)\n",
    "        history_se = torch.cat((history_se, se.reshape(-1, 1)))\n",
    "        print('rmse:', rmse)\n",
    "    rmse = torch.sqrt(torch.mean(history_se))\n",
    "    print('rmse for whole data:', rmse, ' size of eval data: ', history_se.shape, len(dataloader.dataset))\n",
    "    return rmse"
   ]
  },
  {
   "cell_type": "code",
   "execution_count": 11,
   "id": "40e89bf6",
   "metadata": {
    "execution": {
     "iopub.execute_input": "2022-02-02T20:23:44.748787Z",
     "iopub.status.busy": "2022-02-02T20:23:44.748039Z",
     "iopub.status.idle": "2022-02-02T20:23:44.751085Z",
     "shell.execute_reply": "2022-02-02T20:23:44.751744Z",
     "shell.execute_reply.started": "2022-02-02T11:06:36.972126Z"
    },
    "papermill": {
     "duration": 0.048309,
     "end_time": "2022-02-02T20:23:44.751923",
     "exception": false,
     "start_time": "2022-02-02T20:23:44.703614",
     "status": "completed"
    },
    "tags": []
   },
   "outputs": [],
   "source": [
    "import matplotlib.pyplot as plt\n",
    "\n",
    "def loss_graph(losses, epoches):\n",
    "    plt.plot(epoches, losses)\n",
    "    plt.title('loss every epoch')\n",
    "    plt.xlabel('epoch')\n",
    "    plt.ylabel('loss')\n",
    "    plt.show()"
   ]
  },
  {
   "cell_type": "markdown",
   "id": "50c391ad",
   "metadata": {
    "papermill": {
     "duration": 0.039689,
     "end_time": "2022-02-02T20:23:44.831387",
     "exception": false,
     "start_time": "2022-02-02T20:23:44.791698",
     "status": "completed"
    },
    "tags": []
   },
   "source": [
    "## CATS TRAIN"
   ]
  },
  {
   "cell_type": "code",
   "execution_count": 12,
   "id": "8ac6fa20",
   "metadata": {
    "execution": {
     "iopub.execute_input": "2022-02-02T20:23:44.920136Z",
     "iopub.status.busy": "2022-02-02T20:23:44.919378Z",
     "iopub.status.idle": "2022-02-02T20:23:45.266571Z",
     "shell.execute_reply": "2022-02-02T20:23:45.266038Z",
     "shell.execute_reply.started": "2022-02-02T11:06:36.986072Z"
    },
    "papermill": {
     "duration": 0.396142,
     "end_time": "2022-02-02T20:23:45.266702",
     "exception": false,
     "start_time": "2022-02-02T20:23:44.870560",
     "status": "completed"
    },
    "tags": []
   },
   "outputs": [],
   "source": [
    "df = pd.read_csv(\"../input/petfinder-pawpularity-score/train.csv\")\n",
    "df[\"Id\"] = df[\"Id\"].apply(lambda x:x+ \".jpg\")\n",
    "cat=pd.DataFrame(os.listdir('../input/train-after-classification/cats'), columns=['Id'])\n",
    "#dog=pd.DataFrame(os.listdir('../input/train-after-classification/dogs'), columns=['Id'])\n",
    "#smth=pd.DataFrame(os.listdir('../input/train-after-classification/smth'), columns=['Id'])\n",
    "cat_labels=df.merge(cat, on='Id', how='inner')\n",
    "cat_labels.to_csv('cat_labels.csv',encoding='utf-8', index=False)\n",
    "#dog_labels=df.merge(dog, on='Id', how='inner')\n",
    "#dog_labels.to_csv('dog_labels.csv',encoding='utf-8', index=False)\n",
    "#smth_labels=df.merge(smth, on='Id', how='inner')\n",
    "#smth_labels.to_csv('smth_labels.csv',encoding='utf-8', index=False)\n",
    "\n",
    "\n",
    "#submission_df = pd.read_csv(\"../input/petfinder-pawpularity-score/train.csv\")\n",
    "\n",
    "train_data, test_data = np.split(cat_labels, [int(.95*len(cat_labels))])\n",
    "X_train = train_data.iloc[:, 1:-1]\n",
    "y_train = train_data.iloc[:, -1]\n",
    "X_test = test_data.iloc[:, 1:-1]\n",
    "y_test = test_data.iloc[:, -1]"
   ]
  },
  {
   "cell_type": "markdown",
   "id": "472089ab",
   "metadata": {
    "papermill": {
     "duration": 0.024,
     "end_time": "2022-02-02T20:23:45.315063",
     "exception": false,
     "start_time": "2022-02-02T20:23:45.291063",
     "status": "completed"
    },
    "tags": []
   },
   "source": [
    "define common vars"
   ]
  },
  {
   "cell_type": "code",
   "execution_count": 13,
   "id": "ad8eb51a",
   "metadata": {
    "execution": {
     "iopub.execute_input": "2022-02-02T20:23:45.370216Z",
     "iopub.status.busy": "2022-02-02T20:23:45.369422Z",
     "iopub.status.idle": "2022-02-02T20:23:45.371524Z",
     "shell.execute_reply": "2022-02-02T20:23:45.371925Z",
     "shell.execute_reply.started": "2022-02-02T11:06:37.464786Z"
    },
    "papermill": {
     "duration": 0.033222,
     "end_time": "2022-02-02T20:23:45.372050",
     "exception": false,
     "start_time": "2022-02-02T20:23:45.338828",
     "status": "completed"
    },
    "tags": []
   },
   "outputs": [],
   "source": [
    "train_subset = ImageDataset(train_data[['Id', 'Pawpularity']], '../input/train-after-classification/cats',\n",
    "                            transform=transform, target_transform=target_transform)\n",
    "train_dataloader = DataLoader(train_subset, batch_size=8, shuffle=True, num_workers=2)\n",
    "\n",
    "eval_dataset = ImageDataset(test_data[['Id', 'Pawpularity']], '../input/train-after-classification/cats',\n",
    "                            transform=transform)\n",
    "eval_dataloader = DataLoader(eval_dataset, batch_size=8)\n",
    "num_epochs = 24"
   ]
  },
  {
   "cell_type": "code",
   "execution_count": 14,
   "id": "e7bad23e",
   "metadata": {
    "execution": {
     "iopub.execute_input": "2022-02-02T20:23:45.426849Z",
     "iopub.status.busy": "2022-02-02T20:23:45.426270Z",
     "iopub.status.idle": "2022-02-02T20:40:53.378394Z",
     "shell.execute_reply": "2022-02-02T20:40:53.378787Z",
     "shell.execute_reply.started": "2022-02-02T11:06:37.480234Z"
    },
    "papermill": {
     "duration": 1027.983094,
     "end_time": "2022-02-02T20:40:53.378957",
     "exception": false,
     "start_time": "2022-02-02T20:23:45.395863",
     "status": "completed"
    },
    "tags": []
   },
   "outputs": [
    {
     "name": "stderr",
     "output_type": "stream",
     "text": [
      "Downloading: \"https://download.pytorch.org/models/resnet18-f37072fd.pth\" to /root/.cache/torch/hub/checkpoints/resnet18-f37072fd.pth\n"
     ]
    },
    {
     "data": {
      "application/vnd.jupyter.widget-view+json": {
       "model_id": "f93588ee64e44354b5fdfde2cbf6325b",
       "version_major": 2,
       "version_minor": 0
      },
      "text/plain": [
       "  0%|          | 0.00/44.7M [00:00<?, ?B/s]"
      ]
     },
     "metadata": {},
     "output_type": "display_data"
    },
    {
     "name": "stdout",
     "output_type": "stream",
     "text": [
      "Epoch 0/23, Loss: 0.6499\n",
      "Epoch 1/23, Loss: 0.6414\n",
      "Epoch 2/23, Loss: 0.6419\n",
      "Epoch 3/23, Loss: 0.6386\n",
      "Epoch 4/23, Loss: 0.6386\n",
      "Epoch 5/23, Loss: 0.6362\n",
      "Epoch 6/23, Loss: 0.6355\n",
      "Epoch 7/23, Loss: 0.6313\n",
      "Epoch 8/23, Loss: 0.6317\n",
      "Epoch 9/23, Loss: 0.6316\n",
      "Epoch 10/23, Loss: 0.6318\n",
      "Epoch 11/23, Loss: 0.6318\n",
      "Epoch 12/23, Loss: 0.6309\n",
      "Epoch 13/23, Loss: 0.6311\n",
      "Epoch 14/23, Loss: 0.6314\n",
      "Epoch 15/23, Loss: 0.6302\n",
      "Epoch 16/23, Loss: 0.6312\n",
      "Epoch 17/23, Loss: 0.6295\n",
      "Epoch 18/23, Loss: 0.6302\n",
      "Epoch 19/23, Loss: 0.6308\n",
      "Epoch 20/23, Loss: 0.6312\n",
      "Epoch 21/23, Loss: 0.6304\n",
      "Epoch 22/23, Loss: 0.6307\n",
      "Epoch 23/23, Loss: 0.6304\n"
     ]
    },
    {
     "data": {
      "image/png": "[encoded data removed]",
      "text/plain": [
       "<Figure size 432x288 with 1 Axes>"
      ]
     },
     "metadata": {
      "needs_background": "light"
     },
     "output_type": "display_data"
    }
   ],
   "source": [
    "model_conv_cat = models.resnet18(pretrained=True)\n",
    "#wandb.watch(model_conv, log_freq=100)\n",
    "\n",
    "freeze_parameters(model_conv_cat)\n",
    "redefine_last_layer(model_conv_cat)\n",
    "criterion_conv, optimizer_conv, learning_rate_scheduler_conv = \\\n",
    "    get_training_funcs(model_conv_cat)\n",
    "\n",
    "model_conv_cat = model_conv_cat.to(device)\n",
    "model_conv_cat, debug_data_conv_cat = train_model(model_conv_cat, train_dataloader, criterion_conv, optimizer_conv, \\\n",
    "            learning_rate_scheduler_conv, num_epochs=num_epochs, model_name='resnet18_cat')\n",
    "\n",
    "losses_conv_cat, epoches_conv_cat = debug_data_conv_cat\n",
    "loss_graph(losses_conv_cat, epoches_conv_cat) "
   ]
  },
  {
   "cell_type": "code",
   "execution_count": 15,
   "id": "008704cb",
   "metadata": {
    "execution": {
     "iopub.execute_input": "2022-02-02T20:40:53.448316Z",
     "iopub.status.busy": "2022-02-02T20:40:53.447446Z",
     "iopub.status.idle": "2022-02-02T20:40:57.210893Z",
     "shell.execute_reply": "2022-02-02T20:40:57.211870Z",
     "shell.execute_reply.started": "2022-02-02T11:23:25.632434Z"
    },
    "papermill": {
     "duration": 3.801016,
     "end_time": "2022-02-02T20:40:57.212085",
     "exception": false,
     "start_time": "2022-02-02T20:40:53.411069",
     "status": "completed"
    },
    "tags": []
   },
   "outputs": [
    {
     "name": "stdout",
     "output_type": "stream",
     "text": [
      "rmse: tensor(17.1728, device='cuda:0')\n",
      "rmse: tensor(18.8296, device='cuda:0')\n",
      "rmse: tensor(9.2000, device='cuda:0')\n",
      "rmse: tensor(11.2941, device='cuda:0')\n",
      "rmse: tensor(15.1209, device='cuda:0')\n",
      "rmse: tensor(10.6544, device='cuda:0')\n",
      "rmse: tensor(5.4488, device='cuda:0')\n",
      "rmse: tensor(12.6405, device='cuda:0')\n",
      "rmse: tensor(10.2522, device='cuda:0')\n",
      "rmse: tensor(15.2172, device='cuda:0')\n",
      "rmse: tensor(9.2437, device='cuda:0')\n",
      "rmse: tensor(10.4476, device='cuda:0')\n",
      "rmse: tensor(18.9376, device='cuda:0')\n",
      "rmse: tensor(13.9380, device='cuda:0')\n",
      "rmse: tensor(22.1833, device='cuda:0')\n",
      "rmse: tensor(18.6248, device='cuda:0')\n",
      "rmse: tensor(16.7284, device='cuda:0')\n",
      "rmse: tensor(15.6546, device='cuda:0')\n",
      "rmse for whole data: tensor(14.6009, device='cuda:0')  size of eval data:  torch.Size([143, 1]) 143\n"
     ]
    },
    {
     "data": {
      "text/plain": [
       "tensor(14.6009, device='cuda:0')"
      ]
     },
     "execution_count": 15,
     "metadata": {},
     "output_type": "execute_result"
    }
   ],
   "source": [
    "eval_model(model_conv_cat, eval_dataloader)"
   ]
  },
  {
   "cell_type": "markdown",
   "id": "e5da3281",
   "metadata": {
    "papermill": {
     "duration": 0.058003,
     "end_time": "2022-02-02T20:40:57.332656",
     "exception": false,
     "start_time": "2022-02-02T20:40:57.274653",
     "status": "completed"
    },
    "tags": []
   },
   "source": [
    "## DOG TRAIN"
   ]
  },
  {
   "cell_type": "code",
   "execution_count": 16,
   "id": "aacd37be",
   "metadata": {
    "execution": {
     "iopub.execute_input": "2022-02-02T20:40:57.459760Z",
     "iopub.status.busy": "2022-02-02T20:40:57.458915Z",
     "iopub.status.idle": "2022-02-02T20:40:57.880596Z",
     "shell.execute_reply": "2022-02-02T20:40:57.881016Z",
     "shell.execute_reply.started": "2022-02-02T12:28:39.344201Z"
    },
    "papermill": {
     "duration": 0.490691,
     "end_time": "2022-02-02T20:40:57.881191",
     "exception": false,
     "start_time": "2022-02-02T20:40:57.390500",
     "status": "completed"
    },
    "tags": []
   },
   "outputs": [
    {
     "name": "stdout",
     "output_type": "stream",
     "text": [
      "                                        Id  Subject Focus  Eyes  Face  Near  \\\n",
      "4370  f39d0796370bbf60133dbf9f1e86e3cf.jpg              0     1     1     1   \n",
      "4371  f39e4ffa826f0370b6d9ca392baad06a.jpg              0     1     1     1   \n",
      "4372  f3ae0533473faff59042902c588adf93.jpg              0     1     1     1   \n",
      "4373  f3ae3123565f631e19cf3bbdda0f03aa.jpg              0     1     1     1   \n",
      "4374  f3b15ca931d7283e382af39fb0b385b1.jpg              0     1     1     1   \n",
      "...                                    ...            ...   ...   ...   ...   \n",
      "4595  ff76db2a10b7bc5a3217ccb083e87e75.jpg              0     1     1     1   \n",
      "4596  ff9b3b3468c4b35a3b6450a1ddc88449.jpg              0     1     1     1   \n",
      "4597  ffcc8532d76436fc79e50eb2e5238e45.jpg              0     1     1     1   \n",
      "4598  fff19e2ce11718548fa1c5d039a5192a.jpg              0     1     1     1   \n",
      "4599  fff8e47c766799c9e12f3cb3d66ad228.jpg              0     1     1     1   \n",
      "\n",
      "      Action  Accessory  Group  Collage  Human  Occlusion  Info  Blur  \\\n",
      "4370       0          0      0        0      1          1     0     0   \n",
      "4371       0          0      0        0      1          0     0     0   \n",
      "4372       0          0      0        0      0          0     0     0   \n",
      "4373       0          0      0        0      0          0     0     0   \n",
      "4374       0          0      0        0      0          0     0     0   \n",
      "...      ...        ...    ...      ...    ...        ...   ...   ...   \n",
      "4595       0          0      0        0      0          0     0     0   \n",
      "4596       0          0      0        0      0          0     0     0   \n",
      "4597       0          0      0        0      0          0     0     0   \n",
      "4598       0          0      0        0      1          0     0     0   \n",
      "4599       0          0      0        0      0          0     0     0   \n",
      "\n",
      "      Pawpularity  \n",
      "4370           54  \n",
      "4371           21  \n",
      "4372           25  \n",
      "4373           33  \n",
      "4374           48  \n",
      "...           ...  \n",
      "4595           40  \n",
      "4596           44  \n",
      "4597           70  \n",
      "4598           20  \n",
      "4599           30  \n",
      "\n",
      "[230 rows x 14 columns]\n"
     ]
    }
   ],
   "source": [
    "df = pd.read_csv(\"../input/petfinder-pawpularity-score/train.csv\")\n",
    "df[\"Id\"] = df[\"Id\"].apply(lambda x:x+ \".jpg\")\n",
    "#cat=pd.DataFrame(os.listdir('../input/train-after-classification/cats'), columns=['Id'])\n",
    "dog=pd.DataFrame(os.listdir('../input/train-after-classification/dogs'), columns=['Id'])\n",
    "#smth=pd.DataFrame(os.listdir('../input/train-after-classification/smth'), columns=['Id'])\n",
    "#cat_labels=df.merge(cat, on='Id', how='inner')\n",
    "#cat_labels.to_csv('cat_labels.csv',encoding='utf-8', index=False)\n",
    "dog_labels=df.merge(dog, on='Id', how='inner')\n",
    "dog_labels.to_csv('dog_labels.csv',encoding='utf-8', index=False)\n",
    "#smth_labels=df.merge(smth, on='Id', how='inner')\n",
    "#smth_labels.to_csv('smth_labels.csv',encoding='utf-8', index=False)\n",
    "\n",
    "\n",
    "#submission_df = pd.read_csv(\"../input/petfinder-pawpularity-score/train.csv\")\n",
    "\n",
    "train_data, test_data = np.split(dog_labels, [int(.95*len(dog_labels))])\n",
    "X_train = train_data.iloc[:, 1:-1]\n",
    "y_train = train_data.iloc[:, -1]\n",
    "X_test = test_data.iloc[:, 1:-1]\n",
    "y_test = test_data.iloc[:, -1]\n",
    "print(test_data)"
   ]
  },
  {
   "cell_type": "code",
   "execution_count": 17,
   "id": "0a89d88f",
   "metadata": {
    "execution": {
     "iopub.execute_input": "2022-02-02T20:40:57.961862Z",
     "iopub.status.busy": "2022-02-02T20:40:57.960276Z",
     "iopub.status.idle": "2022-02-02T20:40:57.962504Z",
     "shell.execute_reply": "2022-02-02T20:40:57.962904Z",
     "shell.execute_reply.started": "2022-02-02T12:28:46.106537Z"
    },
    "papermill": {
     "duration": 0.045522,
     "end_time": "2022-02-02T20:40:57.963028",
     "exception": false,
     "start_time": "2022-02-02T20:40:57.917506",
     "status": "completed"
    },
    "tags": []
   },
   "outputs": [],
   "source": [
    "\n",
    "train_subset = ImageDataset(train_data[['Id', 'Pawpularity']], '../input/train-after-classification/dogs',\n",
    "                            transform=transform, target_transform=target_transform)\n",
    "train_dataloader = DataLoader(train_subset, batch_size=8, shuffle=True, num_workers=2)\n",
    "\n",
    "eval_dataset = ImageDataset(test_data[['Id', 'Pawpularity']], '../input/train-after-classification/dogs',\n",
    "                            transform=transform)\n",
    "eval_dataloader = DataLoader(eval_dataset, batch_size=8)\n",
    "num_epochs = 24"
   ]
  },
  {
   "cell_type": "code",
   "execution_count": 18,
   "id": "22b9b215",
   "metadata": {
    "execution": {
     "iopub.execute_input": "2022-02-02T20:40:58.042961Z",
     "iopub.status.busy": "2022-02-02T20:40:58.042063Z",
     "iopub.status.idle": "2022-02-02T21:06:42.090420Z",
     "shell.execute_reply": "2022-02-02T21:06:42.090843Z",
     "shell.execute_reply.started": "2022-02-02T12:28:49.060239Z"
    },
    "papermill": {
     "duration": 1544.090381,
     "end_time": "2022-02-02T21:06:42.090998",
     "exception": false,
     "start_time": "2022-02-02T20:40:58.000617",
     "status": "completed"
    },
    "tags": []
   },
   "outputs": [
    {
     "name": "stdout",
     "output_type": "stream",
     "text": [
      "Epoch 0/23, Loss: 0.6793\n",
      "Epoch 1/23, Loss: 0.6689\n",
      "Epoch 2/23, Loss: 0.6686\n",
      "Epoch 3/23, Loss: 0.6687\n",
      "Epoch 4/23, Loss: 0.6663\n",
      "Epoch 5/23, Loss: 0.6680\n",
      "Epoch 6/23, Loss: 0.6680\n",
      "Epoch 7/23, Loss: 0.6594\n",
      "Epoch 8/23, Loss: 0.6581\n",
      "Epoch 9/23, Loss: 0.6571\n",
      "Epoch 10/23, Loss: 0.6576\n",
      "Epoch 11/23, Loss: 0.6585\n",
      "Epoch 12/23, Loss: 0.6577\n",
      "Epoch 13/23, Loss: 0.6585\n",
      "Epoch 14/23, Loss: 0.6567\n",
      "Epoch 15/23, Loss: 0.6567\n",
      "Epoch 16/23, Loss: 0.6565\n",
      "Epoch 17/23, Loss: 0.6562\n",
      "Epoch 18/23, Loss: 0.6566\n",
      "Epoch 19/23, Loss: 0.6564\n",
      "Epoch 20/23, Loss: 0.6571\n",
      "Epoch 21/23, Loss: 0.6569\n",
      "Epoch 22/23, Loss: 0.6561\n",
      "Epoch 23/23, Loss: 0.6564\n"
     ]
    },
    {
     "data": {
      "image/png": "[encoded data removed]",
      "text/plain": [
       "<Figure size 432x288 with 1 Axes>"
      ]
     },
     "metadata": {
      "needs_background": "light"
     },
     "output_type": "display_data"
    }
   ],
   "source": [
    "model_conv_dog = models.resnet18(pretrained=True)\n",
    "#wandb.watch(model_conv, log_freq=100)\n",
    "\n",
    "freeze_parameters(model_conv_dog)\n",
    "redefine_last_layer(model_conv_dog)\n",
    "criterion_conv, optimizer_conv, learning_rate_scheduler_conv = \\\n",
    "    get_training_funcs(model_conv_dog)\n",
    "\n",
    "model_conv_dog = model_conv_dog.to(device)\n",
    "model_conv_dog, debug_data_conv_dog = train_model(model_conv_dog, train_dataloader, criterion_conv, optimizer_conv, \\\n",
    "            learning_rate_scheduler_conv, num_epochs=num_epochs, model_name='resnet18_dog')\n",
    "\n",
    "losses_conv_dog, epoches_conv_dog = debug_data_conv_dog\n",
    "loss_graph(losses_conv_dog, epoches_conv_dog) "
   ]
  },
  {
   "cell_type": "code",
   "execution_count": 19,
   "id": "a744e3e5",
   "metadata": {
    "execution": {
     "iopub.execute_input": "2022-02-02T21:06:42.182185Z",
     "iopub.status.busy": "2022-02-02T21:06:42.181394Z",
     "iopub.status.idle": "2022-02-02T21:06:48.062914Z",
     "shell.execute_reply": "2022-02-02T21:06:48.063490Z",
     "shell.execute_reply.started": "2022-02-02T12:54:03.096060Z"
    },
    "papermill": {
     "duration": 5.929247,
     "end_time": "2022-02-02T21:06:48.063678",
     "exception": false,
     "start_time": "2022-02-02T21:06:42.134431",
     "status": "completed"
    },
    "tags": []
   },
   "outputs": [
    {
     "name": "stdout",
     "output_type": "stream",
     "text": [
      "rmse: tensor(16.5593, device='cuda:0')\n",
      "rmse: tensor(19.4338, device='cuda:0')\n",
      "rmse: tensor(33.8868, device='cuda:0')\n",
      "rmse: tensor(22.6704, device='cuda:0')\n",
      "rmse: tensor(18.6358, device='cuda:0')\n",
      "rmse: tensor(28.1720, device='cuda:0')\n",
      "rmse: tensor(23.2574, device='cuda:0')\n",
      "rmse: tensor(12.2040, device='cuda:0')\n",
      "rmse: tensor(17.6645, device='cuda:0')\n",
      "rmse: tensor(31.3935, device='cuda:0')\n",
      "rmse: tensor(22.9048, device='cuda:0')\n",
      "rmse: tensor(19.6227, device='cuda:0')\n",
      "rmse: tensor(25.9295, device='cuda:0')\n",
      "rmse: tensor(14.9422, device='cuda:0')\n",
      "rmse: tensor(28.4635, device='cuda:0')\n",
      "rmse: tensor(16.5043, device='cuda:0')\n",
      "rmse: tensor(20.7638, device='cuda:0')\n",
      "rmse: tensor(21.3913, device='cuda:0')\n",
      "rmse: tensor(23.7261, device='cuda:0')\n",
      "rmse: tensor(15.3275, device='cuda:0')\n",
      "rmse: tensor(17.6542, device='cuda:0')\n",
      "rmse: tensor(16.7038, device='cuda:0')\n",
      "rmse: tensor(17.6404, device='cuda:0')\n",
      "rmse: tensor(17.9815, device='cuda:0')\n",
      "rmse: tensor(16.2452, device='cuda:0')\n",
      "rmse: tensor(20.8864, device='cuda:0')\n",
      "rmse: tensor(24.0531, device='cuda:0')\n",
      "rmse: tensor(18.6844, device='cuda:0')\n",
      "rmse: tensor(20.3081, device='cuda:0')\n",
      "rmse for whole data: tensor(21.4105, device='cuda:0')  size of eval data:  torch.Size([230, 1]) 230\n"
     ]
    },
    {
     "data": {
      "text/plain": [
       "tensor(21.4105, device='cuda:0')"
      ]
     },
     "execution_count": 19,
     "metadata": {},
     "output_type": "execute_result"
    }
   ],
   "source": [
    "eval_model(model_conv_dog, eval_dataloader)"
   ]
  },
  {
   "cell_type": "markdown",
   "id": "a6abac7e",
   "metadata": {
    "papermill": {
     "duration": 0.088279,
     "end_time": "2022-02-02T21:06:48.245942",
     "exception": false,
     "start_time": "2022-02-02T21:06:48.157663",
     "status": "completed"
    },
    "tags": []
   },
   "source": [
    "## SMTH TRAIN"
   ]
  },
  {
   "cell_type": "code",
   "execution_count": 20,
   "id": "c5eb3260",
   "metadata": {
    "execution": {
     "iopub.execute_input": "2022-02-02T21:06:48.415755Z",
     "iopub.status.busy": "2022-02-02T21:06:48.414930Z",
     "iopub.status.idle": "2022-02-02T21:06:48.583531Z",
     "shell.execute_reply": "2022-02-02T21:06:48.584159Z",
     "shell.execute_reply.started": "2022-02-02T11:50:02.595288Z"
    },
    "papermill": {
     "duration": 0.257666,
     "end_time": "2022-02-02T21:06:48.584359",
     "exception": false,
     "start_time": "2022-02-02T21:06:48.326693",
     "status": "completed"
    },
    "tags": []
   },
   "outputs": [],
   "source": [
    "df = pd.read_csv(\"../input/petfinder-pawpularity-score/train.csv\")\n",
    "df[\"Id\"] = df[\"Id\"].apply(lambda x:x+ \".jpg\")\n",
    "#cat=pd.DataFrame(os.listdir('../input/train-after-classification/cats'), columns=['Id'])\n",
    "#dog=pd.DataFrame(os.listdir('../input/train-after-classification/dogs'), columns=['Id'])\n",
    "smth=pd.DataFrame(os.listdir('../input/train-after-classification/smth'), columns=['Id'])\n",
    "#cat_labels=df.merge(cat, on='Id', how='inner')\n",
    "#cat_labels.to_csv('cat_labels.csv',encoding='utf-8', index=False)\n",
    "#dog_labels=df.merge(dog, on='Id', how='inner')\n",
    "#dog_labels.to_csv('dog_labels.csv',encoding='utf-8', index=False)\n",
    "smth_labels=df.merge(smth, on='Id', how='inner')\n",
    "smth_labels.to_csv('smth_labels.csv',encoding='utf-8', index=False)\n",
    "\n",
    "\n",
    "#submission_df = pd.read_csv(\"../input/petfinder-pawpularity-score/train.csv\")\n",
    "\n",
    "train_data, test_data = np.split(smth_labels, [int(.95*len(smth_labels))])\n",
    "X_train = train_data.iloc[:, 1:-1]\n",
    "y_train = train_data.iloc[:, -1]\n",
    "X_test = test_data.iloc[:, 1:-1]\n",
    "y_test = test_data.iloc[:, -1]"
   ]
  },
  {
   "cell_type": "code",
   "execution_count": 21,
   "id": "31ae74be",
   "metadata": {
    "execution": {
     "iopub.execute_input": "2022-02-02T21:06:48.704113Z",
     "iopub.status.busy": "2022-02-02T21:06:48.702346Z",
     "iopub.status.idle": "2022-02-02T21:06:48.704699Z",
     "shell.execute_reply": "2022-02-02T21:06:48.705134Z",
     "shell.execute_reply.started": "2022-02-02T11:50:05.372680Z"
    },
    "papermill": {
     "duration": 0.058505,
     "end_time": "2022-02-02T21:06:48.705272",
     "exception": false,
     "start_time": "2022-02-02T21:06:48.646767",
     "status": "completed"
    },
    "tags": []
   },
   "outputs": [],
   "source": [
    "train_subset = ImageDataset(train_data[['Id', 'Pawpularity']], '../input/train-after-classification/smth',\n",
    "                            transform=transform, target_transform=target_transform)\n",
    "train_dataloader = DataLoader(train_subset, batch_size=8, shuffle=True, num_workers=2)\n",
    "\n",
    "eval_dataset = ImageDataset(test_data[['Id', 'Pawpularity']], '../input/train-after-classification/smth',\n",
    "                            transform=transform)\n",
    "eval_dataloader = DataLoader(eval_dataset, batch_size=8)\n",
    "num_epochs = 24"
   ]
  },
  {
   "cell_type": "code",
   "execution_count": 22,
   "id": "ae7745f3",
   "metadata": {
    "execution": {
     "iopub.execute_input": "2022-02-02T21:06:48.811196Z",
     "iopub.status.busy": "2022-02-02T21:06:48.810465Z",
     "iopub.status.idle": "2022-02-02T21:21:19.985919Z",
     "shell.execute_reply": "2022-02-02T21:21:19.986321Z",
     "shell.execute_reply.started": "2022-02-02T11:50:08.472972Z"
    },
    "papermill": {
     "duration": 871.233075,
     "end_time": "2022-02-02T21:21:19.986488",
     "exception": false,
     "start_time": "2022-02-02T21:06:48.753413",
     "status": "completed"
    },
    "tags": []
   },
   "outputs": [
    {
     "name": "stdout",
     "output_type": "stream",
     "text": [
      "Epoch 0/23, Loss: 0.6619\n",
      "Epoch 1/23, Loss: 0.6514\n",
      "Epoch 2/23, Loss: 0.6513\n",
      "Epoch 3/23, Loss: 0.6476\n",
      "Epoch 4/23, Loss: 0.6466\n",
      "Epoch 5/23, Loss: 0.6496\n",
      "Epoch 6/23, Loss: 0.6455\n",
      "Epoch 7/23, Loss: 0.6410\n",
      "Epoch 8/23, Loss: 0.6406\n",
      "Epoch 9/23, Loss: 0.6399\n",
      "Epoch 10/23, Loss: 0.6404\n",
      "Epoch 11/23, Loss: 0.6404\n",
      "Epoch 12/23, Loss: 0.6395\n",
      "Epoch 13/23, Loss: 0.6412\n",
      "Epoch 14/23, Loss: 0.6396\n",
      "Epoch 15/23, Loss: 0.6399\n",
      "Epoch 16/23, Loss: 0.6393\n",
      "Epoch 17/23, Loss: 0.6395\n",
      "Epoch 18/23, Loss: 0.6395\n",
      "Epoch 19/23, Loss: 0.6398\n",
      "Epoch 20/23, Loss: 0.6404\n",
      "Epoch 21/23, Loss: 0.6403\n",
      "Epoch 22/23, Loss: 0.6397\n",
      "Epoch 23/23, Loss: 0.6395\n"
     ]
    },
    {
     "data": {
      "image/png": "[encoded data removed]",
      "text/plain": [
       "<Figure size 432x288 with 1 Axes>"
      ]
     },
     "metadata": {
      "needs_background": "light"
     },
     "output_type": "display_data"
    }
   ],
   "source": [
    "model_conv_smth = models.resnet18(pretrained=True)\n",
    "#wandb.watch(model_conv, log_freq=100)\n",
    "\n",
    "freeze_parameters(model_conv_smth)\n",
    "redefine_last_layer(model_conv_smth)\n",
    "criterion_conv, optimizer_conv, learning_rate_scheduler_conv = \\\n",
    "    get_training_funcs(model_conv_smth)\n",
    "\n",
    "model_conv_smth = model_conv_smth.to(device)\n",
    "model_conv_smth, debug_data_conv_smth = train_model(model_conv_smth, train_dataloader, criterion_conv, optimizer_conv, \\\n",
    "            learning_rate_scheduler_conv, num_epochs=num_epochs, model_name='resnet18_smth')\n",
    "\n",
    "losses_conv_smth, epoches_conv_smth = debug_data_conv_smth\n",
    "loss_graph(losses_conv_smth, epoches_conv_smth) "
   ]
  },
  {
   "cell_type": "code",
   "execution_count": 23,
   "id": "d1c881df",
   "metadata": {
    "execution": {
     "iopub.execute_input": "2022-02-02T21:21:20.102962Z",
     "iopub.status.busy": "2022-02-02T21:21:20.102172Z",
     "iopub.status.idle": "2022-02-02T21:21:23.121497Z",
     "shell.execute_reply": "2022-02-02T21:21:23.120971Z",
     "shell.execute_reply.started": "2022-02-02T12:04:36.753571Z"
    },
    "papermill": {
     "duration": 3.078975,
     "end_time": "2022-02-02T21:21:23.121632",
     "exception": false,
     "start_time": "2022-02-02T21:21:20.042657",
     "status": "completed"
    },
    "tags": []
   },
   "outputs": [
    {
     "name": "stdout",
     "output_type": "stream",
     "text": [
      "rmse: tensor(9.1905, device='cuda:0')\n",
      "rmse: tensor(12.5350, device='cuda:0')\n",
      "rmse: tensor(19.6428, device='cuda:0')\n",
      "rmse: tensor(12.4162, device='cuda:0')\n",
      "rmse: tensor(15.5774, device='cuda:0')\n",
      "rmse: tensor(24.0458, device='cuda:0')\n",
      "rmse: tensor(14.0892, device='cuda:0')\n",
      "rmse: tensor(13.9379, device='cuda:0')\n",
      "rmse: tensor(10.8341, device='cuda:0')\n",
      "rmse: tensor(13.2159, device='cuda:0')\n",
      "rmse: tensor(22.2745, device='cuda:0')\n",
      "rmse: tensor(17.3318, device='cuda:0')\n",
      "rmse: tensor(14.3806, device='cuda:0')\n",
      "rmse: tensor(13.9632, device='cuda:0')\n",
      "rmse: tensor(19.6937, device='cuda:0')\n",
      "rmse: tensor(16.3267, device='cuda:0')\n",
      "rmse for whole data: tensor(16.0778, device='cuda:0')  size of eval data:  torch.Size([124, 1]) 124\n"
     ]
    },
    {
     "data": {
      "text/plain": [
       "tensor(16.0778, device='cuda:0')"
      ]
     },
     "execution_count": 23,
     "metadata": {},
     "output_type": "execute_result"
    }
   ],
   "source": [
    "eval_model(model_conv_smth, eval_dataloader)"
   ]
  },
  {
   "cell_type": "markdown",
   "id": "db31634c",
   "metadata": {
    "papermill": {
     "duration": 0.057316,
     "end_time": "2022-02-02T21:21:23.237340",
     "exception": false,
     "start_time": "2022-02-02T21:21:23.180024",
     "status": "completed"
    },
    "tags": []
   },
   "source": [
    "## Submission "
   ]
  },
  {
   "cell_type": "code",
   "execution_count": 24,
   "id": "bdc1c9bf",
   "metadata": {
    "execution": {
     "iopub.execute_input": "2022-02-02T21:21:23.357838Z",
     "iopub.status.busy": "2022-02-02T21:21:23.357267Z",
     "iopub.status.idle": "2022-02-02T21:21:28.010926Z",
     "shell.execute_reply": "2022-02-02T21:21:28.011556Z",
     "shell.execute_reply.started": "2022-02-02T14:35:38.201143Z"
    },
    "papermill": {
     "duration": 4.716492,
     "end_time": "2022-02-02T21:21:28.011727",
     "exception": false,
     "start_time": "2022-02-02T21:21:23.295235",
     "status": "completed"
    },
    "tags": []
   },
   "outputs": [],
   "source": [
    "from PIL import Image\n",
    "import numpy as np\n",
    "from tensorflow.keras.applications.resnet50 import ResNet50, preprocess_input\n",
    "from tensorflow.keras.preprocessing.image import load_img, img_to_array\n",
    "from keras.applications.resnet import preprocess_input as resnet_preprocessing_input\n",
    "import torch"
   ]
  },
  {
   "cell_type": "code",
   "execution_count": 25,
   "id": "b292c0be",
   "metadata": {
    "execution": {
     "iopub.execute_input": "2022-02-02T21:21:28.192624Z",
     "iopub.status.busy": "2022-02-02T21:21:28.191454Z",
     "iopub.status.idle": "2022-02-02T21:21:32.100140Z",
     "shell.execute_reply": "2022-02-02T21:21:32.099640Z"
    },
    "papermill": {
     "duration": 4.028416,
     "end_time": "2022-02-02T21:21:32.100280",
     "exception": false,
     "start_time": "2022-02-02T21:21:28.071864",
     "status": "completed"
    },
    "tags": []
   },
   "outputs": [
    {
     "name": "stderr",
     "output_type": "stream",
     "text": [
      "2022-02-02 21:21:28.248324: I tensorflow/stream_executor/cuda/cuda_gpu_executor.cc:937] successful NUMA node read from SysFS had negative value (-1), but there must be at least one NUMA node, so returning NUMA node zero\n",
      "2022-02-02 21:21:28.250434: I tensorflow/stream_executor/cuda/cuda_gpu_executor.cc:937] successful NUMA node read from SysFS had negative value (-1), but there must be at least one NUMA node, so returning NUMA node zero\n",
      "2022-02-02 21:21:28.251738: I tensorflow/stream_executor/cuda/cuda_gpu_executor.cc:937] successful NUMA node read from SysFS had negative value (-1), but there must be at least one NUMA node, so returning NUMA node zero\n",
      "2022-02-02 21:21:28.253221: I tensorflow/core/platform/cpu_feature_guard.cc:142] This TensorFlow binary is optimized with oneAPI Deep Neural Network Library (oneDNN) to use the following CPU instructions in performance-critical operations:  AVX2 AVX512F FMA\n",
      "To enable them in other operations, rebuild TensorFlow with the appropriate compiler flags.\n",
      "2022-02-02 21:21:28.254273: I tensorflow/stream_executor/cuda/cuda_gpu_executor.cc:937] successful NUMA node read from SysFS had negative value (-1), but there must be at least one NUMA node, so returning NUMA node zero\n",
      "2022-02-02 21:21:28.255459: I tensorflow/stream_executor/cuda/cuda_gpu_executor.cc:937] successful NUMA node read from SysFS had negative value (-1), but there must be at least one NUMA node, so returning NUMA node zero\n",
      "2022-02-02 21:21:28.256612: I tensorflow/stream_executor/cuda/cuda_gpu_executor.cc:937] successful NUMA node read from SysFS had negative value (-1), but there must be at least one NUMA node, so returning NUMA node zero\n",
      "2022-02-02 21:21:29.872710: I tensorflow/stream_executor/cuda/cuda_gpu_executor.cc:937] successful NUMA node read from SysFS had negative value (-1), but there must be at least one NUMA node, so returning NUMA node zero\n",
      "2022-02-02 21:21:29.873502: I tensorflow/stream_executor/cuda/cuda_gpu_executor.cc:937] successful NUMA node read from SysFS had negative value (-1), but there must be at least one NUMA node, so returning NUMA node zero\n",
      "2022-02-02 21:21:29.874177: I tensorflow/stream_executor/cuda/cuda_gpu_executor.cc:937] successful NUMA node read from SysFS had negative value (-1), but there must be at least one NUMA node, so returning NUMA node zero\n",
      "2022-02-02 21:21:29.874744: I tensorflow/core/common_runtime/gpu/gpu_device.cc:1510] Created device /job:localhost/replica:0/task:0/device:GPU:0 with 14513 MB memory:  -> device: 0, name: Tesla P100-PCIE-16GB, pci bus id: 0000:00:04.0, compute capability: 6.0\n"
     ]
    },
    {
     "name": "stdout",
     "output_type": "stream",
     "text": [
      "Downloading data from https://storage.googleapis.com/tensorflow/keras-applications/resnet/resnet50_weights_tf_dim_ordering_tf_kernels.h5\n",
      "102973440/102967424 [==============================] - 1s 0us/step\n",
      "102981632/102967424 [==============================] - 1s 0us/step\n"
     ]
    }
   ],
   "source": [
    "ResNet50_model = ResNet50(weights='imagenet')"
   ]
  },
  {
   "cell_type": "code",
   "execution_count": 26,
   "id": "63c4d7f7",
   "metadata": {
    "execution": {
     "iopub.execute_input": "2022-02-02T21:21:32.230375Z",
     "iopub.status.busy": "2022-02-02T21:21:32.229618Z",
     "iopub.status.idle": "2022-02-02T21:21:56.558767Z",
     "shell.execute_reply": "2022-02-02T21:21:56.558064Z",
     "shell.execute_reply.started": "2022-02-02T14:41:08.637373Z"
    },
    "papermill": {
     "duration": 24.395501,
     "end_time": "2022-02-02T21:21:56.558974",
     "exception": false,
     "start_time": "2022-02-02T21:21:32.163473",
     "status": "completed"
    },
    "tags": []
   },
   "outputs": [
    {
     "name": "stderr",
     "output_type": "stream",
     "text": [
      "2022-02-02 21:21:41.391078: W tensorflow/python/util/util.cc:348] Sets are not currently considered sequences, but this may change in the future, so consider avoiding using them.\n",
      "/opt/conda/lib/python3.7/site-packages/keras/utils/generic_utils.py:497: CustomMaskWarning: Custom mask layers require a config and must override get_config. When loading, the custom mask layer must be passed to the custom_objects argument.\n",
      "  category=CustomMaskWarning)\n"
     ]
    }
   ],
   "source": [
    "ResNet50_model.save('/kaggle/working/ResNet50_model/')"
   ]
  },
  {
   "cell_type": "code",
   "execution_count": null,
   "id": "1ade6edf",
   "metadata": {
    "papermill": {
     "duration": 0.062591,
     "end_time": "2022-02-02T21:21:56.684433",
     "exception": false,
     "start_time": "2022-02-02T21:21:56.621842",
     "status": "completed"
    },
    "tags": []
   },
   "outputs": [],
   "source": []
  },
  {
   "cell_type": "code",
   "execution_count": 27,
   "id": "b36fece7",
   "metadata": {
    "execution": {
     "iopub.execute_input": "2022-02-02T21:21:56.830675Z",
     "iopub.status.busy": "2022-02-02T21:21:56.829972Z",
     "iopub.status.idle": "2022-02-02T21:21:58.671126Z",
     "shell.execute_reply": "2022-02-02T21:21:58.670618Z",
     "shell.execute_reply.started": "2022-02-02T13:19:05.112154Z"
    },
    "papermill": {
     "duration": 1.924323,
     "end_time": "2022-02-02T21:21:58.671271",
     "exception": false,
     "start_time": "2022-02-02T21:21:56.746948",
     "status": "completed"
    },
    "tags": []
   },
   "outputs": [
    {
     "name": "stderr",
     "output_type": "stream",
     "text": [
      "2022-02-02 21:21:56.890583: I tensorflow/compiler/mlir/mlir_graph_optimization_pass.cc:185] None of the MLIR Optimization Passes are enabled (registered 2)\n",
      "2022-02-02 21:21:57.907393: I tensorflow/stream_executor/cuda/cuda_dnn.cc:369] Loaded cuDNN version 8005\n"
     ]
    },
    {
     "name": "stdout",
     "output_type": "stream",
     "text": [
      "411\n",
      "torch.Size([1, 3, 299, 299])\n",
      "[tensor([[31.0750]], device='cuda:0', grad_fn=<MulBackward0>)]\n",
      "411\n",
      "torch.Size([1, 3, 299, 299])\n",
      "[tensor([[31.0750]], device='cuda:0', grad_fn=<MulBackward0>), tensor([[29.7324]], device='cuda:0', grad_fn=<MulBackward0>)]\n",
      "411\n",
      "torch.Size([1, 3, 299, 299])\n",
      "[tensor([[31.0750]], device='cuda:0', grad_fn=<MulBackward0>), tensor([[29.7324]], device='cuda:0', grad_fn=<MulBackward0>), tensor([[29.8152]], device='cuda:0', grad_fn=<MulBackward0>)]\n",
      "574\n",
      "torch.Size([1, 3, 299, 299])\n",
      "[tensor([[31.0750]], device='cuda:0', grad_fn=<MulBackward0>), tensor([[29.7324]], device='cuda:0', grad_fn=<MulBackward0>), tensor([[29.8152]], device='cuda:0', grad_fn=<MulBackward0>), tensor([[27.4476]], device='cuda:0', grad_fn=<MulBackward0>)]\n",
      "792\n",
      "torch.Size([1, 3, 299, 299])\n",
      "[tensor([[31.0750]], device='cuda:0', grad_fn=<MulBackward0>), tensor([[29.7324]], device='cuda:0', grad_fn=<MulBackward0>), tensor([[29.8152]], device='cuda:0', grad_fn=<MulBackward0>), tensor([[27.4476]], device='cuda:0', grad_fn=<MulBackward0>), tensor([[29.4359]], device='cuda:0', grad_fn=<MulBackward0>)]\n",
      "792\n",
      "torch.Size([1, 3, 299, 299])\n",
      "[tensor([[31.0750]], device='cuda:0', grad_fn=<MulBackward0>), tensor([[29.7324]], device='cuda:0', grad_fn=<MulBackward0>), tensor([[29.8152]], device='cuda:0', grad_fn=<MulBackward0>), tensor([[27.4476]], device='cuda:0', grad_fn=<MulBackward0>), tensor([[29.4359]], device='cuda:0', grad_fn=<MulBackward0>), tensor([[29.5569]], device='cuda:0', grad_fn=<MulBackward0>)]\n",
      "411\n",
      "torch.Size([1, 3, 299, 299])\n",
      "[tensor([[31.0750]], device='cuda:0', grad_fn=<MulBackward0>), tensor([[29.7324]], device='cuda:0', grad_fn=<MulBackward0>), tensor([[29.8152]], device='cuda:0', grad_fn=<MulBackward0>), tensor([[27.4476]], device='cuda:0', grad_fn=<MulBackward0>), tensor([[29.4359]], device='cuda:0', grad_fn=<MulBackward0>), tensor([[29.5569]], device='cuda:0', grad_fn=<MulBackward0>), tensor([[27.0812]], device='cuda:0', grad_fn=<MulBackward0>)]\n",
      "574\n",
      "torch.Size([1, 3, 299, 299])\n",
      "[tensor([[31.0750]], device='cuda:0', grad_fn=<MulBackward0>), tensor([[29.7324]], device='cuda:0', grad_fn=<MulBackward0>), tensor([[29.8152]], device='cuda:0', grad_fn=<MulBackward0>), tensor([[27.4476]], device='cuda:0', grad_fn=<MulBackward0>), tensor([[29.4359]], device='cuda:0', grad_fn=<MulBackward0>), tensor([[29.5569]], device='cuda:0', grad_fn=<MulBackward0>), tensor([[27.0812]], device='cuda:0', grad_fn=<MulBackward0>), tensor([[28.3068]], device='cuda:0', grad_fn=<MulBackward0>)]\n"
     ]
    }
   ],
   "source": [
    "test_dir = '../input/petfinder-pawpularity-score/test'\n",
    "test_df = pd.read_csv('../input/petfinder-pawpularity-score/test.csv')\n",
    "result = []\n",
    "predictor = nn.Sigmoid()\n",
    "for image_id in test_df.iloc[:, 0]:\n",
    "    img_path = os.path.join(test_dir, image_id)\n",
    "    image = Image.open(img_path + '.jpg') # read_image\n",
    "    img=image.resize((224, 224), Image.ANTIALIAS)\n",
    "    converted_image = img_to_array(img)\n",
    "    reshaped_image = converted_image.reshape((1, converted_image.shape[0], converted_image.shape[1], converted_image.shape[2]))\n",
    "    resnet_preprocessed_image = resnet_preprocessing_input(reshaped_image)\n",
    "    probs= ResNet50_model.predict(resnet_preprocessed_image)\n",
    "    position_of_max = np.argmax(probs)\n",
    "    print(position_of_max)\n",
    "    if ((position_of_max >= 151) & (position_of_max <= 268)):\n",
    "        transformed = transform(image)\n",
    "        transformed = transformed.reshape(1, transformed.shape[0], transformed.shape[1], transformed.shape[2]).to(device)\n",
    "        output=model_conv_dog(transformed)        \n",
    "    elif ((position_of_max >= 281) & (position_of_max <= 285)):\n",
    "        transformed = transform(image)\n",
    "        transformed = transformed.reshape(1, transformed.shape[0], transformed.shape[1], transformed.shape[2]).to(device)\n",
    "        output = model_conv_cat(transformed)\n",
    "    else:\n",
    "        transformed = transform(image)\n",
    "        transformed = transformed.reshape(1, transformed.shape[0], transformed.shape[1], transformed.shape[2]).to(device)\n",
    "        print(transformed.shape)\n",
    "        output = model_conv_smth(transformed)\n",
    "    pred = target_inverse_transform(predictor(output))\n",
    "    result.append(pred)\n",
    "    print(result)\n",
    "        \n",
    "result_df = pd.DataFrame({'Id': test_df.iloc[:, 0], 'Pawpularity': result})\n",
    "result_df.to_csv( 'ann_submission.csv', sep='\\t')"
   ]
  },
  {
   "cell_type": "markdown",
   "id": "a5aec9fc",
   "metadata": {
    "papermill": {
     "duration": 0.063435,
     "end_time": "2022-02-02T21:21:58.798734",
     "exception": false,
     "start_time": "2022-02-02T21:21:58.735299",
     "status": "completed"
    },
    "tags": []
   },
   "source": [
    "# TODO\n",
    "\n",
    "* modify model (ref: https://discuss.pytorch.org/t/how-to-replace-a-layer-or-module-in-a-pretrained-network/60068)\n",
    "* select model params (ref: https://stackoverflow.com/questions/52548174/how-to-remove-the-last-fc-layer-from-a-resnet-model-in-pytorch )\n",
    "* improve inception net (https://discuss.pytorch.org/t/how-to-optimize-inception-model-with-auxiliary-classifiers/7958)"
   ]
  },
  {
   "cell_type": "code",
   "execution_count": null,
   "id": "499d7dd9",
   "metadata": {
    "papermill": {
     "duration": 0.064841,
     "end_time": "2022-02-02T21:21:58.927853",
     "exception": false,
     "start_time": "2022-02-02T21:21:58.863012",
     "status": "completed"
    },
    "tags": []
   },
   "outputs": [],
   "source": []
  }
 ],
 "metadata": {
  "kernelspec": {
   "display_name": "Python 3",
   "language": "python",
   "name": "python3"
  },
  "language_info": {
   "codemirror_mode": {
    "name": "ipython",
    "version": 3
   },
   "file_extension": ".py",
   "mimetype": "text/x-python",
   "name": "python",
   "nbconvert_exporter": "python",
   "pygments_lexer": "ipython3",
   "version": "3.8.8"
  },
  "papermill": {
   "default_parameters": {},
   "duration": 3508.767743,
   "end_time": "2022-02-02T21:22:02.209594",
   "environment_variables": {},
   "exception": null,
   "input_path": "__notebook__.ipynb",
   "output_path": "__notebook__.ipynb",
   "parameters": {},
   "start_time": "2022-02-02T20:23:33.441851",
   "version": "2.3.3"
  },
  "widgets": {
   "application/vnd.jupyter.widget-state+json": {
    "state": {
     "0a9e5ae5b01b4193b2a5f2f792bae81c": {
      "model_module": "@jupyter-widgets/controls",
      "model_module_version": "1.5.0",
      "model_name": "FloatProgressModel",
      "state": {
       "_dom_classes": [],
       "_model_module": "@jupyter-widgets/controls",
       "_model_module_version": "1.5.0",
       "_model_name": "FloatProgressModel",
       "_view_count": null,
       "_view_module": "@jupyter-widgets/controls",
       "_view_module_version": "1.5.0",
       "_view_name": "ProgressView",
       "bar_style": "success",
       "description": "",
       "description_tooltip": null,
       "layout": "IPY_MODEL_9de56c8e9f63448287545cdc99c67b66",
       "max": 46830571,
       "min": 0,
       "orientation": "horizontal",
       "style": "IPY_MODEL_d8b6d7d11cf348b89e2fd9bd9bc6a399",
       "value": 46830571
      }
     },
     "299dc06b74ac4430a1f7878a898826e3": {
      "model_module": "@jupyter-widgets/base",
      "model_module_version": "1.2.0",
      "model_name": "LayoutModel",
      "state": {
       "_model_module": "@jupyter-widgets/base",
       "_model_module_version": "1.2.0",
       "_model_name": "LayoutModel",
       "_view_count": null,
       "_view_module": "@jupyter-widgets/base",
       "_view_module_version": "1.2.0",
       "_view_name": "LayoutView",
       "align_content": null,
       "align_items": null,
       "align_self": null,
       "border": null,
       "bottom": null,
       "display": null,
       "flex": null,
       "flex_flow": null,
       "grid_area": null,
       "grid_auto_columns": null,
       "grid_auto_flow": null,
       "grid_auto_rows": null,
       "grid_column": null,
       "grid_gap": null,
       "grid_row": null,
       "grid_template_areas": null,
       "grid_template_columns": null,
       "grid_template_rows": null,
       "height": null,
       "justify_content": null,
       "justify_items": null,
       "left": null,
       "margin": null,
       "max_height": null,
       "max_width": null,
       "min_height": null,
       "min_width": null,
       "object_fit": null,
       "object_position": null,
       "order": null,
       "overflow": null,
       "overflow_x": null,
       "overflow_y": null,
       "padding": null,
       "right": null,
       "top": null,
       "visibility": null,
       "width": null
      }
     },
     "4bc6d2e5659f41908fa6eaca5e614384": {
      "model_module": "@jupyter-widgets/controls",
      "model_module_version": "1.5.0",
      "model_name": "HTMLModel",
      "state": {
       "_dom_classes": [],
       "_model_module": "@jupyter-widgets/controls",
       "_model_module_version": "1.5.0",
       "_model_name": "HTMLModel",
       "_view_count": null,
       "_view_module": "@jupyter-widgets/controls",
       "_view_module_version": "1.5.0",
       "_view_name": "HTMLView",
       "description": "",
       "description_tooltip": null,
       "layout": "IPY_MODEL_299dc06b74ac4430a1f7878a898826e3",
       "placeholder": "​",
       "style": "IPY_MODEL_b4c7986341d44e89ba4259c5790cf993",
       "value": " 44.7M/44.7M [00:00&lt;00:00, 183MB/s]"
      }
     },
     "9de56c8e9f63448287545cdc99c67b66": {
      "model_module": "@jupyter-widgets/base",
      "model_module_version": "1.2.0",
      "model_name": "LayoutModel",
      "state": {
       "_model_module": "@jupyter-widgets/base",
       "_model_module_version": "1.2.0",
       "_model_name": "LayoutModel",
       "_view_count": null,
       "_view_module": "@jupyter-widgets/base",
       "_view_module_version": "1.2.0",
       "_view_name": "LayoutView",
       "align_content": null,
       "align_items": null,
       "align_self": null,
       "border": null,
       "bottom": null,
       "display": null,
       "flex": null,
       "flex_flow": null,
       "grid_area": null,
       "grid_auto_columns": null,
       "grid_auto_flow": null,
       "grid_auto_rows": null,
       "grid_column": null,
       "grid_gap": null,
       "grid_row": null,
       "grid_template_areas": null,
       "grid_template_columns": null,
       "grid_template_rows": null,
       "height": null,
       "justify_content": null,
       "justify_items": null,
       "left": null,
       "margin": null,
       "max_height": null,
       "max_width": null,
       "min_height": null,
       "min_width": null,
       "object_fit": null,
       "object_position": null,
       "order": null,
       "overflow": null,
       "overflow_x": null,
       "overflow_y": null,
       "padding": null,
       "right": null,
       "top": null,
       "visibility": null,
       "width": null
      }
     },
     "b2e0a4ea4b0247758f660ebb1bd13230": {
      "model_module": "@jupyter-widgets/base",
      "model_module_version": "1.2.0",
      "model_name": "LayoutModel",
      "state": {
       "_model_module": "@jupyter-widgets/base",
       "_model_module_version": "1.2.0",
       "_model_name": "LayoutModel",
       "_view_count": null,
       "_view_module": "@jupyter-widgets/base",
       "_view_module_version": "1.2.0",
       "_view_name": "LayoutView",
       "align_content": null,
       "align_items": null,
       "align_self": null,
       "border": null,
       "bottom": null,
       "display": null,
       "flex": null,
       "flex_flow": null,
       "grid_area": null,
       "grid_auto_columns": null,
       "grid_auto_flow": null,
       "grid_auto_rows": null,
       "grid_column": null,
       "grid_gap": null,
       "grid_row": null,
       "grid_template_areas": null,
       "grid_template_columns": null,
       "grid_template_rows": null,
       "height": null,
       "justify_content": null,
       "justify_items": null,
       "left": null,
       "margin": null,
       "max_height": null,
       "max_width": null,
       "min_height": null,
       "min_width": null,
       "object_fit": null,
       "object_position": null,
       "order": null,
       "overflow": null,
       "overflow_x": null,
       "overflow_y": null,
       "padding": null,
       "right": null,
       "top": null,
       "visibility": null,
       "width": null
      }
     },
     "b4c7986341d44e89ba4259c5790cf993": {
      "model_module": "@jupyter-widgets/controls",
      "model_module_version": "1.5.0",
      "model_name": "DescriptionStyleModel",
      "state": {
       "_model_module": "@jupyter-widgets/controls",
       "_model_module_version": "1.5.0",
       "_model_name": "DescriptionStyleModel",
       "_view_count": null,
       "_view_module": "@jupyter-widgets/base",
       "_view_module_version": "1.2.0",
       "_view_name": "StyleView",
       "description_width": ""
      }
     },
     "d8b6d7d11cf348b89e2fd9bd9bc6a399": {
      "model_module": "@jupyter-widgets/controls",
      "model_module_version": "1.5.0",
      "model_name": "ProgressStyleModel",
      "state": {
       "_model_module": "@jupyter-widgets/controls",
       "_model_module_version": "1.5.0",
       "_model_name": "ProgressStyleModel",
       "_view_count": null,
       "_view_module": "@jupyter-widgets/base",
       "_view_module_version": "1.2.0",
       "_view_name": "StyleView",
       "bar_color": null,
       "description_width": ""
      }
     },
     "dd7ead7788b34c88a181c39f31e19404": {
      "model_module": "@jupyter-widgets/controls",
      "model_module_version": "1.5.0",
      "model_name": "HTMLModel",
      "state": {
       "_dom_classes": [],
       "_model_module": "@jupyter-widgets/controls",
       "_model_module_version": "1.5.0",
       "_model_name": "HTMLModel",
       "_view_count": null,
       "_view_module": "@jupyter-widgets/controls",
       "_view_module_version": "1.5.0",
       "_view_name": "HTMLView",
       "description": "",
       "description_tooltip": null,
       "layout": "IPY_MODEL_b2e0a4ea4b0247758f660ebb1bd13230",
       "placeholder": "​",
       "style": "IPY_MODEL_e8707b45e6254726a22a72b802e8c8db",
       "value": "100%"
      }
     },
     "e7da95a5d9ba4bca8c23b91db7355024": {
      "model_module": "@jupyter-widgets/base",
      "model_module_version": "1.2.0",
      "model_name": "LayoutModel",
      "state": {
       "_model_module": "@jupyter-widgets/base",
       "_model_module_version": "1.2.0",
       "_model_name": "LayoutModel",
       "_view_count": null,
       "_view_module": "@jupyter-widgets/base",
       "_view_module_version": "1.2.0",
       "_view_name": "LayoutView",
       "align_content": null,
       "align_items": null,
       "align_self": null,
       "border": null,
       "bottom": null,
       "display": null,
       "flex": null,
       "flex_flow": null,
       "grid_area": null,
       "grid_auto_columns": null,
       "grid_auto_flow": null,
       "grid_auto_rows": null,
       "grid_column": null,
       "grid_gap": null,
       "grid_row": null,
       "grid_template_areas": null,
       "grid_template_columns": null,
       "grid_template_rows": null,
       "height": null,
       "justify_content": null,
       "justify_items": null,
       "left": null,
       "margin": null,
       "max_height": null,
       "max_width": null,
       "min_height": null,
       "min_width": null,
       "object_fit": null,
       "object_position": null,
       "order": null,
       "overflow": null,
       "overflow_x": null,
       "overflow_y": null,
       "padding": null,
       "right": null,
       "top": null,
       "visibility": null,
       "width": null
      }
     },
     "e8707b45e6254726a22a72b802e8c8db": {
      "model_module": "@jupyter-widgets/controls",
      "model_module_version": "1.5.0",
      "model_name": "DescriptionStyleModel",
      "state": {
       "_model_module": "@jupyter-widgets/controls",
       "_model_module_version": "1.5.0",
       "_model_name": "DescriptionStyleModel",
       "_view_count": null,
       "_view_module": "@jupyter-widgets/base",
       "_view_module_version": "1.2.0",
       "_view_name": "StyleView",
       "description_width": ""
      }
     },
     "f93588ee64e44354b5fdfde2cbf6325b": {
      "model_module": "@jupyter-widgets/controls",
      "model_module_version": "1.5.0",
      "model_name": "HBoxModel",
      "state": {
       "_dom_classes": [],
       "_model_module": "@jupyter-widgets/controls",
       "_model_module_version": "1.5.0",
       "_model_name": "HBoxModel",
       "_view_count": null,
       "_view_module": "@jupyter-widgets/controls",
       "_view_module_version": "1.5.0",
       "_view_name": "HBoxView",
       "box_style": "",
       "children": [
        "IPY_MODEL_dd7ead7788b34c88a181c39f31e19404",
        "IPY_MODEL_0a9e5ae5b01b4193b2a5f2f792bae81c",
        "IPY_MODEL_4bc6d2e5659f41908fa6eaca5e614384"
       ],
       "layout": "IPY_MODEL_e7da95a5d9ba4bca8c23b91db7355024"
      }
     }
    },
    "version_major": 2,
    "version_minor": 0
   }
  }
 },
 "nbformat": 4,
 "nbformat_minor": 5
}
