{
 "cells": [
  {
   "cell_type": "code",
   "execution_count": 1,
   "metadata": {
    "execution": {
     "iopub.execute_input": "2022-01-20T13:10:47.324038Z",
     "iopub.status.busy": "2022-01-20T13:10:47.323759Z",
     "iopub.status.idle": "2022-01-20T13:10:47.32936Z",
     "shell.execute_reply": "2022-01-20T13:10:47.328427Z",
     "shell.execute_reply.started": "2022-01-20T13:10:47.324009Z"
    }
   },
   "outputs": [],
   "source": [
    "from PIL import Image\n",
    "import numpy as np\n",
    "from tensorflow.keras.applications.resnet50 import ResNet50, preprocess_input\n",
    "from tensorflow.keras.preprocessing.image import load_img, img_to_array\n",
    "from keras.applications.resnet import preprocess_input as resnet_preprocessing_input\n",
    "\n",
    "from tqdm.auto import tqdm"
   ]
  },
  {
   "cell_type": "markdown",
   "metadata": {},
   "source": [
    "## Using just pretrained model classify into 3 folders: cats, dogs ans smth(no cats and no dogs)"
   ]
  },
  {
   "cell_type": "code",
   "execution_count": 2,
   "metadata": {
    "execution": {
     "iopub.execute_input": "2022-01-20T13:10:47.331845Z",
     "iopub.status.busy": "2022-01-20T13:10:47.331355Z",
     "iopub.status.idle": "2022-01-20T13:10:51.845722Z",
     "shell.execute_reply": "2022-01-20T13:10:51.844957Z",
     "shell.execute_reply.started": "2022-01-20T13:10:47.331809Z"
    }
   },
   "outputs": [],
   "source": [
    "# Create a Redidual-network already trained in the IMAGENET\n",
    "ResNet50_model = ResNet50(weights='imagenet')"
   ]
  },
  {
   "cell_type": "code",
   "execution_count": 3,
   "metadata": {
    "execution": {
     "iopub.execute_input": "2022-01-20T13:10:51.847273Z",
     "iopub.status.busy": "2022-01-20T13:10:51.847038Z",
     "iopub.status.idle": "2022-01-20T13:10:51.850597Z",
     "shell.execute_reply": "2022-01-20T13:10:51.849788Z",
     "shell.execute_reply.started": "2022-01-20T13:10:51.847239Z"
    }
   },
   "outputs": [],
   "source": [
    "import pandas as pd"
   ]
  },
  {
   "cell_type": "code",
   "execution_count": 4,
   "metadata": {
    "execution": {
     "iopub.execute_input": "2022-01-20T13:10:51.854856Z",
     "iopub.status.busy": "2022-01-20T13:10:51.854217Z",
     "iopub.status.idle": "2022-01-20T13:10:51.899518Z",
     "shell.execute_reply": "2022-01-20T13:10:51.898869Z",
     "shell.execute_reply.started": "2022-01-20T13:10:51.854819Z"
    }
   },
   "outputs": [],
   "source": [
    "df=pd.read_csv('train.csv')"
   ]
  },
  {
   "cell_type": "code",
   "execution_count": 5,
   "metadata": {
    "execution": {
     "iopub.execute_input": "2022-01-20T13:10:51.901082Z",
     "iopub.status.busy": "2022-01-20T13:10:51.900821Z",
     "iopub.status.idle": "2022-01-20T13:10:51.912915Z",
     "shell.execute_reply": "2022-01-20T13:10:51.912189Z",
     "shell.execute_reply.started": "2022-01-20T13:10:51.901045Z"
    }
   },
   "outputs": [],
   "source": [
    "df[\"img\"] = df[\"Id\"].apply(lambda x:x+ \".jpg\")"
   ]
  },
  {
   "cell_type": "code",
   "execution_count": 6,
   "metadata": {
    "execution": {
     "iopub.execute_input": "2022-01-20T13:10:51.914671Z",
     "iopub.status.busy": "2022-01-20T13:10:51.914205Z",
     "iopub.status.idle": "2022-01-20T13:10:51.925408Z",
     "shell.execute_reply": "2022-01-20T13:10:51.924742Z",
     "shell.execute_reply.started": "2022-01-20T13:10:51.914635Z"
    }
   },
   "outputs": [],
   "source": [
    "df=df[['img', 'Pawpularity']]"
   ]
  },
  {
   "cell_type": "code",
   "execution_count": 7,
   "metadata": {
    "execution": {
     "iopub.execute_input": "2022-01-20T13:10:51.926958Z",
     "iopub.status.busy": "2022-01-20T13:10:51.926695Z",
     "iopub.status.idle": "2022-01-20T13:10:51.933277Z",
     "shell.execute_reply": "2022-01-20T13:10:51.932562Z",
     "shell.execute_reply.started": "2022-01-20T13:10:51.926923Z"
    }
   },
   "outputs": [],
   "source": [
    "import os"
   ]
  },
  {
   "cell_type": "code",
   "execution_count": 8,
   "metadata": {
    "execution": {
     "iopub.execute_input": "2022-01-20T13:10:51.934461Z",
     "iopub.status.busy": "2022-01-20T13:10:51.934263Z",
     "iopub.status.idle": "2022-01-20T13:10:51.942116Z",
     "shell.execute_reply": "2022-01-20T13:10:51.941437Z",
     "shell.execute_reply.started": "2022-01-20T13:10:51.934437Z"
    }
   },
   "outputs": [],
   "source": [
    "dogs=[]\n",
    "cats=[]\n",
    "what_is_it={}\n",
    "what_is_it['img']=[]\n",
    "what_is_it['Class ID']=[]\n",
    "doggy_breed={}\n",
    "doggy_breed['img']=[]\n",
    "doggy_breed['Class ID']=[]"
   ]
  },
  {
   "cell_type": "code",
   "execution_count": 9,
   "metadata": {
    "execution": {
     "iopub.execute_input": "2022-01-20T13:10:51.943757Z",
     "iopub.status.busy": "2022-01-20T13:10:51.94341Z",
     "iopub.status.idle": "2022-01-20T13:22:28.119219Z",
     "shell.execute_reply": "2022-01-20T13:22:28.118549Z",
     "shell.execute_reply.started": "2022-01-20T13:10:51.943719Z"
    }
   },
   "outputs": [
    {
     "data": {
      "application/vnd.jupyter.widget-view+json": {
       "model_id": "699d43e7bf284177a29ead837577e3dd",
       "version_major": 2,
       "version_minor": 0
      },
      "text/plain": [
       "  0%|          | 0/9912 [00:00<?, ?it/s]"
      ]
     },
     "metadata": {},
     "output_type": "display_data"
    }
   ],
   "source": [
    "for i in tqdm(range(len(df))):\n",
    "    img_name=str(df.iloc[i].img)\n",
    "    root_to_image=os.path.join('C://Users/Nusha/Desktop/Passaustudying/third semester/AI_lab/train', img_name)\n",
    "    im=Image.open(root_to_image)\n",
    "    img=im.resize((224, 224), Image.ANTIALIAS)\n",
    "    converted_image = img_to_array(img)\n",
    "    reshaped_image = converted_image.reshape((1, converted_image.shape[0], converted_image.shape[1], converted_image.shape[2]))\n",
    "    resnet_preprocessed_image = resnet_preprocessing_input(reshaped_image)\n",
    "    probs= ResNet50_model.predict(resnet_preprocessed_image)\n",
    "    position_of_max = np.argmax(probs)\n",
    "    if ((position_of_max >= 151) & (position_of_max <= 268)):\n",
    "        dogs.append(img_name)\n",
    "        doggy_breed['img'].append(img_name)\n",
    "        doggy_breed['Class ID'].append(position_of_max)\n",
    "    elif ((position_of_max >= 281) & (position_of_max <= 285)):\n",
    "        cats.append(img_name)\n",
    "    else:\n",
    "        what_is_it['img'].append(img_name)\n",
    "        what_is_it['Class ID'].append(position_of_max)\n",
    "    #break\n",
    "    "
   ]
  },
  {
   "cell_type": "code",
   "execution_count": 10,
   "metadata": {},
   "outputs": [],
   "source": [
    "dog_df=pd.DataFrame(dogs, columns=['img'])\n",
    "cat_df=pd.DataFrame(cats, columns=['img'])\n",
    "smth_df=pd.DataFrame(what_is_it, columns=['img', 'Class ID'])\n",
    "dog_df.to_csv('dogs.csv')\n",
    "cat_df.to_csv('cat.csv')\n",
    "smth_df.to_csv('smth.csv')"
   ]
  },
  {
   "cell_type": "code",
   "execution_count": 13,
   "metadata": {
    "execution": {
     "iopub.execute_input": "2022-01-20T13:42:30.659493Z",
     "iopub.status.busy": "2022-01-20T13:42:30.658771Z",
     "iopub.status.idle": "2022-01-20T13:42:30.66381Z",
     "shell.execute_reply": "2022-01-20T13:42:30.663101Z",
     "shell.execute_reply.started": "2022-01-20T13:42:30.659459Z"
    }
   },
   "outputs": [
    {
     "name": "stdout",
     "output_type": "stream",
     "text": [
      "4600\n",
      "2841\n",
      "2471\n"
     ]
    }
   ],
   "source": [
    "print(len(dog_df))\n",
    "print(len(cat_df))\n",
    "print(len(smth_df))"
   ]
  },
  {
   "cell_type": "markdown",
   "metadata": {
    "execution": {
     "iopub.execute_input": "2022-01-20T13:35:29.979419Z",
     "iopub.status.busy": "2022-01-20T13:35:29.979171Z",
     "iopub.status.idle": "2022-01-20T13:35:30.005204Z",
     "shell.execute_reply": "2022-01-20T13:35:30.004571Z",
     "shell.execute_reply.started": "2022-01-20T13:35:29.979389Z"
    }
   },
   "source": [
    "#### Create folders"
   ]
  },
  {
   "cell_type": "code",
   "execution_count": 14,
   "metadata": {
    "execution": {
     "iopub.execute_input": "2022-01-20T13:58:16.522603Z",
     "iopub.status.busy": "2022-01-20T13:58:16.522358Z",
     "iopub.status.idle": "2022-01-20T13:58:16.527261Z",
     "shell.execute_reply": "2022-01-20T13:58:16.526445Z",
     "shell.execute_reply.started": "2022-01-20T13:58:16.522574Z"
    }
   },
   "outputs": [],
   "source": [
    "os.makedirs('C://Users/Nusha/Desktop/Passaustudying/third semester/AI_lab/train/cats')\n",
    "os.makedirs('C://Users/Nusha/Desktop/Passaustudying/third semester/AI_lab/train/dogs')\n",
    "os.makedirs('C://Users/Nusha/Desktop/Passaustudying/third semester/AI_lab/train/smth')"
   ]
  },
  {
   "cell_type": "code",
   "execution_count": 15,
   "metadata": {
    "execution": {
     "iopub.execute_input": "2022-01-20T14:15:54.244678Z",
     "iopub.status.busy": "2022-01-20T14:15:54.244256Z"
    }
   },
   "outputs": [
    {
     "data": {
      "application/vnd.jupyter.widget-view+json": {
       "model_id": "52148cfef07449cfbbc301257f20c476",
       "version_major": 2,
       "version_minor": 0
      },
      "text/plain": [
       "  0%|          | 0/9912 [00:00<?, ?it/s]"
      ]
     },
     "metadata": {},
     "output_type": "display_data"
    }
   ],
   "source": [
    "for i in tqdm(range(len(df))):\n",
    "    img_name=str(df.iloc[i].img)\n",
    "    if img_name in dogs:\n",
    "        os.replace(os.path.join('C://Users/Nusha/Desktop/Passaustudying/third semester/AI_lab/train/', img_name), os.path.join('C://Users/Nusha/Desktop/Passaustudying/third semester/AI_lab/train/dogs',img_name))\n",
    "    elif img_name in cats:\n",
    "        os.replace(os.path.join('C://Users/Nusha/Desktop/Passaustudying/third semester/AI_lab/train/', img_name), os.path.join('C://Users/Nusha/Desktop/Passaustudying/third semester/AI_lab/train/cats',img_name))\n",
    "    else:\n",
    "        os.replace(os.path.join('C://Users/Nusha/Desktop/Passaustudying/third semester/AI_lab/train/', img_name), os.path.join('C://Users/Nusha/Desktop/Passaustudying/third semester/AI_lab/train/smth',img_name))\n",
    "        \n",
    "    "
   ]
  },
  {
   "cell_type": "code",
   "execution_count": null,
   "metadata": {},
   "outputs": [],
   "source": []
  }
 ],
 "metadata": {
  "kernelspec": {
   "display_name": "Python 3",
   "language": "python",
   "name": "python3"
  },
  "language_info": {
   "codemirror_mode": {
    "name": "ipython",
    "version": 3
   },
   "file_extension": ".py",
   "mimetype": "text/x-python",
   "name": "python",
   "nbconvert_exporter": "python",
   "pygments_lexer": "ipython3",
   "version": "3.8.8"
  }
 },
 "nbformat": 4,
 "nbformat_minor": 4
}
