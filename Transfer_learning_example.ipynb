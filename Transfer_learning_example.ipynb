{
  "cells": [
    {
      "cell_type": "markdown",
      "metadata": {
        "id": "-pEYR-wUX62B"
      },
      "source": [
        "### Transfer Learning example"
      ]
    },
    {
      "cell_type": "markdown",
      "metadata": {
        "id": "qVDMCJ95XyFm"
      },
      "source": [
        "This notebook based on https://towardsdatascience.com/cnn-transfer-learning-fine-tuning-9f3e7c5806b2\n",
        "\n"
      ]
    },
    {
      "cell_type": "markdown",
      "metadata": {
        "id": "L0KLoNtfYIk-"
      },
      "source": [
        "What if we removed the last layer of the VGG16, which simply takes a probability for each of the 1000 classes in the ImageNet and replaces it with a layer that takes 10 probabilities? This way, we could take all the knowledge that VGG16 has trained on the ImageNet and apply it to our problem!\n",
        "For this, we would initialize our network with the weights from the ImageNet, and then freeze all the convolutional and max-pooling layers so that they do not modify their weights, leaving only the fully connected ones free.\n",
        "Once this is done, we would start retraining. In this way, we manage to take advantage of the feature extraction stage of our network and only tune the final classifier to work better with our dataset. This is what is known as Transfer Learning because we take advantage of the knowledge of another problem to solve the one we are dealing with.\n"
      ]
    },
    {
      "cell_type": "code",
      "execution_count": null,
      "metadata": {
        "id": "1EBlnjQDYHE2"
      },
      "outputs": [],
      "source": [
        "# We first load the necessary libraries, the dataset \n",
        "import tensorflow as tf\n",
        "from keras import callbacks\n",
        "from keras import optimizers\n",
        "from tensorflow.keras import Model\n",
        "from tensorflow.keras.layers import Dropout, Flatten, Dense\n",
        "from tensorflow.keras.optimizers import Adam\n",
        "from tensorflow.keras.applications import VGG16\n",
        "from tensorflow.keras.datasets import cifar10\n",
        "from tensorflow.keras.utils import to_categorical\n",
        "import numpy as np\n"
      ]
    },
    {
      "cell_type": "code",
      "execution_count": null,
      "metadata": {
        "colab": {
          "base_uri": "https://localhost:8080/"
        },
        "id": "L4wNTj6VYUth",
        "outputId": "536f5165-636d-465a-93b0-f3e032f392c6"
      },
      "outputs": [
        {
          "name": "stdout",
          "output_type": "stream",
          "text": [
            "Downloading data from https://www.cs.toronto.edu/~kriz/cifar-10-python.tar.gz\n",
            "170500096/170498071 [==============================] - 2s 0us/step\n",
            "170508288/170498071 [==============================] - 2s 0us/step\n"
          ]
        }
      ],
      "source": [
        "#Reshape its dimensons to the minimum allowed by the VGG16 --> (48,48,3)\n",
        "input_shape = (48, 48, 3)\n",
        "(X_train, y_train), (X_test, y_test) = cifar10.load_data()\n",
        "Y_train = to_categorical(y_train)\n",
        "Y_test = to_categorical(y_test)"
      ]
    },
    {
      "cell_type": "code",
      "execution_count": null,
      "metadata": {
        "colab": {
          "base_uri": "https://localhost:8080/"
        },
        "id": "rtEjY4ETbfPD",
        "outputId": "1d913868-20fe-4111-ecdf-feeb1e046c26"
      },
      "outputs": [
        {
          "name": "stdout",
          "output_type": "stream",
          "text": [
            "(50000, 48, 48, 3)\n"
          ]
        }
      ],
      "source": [
        "# resize train set\n",
        "X_train_resized = []\n",
        "for img in X_train:\n",
        "  X_train_resized.append(np.resize(img, input_shape) / 255)\n",
        "  \n",
        "X_train_resized = np.array(X_train_resized)\n",
        "print(X_train_resized.shape)"
      ]
    },
    {
      "cell_type": "code",
      "execution_count": null,
      "metadata": {
        "colab": {
          "base_uri": "https://localhost:8080/"
        },
        "id": "DJYnqk32bhTp",
        "outputId": "aeaa4da4-4282-46d3-bed2-0c4db39b83e4"
      },
      "outputs": [
        {
          "name": "stdout",
          "output_type": "stream",
          "text": [
            "(10000, 48, 48, 3)\n"
          ]
        }
      ],
      "source": [
        "# resize test set\n",
        "X_test_resized = []\n",
        "for img in X_test:\n",
        "  X_test_resized.append(np.resize(img, input_shape) / 255)\n",
        "  \n",
        "X_test_resized = np.array(X_test_resized)\n",
        "print(X_test_resized.shape)"
      ]
    },
    {
      "cell_type": "code",
      "execution_count": null,
      "metadata": {
        "colab": {
          "base_uri": "https://localhost:8080/"
        },
        "id": "OaAOkGw1bkA7",
        "outputId": "6d6118d6-2f97-4401-c3ca-7bc2d4cbc533"
      },
      "outputs": [
        {
          "name": "stdout",
          "output_type": "stream",
          "text": [
            "Downloading data from https://storage.googleapis.com/tensorflow/keras-applications/vgg16/vgg16_weights_tf_dim_ordering_tf_kernels_notop.h5\n",
            "58892288/58889256 [==============================] - 0s 0us/step\n",
            "58900480/58889256 [==============================] - 0s 0us/step\n",
            "Model: \"vgg16\"\n",
            "_________________________________________________________________\n",
            " Layer (type)                Output Shape              Param #   \n",
            "=================================================================\n",
            " input_1 (InputLayer)        [(None, 48, 48, 3)]       0         \n",
            "                                                                 \n",
            " block1_conv1 (Conv2D)       (None, 48, 48, 64)        1792      \n",
            "                                                                 \n",
            " block1_conv2 (Conv2D)       (None, 48, 48, 64)        36928     \n",
            "                                                                 \n",
            " block1_pool (MaxPooling2D)  (None, 24, 24, 64)        0         \n",
            "                                                                 \n",
            " block2_conv1 (Conv2D)       (None, 24, 24, 128)       73856     \n",
            "                                                                 \n",
            " block2_conv2 (Conv2D)       (None, 24, 24, 128)       147584    \n",
            "                                                                 \n",
            " block2_pool (MaxPooling2D)  (None, 12, 12, 128)       0         \n",
            "                                                                 \n",
            " block3_conv1 (Conv2D)       (None, 12, 12, 256)       295168    \n",
            "                                                                 \n",
            " block3_conv2 (Conv2D)       (None, 12, 12, 256)       590080    \n",
            "                                                                 \n",
            " block3_conv3 (Conv2D)       (None, 12, 12, 256)       590080    \n",
            "                                                                 \n",
            " block3_pool (MaxPooling2D)  (None, 6, 6, 256)         0         \n",
            "                                                                 \n",
            " block4_conv1 (Conv2D)       (None, 6, 6, 512)         1180160   \n",
            "                                                                 \n",
            " block4_conv2 (Conv2D)       (None, 6, 6, 512)         2359808   \n",
            "                                                                 \n",
            " block4_conv3 (Conv2D)       (None, 6, 6, 512)         2359808   \n",
            "                                                                 \n",
            " block4_pool (MaxPooling2D)  (None, 3, 3, 512)         0         \n",
            "                                                                 \n",
            " block5_conv1 (Conv2D)       (None, 3, 3, 512)         2359808   \n",
            "                                                                 \n",
            " block5_conv2 (Conv2D)       (None, 3, 3, 512)         2359808   \n",
            "                                                                 \n",
            " block5_conv3 (Conv2D)       (None, 3, 3, 512)         2359808   \n",
            "                                                                 \n",
            " block5_pool (MaxPooling2D)  (None, 1, 1, 512)         0         \n",
            "                                                                 \n",
            "=================================================================\n",
            "Total params: 14,714,688\n",
            "Trainable params: 14,714,688\n",
            "Non-trainable params: 0\n",
            "_________________________________________________________________\n"
          ]
        }
      ],
      "source": [
        "# We build the base model\n",
        "base_model = VGG16(weights='imagenet', include_top=False, input_shape=input_shape)\n",
        "base_model.summary()"
      ]
    },
    {
      "cell_type": "code",
      "execution_count": null,
      "metadata": {
        "colab": {
          "base_uri": "https://localhost:8080/"
        },
        "id": "VLByheS3bu70",
        "outputId": "4024e494-eb7d-4132-e773-f0d1aa83092b"
      },
      "outputs": [
        {
          "name": "stdout",
          "output_type": "stream",
          "text": [
            "Layer input_1 frozen.\n",
            "Layer block1_conv1 frozen.\n",
            "Layer block1_conv2 frozen.\n",
            "Layer block1_pool frozen.\n",
            "Layer block2_conv1 frozen.\n",
            "Layer block2_conv2 frozen.\n",
            "Layer block2_pool frozen.\n",
            "Layer block3_conv1 frozen.\n",
            "Layer block3_conv2 frozen.\n",
            "Layer block3_conv3 frozen.\n",
            "Layer block3_pool frozen.\n",
            "Layer block4_conv1 frozen.\n",
            "Layer block4_conv2 frozen.\n",
            "Layer block4_conv3 frozen.\n",
            "Layer block4_pool frozen.\n",
            "Layer block5_conv1 frozen.\n",
            "Layer block5_conv2 frozen.\n",
            "Layer block5_conv3 frozen.\n",
            "Layer block5_pool frozen.\n"
          ]
        }
      ],
      "source": [
        "# We freeze every layer in our base model so that they do not train, we want that our feature extractor stays as before --> transfer learning\n",
        "for layer in base_model.layers: \n",
        "  layer.trainable = False\n",
        "  print('Layer ' + layer.name + ' frozen.')"
      ]
    },
    {
      "cell_type": "code",
      "execution_count": null,
      "metadata": {
        "id": "tVAmOLvibz42"
      },
      "outputs": [],
      "source": [
        "# We take the last layer of our the model and add it to our classifier\n",
        "last = base_model.layers[-1].output\n",
        "x = Flatten()(last)\n",
        "x = Dense(1000, activation='relu', name='fc1')(x)\n",
        "x = Dropout(0.3)(x)\n",
        "x = Dense(10, activation='softmax', name='predictions')(x)\n",
        "model = Model(base_model.input, x)"
      ]
    },
    {
      "cell_type": "code",
      "execution_count": null,
      "metadata": {
        "colab": {
          "base_uri": "https://localhost:8080/"
        },
        "id": "tbl615TrcQh-",
        "outputId": "a7601a31-ddcc-48e7-c8e1-b85591021158"
      },
      "outputs": [
        {
          "name": "stdout",
          "output_type": "stream",
          "text": [
            "Model: \"model\"\n",
            "_________________________________________________________________\n",
            " Layer (type)                Output Shape              Param #   \n",
            "=================================================================\n",
            " input_1 (InputLayer)        [(None, 48, 48, 3)]       0         \n",
            "                                                                 \n",
            " block1_conv1 (Conv2D)       (None, 48, 48, 64)        1792      \n",
            "                                                                 \n",
            " block1_conv2 (Conv2D)       (None, 48, 48, 64)        36928     \n",
            "                                                                 \n",
            " block1_pool (MaxPooling2D)  (None, 24, 24, 64)        0         \n",
            "                                                                 \n",
            " block2_conv1 (Conv2D)       (None, 24, 24, 128)       73856     \n",
            "                                                                 \n",
            " block2_conv2 (Conv2D)       (None, 24, 24, 128)       147584    \n",
            "                                                                 \n",
            " block2_pool (MaxPooling2D)  (None, 12, 12, 128)       0         \n",
            "                                                                 \n",
            " block3_conv1 (Conv2D)       (None, 12, 12, 256)       295168    \n",
            "                                                                 \n",
            " block3_conv2 (Conv2D)       (None, 12, 12, 256)       590080    \n",
            "                                                                 \n",
            " block3_conv3 (Conv2D)       (None, 12, 12, 256)       590080    \n",
            "                                                                 \n",
            " block3_pool (MaxPooling2D)  (None, 6, 6, 256)         0         \n",
            "                                                                 \n",
            " block4_conv1 (Conv2D)       (None, 6, 6, 512)         1180160   \n",
            "                                                                 \n",
            " block4_conv2 (Conv2D)       (None, 6, 6, 512)         2359808   \n",
            "                                                                 \n",
            " block4_conv3 (Conv2D)       (None, 6, 6, 512)         2359808   \n",
            "                                                                 \n",
            " block4_pool (MaxPooling2D)  (None, 3, 3, 512)         0         \n",
            "                                                                 \n",
            " block5_conv1 (Conv2D)       (None, 3, 3, 512)         2359808   \n",
            "                                                                 \n",
            " block5_conv2 (Conv2D)       (None, 3, 3, 512)         2359808   \n",
            "                                                                 \n",
            " block5_conv3 (Conv2D)       (None, 3, 3, 512)         2359808   \n",
            "                                                                 \n",
            " block5_pool (MaxPooling2D)  (None, 1, 1, 512)         0         \n",
            "                                                                 \n",
            " flatten_1 (Flatten)         (None, 512)               0         \n",
            "                                                                 \n",
            " fc1 (Dense)                 (None, 1000)              513000    \n",
            "                                                                 \n",
            " dropout_1 (Dropout)         (None, 1000)              0         \n",
            "                                                                 \n",
            " predictions (Dense)         (None, 10)                10010     \n",
            "                                                                 \n",
            "=================================================================\n",
            "Total params: 15,237,698\n",
            "Trainable params: 523,010\n",
            "Non-trainable params: 14,714,688\n",
            "_________________________________________________________________\n"
          ]
        },
        {
          "name": "stderr",
          "output_type": "stream",
          "text": [
            "/usr/local/lib/python3.7/dist-packages/keras/optimizer_v2/adam.py:105: UserWarning: The `lr` argument is deprecated, use `learning_rate` instead.\n",
            "  super(Adam, self).__init__(name, **kwargs)\n"
          ]
        }
      ],
      "source": [
        "# We compile the model\n",
        "model.compile(optimizer=Adam(lr=0.001), loss='categorical_crossentropy', metrics=['accuracy'])\n",
        "model.summary()"
      ]
    },
    {
      "cell_type": "code",
      "execution_count": null,
      "metadata": {
        "colab": {
          "base_uri": "https://localhost:8080/"
        },
        "id": "SqV8uhjYceJo",
        "outputId": "aaa62739-bf8a-4ac9-b23d-d03a7d1cc35c"
      },
      "outputs": [
        {
          "output_type": "stream",
          "name": "stdout",
          "text": [
            "Epoch 1/10\n",
            "196/196 [==============================] - 1341s 7s/step - loss: 1.7858 - accuracy: 0.3581 - val_loss: 1.6672 - val_accuracy: 0.4092\n",
            "Epoch 2/10\n",
            "196/196 [==============================] - 1344s 7s/step - loss: 1.6426 - accuracy: 0.4120 - val_loss: 1.6183 - val_accuracy: 0.4182\n",
            "Epoch 3/10\n",
            "196/196 [==============================] - 1339s 7s/step - loss: 1.5972 - accuracy: 0.4309 - val_loss: 1.5969 - val_accuracy: 0.4337\n",
            "Epoch 4/10\n",
            "196/196 [==============================] - 1338s 7s/step - loss: 1.5703 - accuracy: 0.4390 - val_loss: 1.5658 - val_accuracy: 0.4408\n",
            "Epoch 5/10\n",
            "196/196 [==============================] - 1342s 7s/step - loss: 1.5430 - accuracy: 0.4492 - val_loss: 1.5619 - val_accuracy: 0.4411\n",
            "Epoch 6/10\n",
            "196/196 [==============================] - 1342s 7s/step - loss: 1.5239 - accuracy: 0.4584 - val_loss: 1.5553 - val_accuracy: 0.4421\n",
            "Epoch 7/10\n",
            "196/196 [==============================] - 1343s 7s/step - loss: 1.5049 - accuracy: 0.4630 - val_loss: 1.5355 - val_accuracy: 0.4497\n",
            "Epoch 8/10\n",
            "196/196 [==============================] - 1340s 7s/step - loss: 1.4925 - accuracy: 0.4679 - val_loss: 1.5349 - val_accuracy: 0.4489\n",
            "Epoch 9/10\n",
            "196/196 [==============================] - 1347s 7s/step - loss: 1.4747 - accuracy: 0.4759 - val_loss: 1.5252 - val_accuracy: 0.4552\n",
            "Epoch 10/10\n",
            "196/196 [==============================] - 1342s 7s/step - loss: 1.4620 - accuracy: 0.4813 - val_loss: 1.5113 - val_accuracy: 0.4568\n"
          ]
        },
        {
          "output_type": "execute_result",
          "data": {
            "text/plain": [
              "<keras.callbacks.History at 0x7f0ca255d790>"
            ]
          },
          "metadata": {},
          "execution_count": 9
        }
      ],
      "source": [
        "# We start the training\n",
        "epochs = 10\n",
        "batch_size = 256\n",
        "# We train it\n",
        "model.fit(X_train_resized, Y_train,\n",
        "          batch_size=batch_size,\n",
        "          validation_data=(X_test_resized, Y_test),\n",
        "          epochs=epochs)"
      ]
    },
    {
      "cell_type": "code",
      "execution_count": null,
      "metadata": {
        "id": "vgVBAtc9cg2u",
        "colab": {
          "base_uri": "https://localhost:8080/"
        },
        "outputId": "d2e8ae57-ac78-4dcd-d4ca-e9df095e9baa"
      },
      "outputs": [
        {
          "output_type": "stream",
          "name": "stdout",
          "text": [
            "313/313 [==============================] - 234s 747ms/step - loss: 1.5113 - accuracy: 0.4568\n",
            "Test loss: 1.5112800598144531\n",
            "Test accuracy: 0.45680001378059387\n"
          ]
        }
      ],
      "source": [
        "# We evaluate the accuracy and the loss in the test set\n",
        "scores = model.evaluate(X_test_resized, Y_test, verbose=1)\n",
        "print('Test loss:', scores[0])\n",
        "print('Test accuracy:', scores[1])"
      ]
    }
  ],
  "metadata": {
    "colab": {
      "name": "Transfer_learning_example.ipynb",
      "provenance": []
    },
    "kernelspec": {
      "display_name": "Python 3",
      "name": "python3"
    },
    "language_info": {
      "name": "python"
    }
  },
  "nbformat": 4,
  "nbformat_minor": 0
}