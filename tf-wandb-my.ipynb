{
 "cells": [
  {
   "cell_type": "code",
   "execution_count": 1,
   "id": "66394c5d",
   "metadata": {
    "execution": {
     "iopub.execute_input": "2022-01-24T11:53:56.286140Z",
     "iopub.status.busy": "2022-01-24T11:53:56.284735Z",
     "iopub.status.idle": "2022-01-24T11:53:56.288086Z",
     "shell.execute_reply": "2022-01-24T11:53:56.291952Z",
     "shell.execute_reply.started": "2022-01-23T22:32:40.165573Z"
    },
    "papermill": {
     "duration": 0.044483,
     "end_time": "2022-01-24T11:53:56.292278",
     "exception": false,
     "start_time": "2022-01-24T11:53:56.247795",
     "status": "completed"
    },
    "tags": []
   },
   "outputs": [],
   "source": [
    "# do not need\n",
    "# wandb.init(reinit=True)"
   ]
  },
  {
   "cell_type": "code",
   "execution_count": 2,
   "id": "f87a5afa",
   "metadata": {
    "_cell_guid": "b1076dfc-b9ad-4769-8c92-a6c4dae69d19",
    "_uuid": "8f2839f25d086af736a60e9eeb907d3b93b6e0e5",
    "execution": {
     "iopub.execute_input": "2022-01-24T11:53:56.354233Z",
     "iopub.status.busy": "2022-01-24T11:53:56.353487Z",
     "iopub.status.idle": "2022-01-24T11:54:01.423175Z",
     "shell.execute_reply": "2022-01-24T11:54:01.423815Z",
     "shell.execute_reply.started": "2022-01-23T22:32:40.188283Z"
    },
    "papermill": {
     "duration": 5.102575,
     "end_time": "2022-01-24T11:54:01.423985",
     "exception": false,
     "start_time": "2022-01-24T11:53:56.321410",
     "status": "completed"
    },
    "tags": []
   },
   "outputs": [],
   "source": [
    "import random\n",
    "import pandas as pd \n",
    "import numpy as np\n",
    "from tensorflow.keras.preprocessing.image import ImageDataGenerator \n",
    "import matplotlib.pyplot as plt\n",
    "from PIL import Image\n",
    "import os\n",
    "from tensorflow.keras.applications.resnet import ResNet50\n",
    "from tensorflow.keras.applications import VGG16\n",
    "import tensorflow.keras.applications as tfa\n",
    "from tensorflow.keras.applications import InceptionV3\n",
    "from tensorflow.keras.layers import GlobalAveragePooling2D, Dense\n",
    "from tensorflow.keras.models import Sequential\n",
    "import tensorflow as tf\n",
    "from tensorflow.keras.optimizers import Adam, SGD\n",
    "from tensorflow import keras\n",
    "tf.random.set_seed(42)\n",
    "\n",
    "import wandb\n",
    "from wandb.keras import WandbCallback\n",
    "tf.keras.backend.clear_session()\n",
    "# Set the random seeds\n",
    "os.environ['TF_CUDNN_DETERMINISTIC'] = '1' \n",
    "random.seed(hash(\"setting random seeds\") % 2**32 - 1)\n",
    "np.random.seed(hash(\"improves reproducibility\") % 2**32 - 1)\n",
    "tf.random.set_seed(hash(\"by removing stochasticity\") % 2**32 - 1)"
   ]
  },
  {
   "cell_type": "code",
   "execution_count": 3,
   "id": "d444828e",
   "metadata": {
    "execution": {
     "iopub.execute_input": "2022-01-24T11:54:01.461531Z",
     "iopub.status.busy": "2022-01-24T11:54:01.460735Z",
     "iopub.status.idle": "2022-01-24T11:54:01.463240Z",
     "shell.execute_reply": "2022-01-24T11:54:01.462806Z",
     "shell.execute_reply.started": "2022-01-23T22:32:45.627884Z"
    },
    "papermill": {
     "duration": 0.023462,
     "end_time": "2022-01-24T11:54:01.463370",
     "exception": false,
     "start_time": "2022-01-24T11:54:01.439908",
     "status": "completed"
    },
    "tags": []
   },
   "outputs": [],
   "source": [
    "from keras import backend as K"
   ]
  },
  {
   "cell_type": "code",
   "execution_count": 4,
   "id": "ef0236e9",
   "metadata": {
    "execution": {
     "iopub.execute_input": "2022-01-24T11:54:01.499246Z",
     "iopub.status.busy": "2022-01-24T11:54:01.498740Z",
     "iopub.status.idle": "2022-01-24T11:54:01.540895Z",
     "shell.execute_reply": "2022-01-24T11:54:01.540476Z",
     "shell.execute_reply.started": "2022-01-23T22:32:45.637443Z"
    },
    "papermill": {
     "duration": 0.061851,
     "end_time": "2022-01-24T11:54:01.541010",
     "exception": false,
     "start_time": "2022-01-24T11:54:01.479159",
     "status": "completed"
    },
    "tags": []
   },
   "outputs": [],
   "source": [
    "dupicate_removed = pd.read_csv('../input/duplicate-removed-train/duplicate_removed_train.csv')"
   ]
  },
  {
   "cell_type": "markdown",
   "id": "f248018b",
   "metadata": {
    "papermill": {
     "duration": 0.015489,
     "end_time": "2022-01-24T11:54:01.572139",
     "exception": false,
     "start_time": "2022-01-24T11:54:01.556650",
     "status": "completed"
    },
    "tags": []
   },
   "source": [
    "# Havent used:\n",
    "1. activation -> create_model\n",
    "2. number of neurons in dense layer -> create_model\n",
    "3. loss function  -> compile_model\n",
    "4. data augmentation ->load_train"
   ]
  },
  {
   "cell_type": "code",
   "execution_count": 5,
   "id": "32e4be99",
   "metadata": {
    "execution": {
     "iopub.execute_input": "2022-01-24T11:54:01.608272Z",
     "iopub.status.busy": "2022-01-24T11:54:01.607419Z",
     "iopub.status.idle": "2022-01-24T11:54:01.625335Z",
     "shell.execute_reply": "2022-01-24T11:54:01.624899Z",
     "shell.execute_reply.started": "2022-01-23T22:32:45.687282Z"
    },
    "papermill": {
     "duration": 0.037361,
     "end_time": "2022-01-24T11:54:01.625455",
     "exception": false,
     "start_time": "2022-01-24T11:54:01.588094",
     "status": "completed"
    },
    "tags": []
   },
   "outputs": [],
   "source": [
    "#meta = pd.read_csv('/kaggle/input/petfinder-pawpularity-score/train.csv')\n",
    "meta = pd.read_csv('../input/duplicate-removed-train/duplicate_removed_train.csv')"
   ]
  },
  {
   "cell_type": "code",
   "execution_count": 6,
   "id": "867d9aa6",
   "metadata": {
    "execution": {
     "iopub.execute_input": "2022-01-24T11:54:01.660481Z",
     "iopub.status.busy": "2022-01-24T11:54:01.659860Z",
     "iopub.status.idle": "2022-01-24T11:54:01.662042Z",
     "shell.execute_reply": "2022-01-24T11:54:01.662440Z",
     "shell.execute_reply.started": "2022-01-23T22:32:45.709583Z"
    },
    "papermill": {
     "duration": 0.02145,
     "end_time": "2022-01-24T11:54:01.662567",
     "exception": false,
     "start_time": "2022-01-24T11:54:01.641117",
     "status": "completed"
    },
    "tags": []
   },
   "outputs": [],
   "source": [
    "def append_ext(fn):\n",
    "    return fn+\".jpg\""
   ]
  },
  {
   "cell_type": "code",
   "execution_count": 7,
   "id": "f06f8a3f",
   "metadata": {
    "execution": {
     "iopub.execute_input": "2022-01-24T11:54:01.712945Z",
     "iopub.status.busy": "2022-01-24T11:54:01.696989Z",
     "iopub.status.idle": "2022-01-24T11:54:01.751638Z",
     "shell.execute_reply": "2022-01-24T11:54:01.752120Z",
     "shell.execute_reply.started": "2022-01-23T22:32:45.714941Z"
    },
    "papermill": {
     "duration": 0.074158,
     "end_time": "2022-01-24T11:54:01.752299",
     "exception": false,
     "start_time": "2022-01-24T11:54:01.678141",
     "status": "completed"
    },
    "tags": []
   },
   "outputs": [
    {
     "name": "stderr",
     "output_type": "stream",
     "text": [
      "/opt/conda/lib/python3.7/site-packages/ipykernel_launcher.py:2: SettingWithCopyWarning: \n",
      "A value is trying to be set on a copy of a slice from a DataFrame.\n",
      "Try using .loc[row_indexer,col_indexer] = value instead\n",
      "\n",
      "See the caveats in the documentation: https://pandas.pydata.org/pandas-docs/stable/user_guide/indexing.html#returning-a-view-versus-a-copy\n",
      "  \n",
      "/opt/conda/lib/python3.7/site-packages/ipykernel_launcher.py:3: SettingWithCopyWarning: \n",
      "A value is trying to be set on a copy of a slice from a DataFrame.\n",
      "Try using .loc[row_indexer,col_indexer] = value instead\n",
      "\n",
      "See the caveats in the documentation: https://pandas.pydata.org/pandas-docs/stable/user_guide/indexing.html#returning-a-view-versus-a-copy\n",
      "  This is separate from the ipykernel package so we can avoid doing imports until\n"
     ]
    }
   ],
   "source": [
    "labels = meta[['Id','Pawpularity']]\n",
    "labels['Pawpularity_norm'] = labels['Pawpularity']/100\n",
    "labels[\"Id\"] = labels[\"Id\"].apply(append_ext)\n",
    "labels.to_csv('labels.csv',encoding='utf-8', index=False)"
   ]
  },
  {
   "cell_type": "code",
   "execution_count": 8,
   "id": "f1aaac6b",
   "metadata": {
    "execution": {
     "iopub.execute_input": "2022-01-24T11:54:01.791635Z",
     "iopub.status.busy": "2022-01-24T11:54:01.790872Z",
     "iopub.status.idle": "2022-01-24T11:54:01.793431Z",
     "shell.execute_reply": "2022-01-24T11:54:01.792972Z",
     "shell.execute_reply.started": "2022-01-23T22:32:45.773829Z"
    },
    "papermill": {
     "duration": 0.024862,
     "end_time": "2022-01-24T11:54:01.793546",
     "exception": false,
     "start_time": "2022-01-24T11:54:01.768684",
     "status": "completed"
    },
    "tags": []
   },
   "outputs": [],
   "source": [
    "def load_train(path, batch_size):\n",
    "        # path /kaggle/input/petfinder-pawpularity-score/\n",
    "    labels = pd.read_csv('./labels.csv')\n",
    "       \n",
    "    train_datagen = ImageDataGenerator(validation_split = 0.25, \n",
    "                                   #rescale = 1/255.\n",
    "                                   #vertical_flip = True, \n",
    "                                   horizontal_flip = True\n",
    "                                   #rotation_range = 45,\n",
    "                                   #width_shift_range=0.05,\n",
    "                                   #height_shift_range=0.05\n",
    "                                      )\n",
    "    \n",
    "    train_gen_flow = train_datagen.flow_from_dataframe(\n",
    "        dataframe=labels,\n",
    "        directory= path +'train/',\n",
    "        x_col='Id',\n",
    "        y_col='Pawpularity_norm',\n",
    "        target_size=(224, 224),\n",
    "        batch_size=batch_size,\n",
    "        class_mode='raw',\n",
    "        subset='training',\n",
    "        seed=42)\n",
    "\n",
    "    return train_gen_flow"
   ]
  },
  {
   "cell_type": "code",
   "execution_count": 9,
   "id": "9b036290",
   "metadata": {
    "execution": {
     "iopub.execute_input": "2022-01-24T11:54:01.831575Z",
     "iopub.status.busy": "2022-01-24T11:54:01.830854Z",
     "iopub.status.idle": "2022-01-24T11:54:01.832858Z",
     "shell.execute_reply": "2022-01-24T11:54:01.833270Z",
     "shell.execute_reply.started": "2022-01-23T22:32:45.783008Z"
    },
    "papermill": {
     "duration": 0.023479,
     "end_time": "2022-01-24T11:54:01.833399",
     "exception": false,
     "start_time": "2022-01-24T11:54:01.809920",
     "status": "completed"
    },
    "tags": []
   },
   "outputs": [],
   "source": [
    "def load_test(path, batch_size):\n",
    "    labels = pd.read_csv('./labels.csv')\n",
    "    test_datagen=ImageDataGenerator(\n",
    "        validation_split=0.25,\n",
    "        horizontal_flip = True\n",
    "        #rescale=1./255\n",
    "    )\n",
    "    \n",
    "# flow_from_dataframe -> Takes the dataframe and the path to a directory + generates batches.\n",
    "# The generated batches contain augmented/normalized data.\n",
    "    test_gen_flow=test_datagen.flow_from_dataframe(\n",
    "        dataframe=labels,\n",
    "        directory=path + 'train/',\n",
    "        x_col='Id',\n",
    "        y_col='Pawpularity_norm',\n",
    "        target_size=(224, 224),\n",
    "        batch_size=batch_size,\n",
    "        class_mode='raw',\n",
    "        subset='validation',\n",
    "        seed=42)\n",
    "\n",
    "    return test_gen_flow"
   ]
  },
  {
   "cell_type": "code",
   "execution_count": 10,
   "id": "0a63bab4",
   "metadata": {
    "execution": {
     "iopub.execute_input": "2022-01-24T11:54:01.898997Z",
     "iopub.status.busy": "2022-01-24T11:54:01.897382Z",
     "iopub.status.idle": "2022-01-24T11:54:01.899597Z",
     "shell.execute_reply": "2022-01-24T11:54:01.899988Z",
     "shell.execute_reply.started": "2022-01-23T22:32:45.792090Z"
    },
    "papermill": {
     "duration": 0.050857,
     "end_time": "2022-01-24T11:54:01.900103",
     "exception": false,
     "start_time": "2022-01-24T11:54:01.849246",
     "status": "completed"
    },
    "tags": []
   },
   "outputs": [],
   "source": [
    "def create_model(input_shape, model_name, head, dropout):\n",
    "    \n",
    "    print('create_model() started...')\n",
    "    \n",
    "    inputs = keras.Input(shape=input_shape)\n",
    "    x = inputs\n",
    "  \n",
    "    if model_name == 'ResNet50':\n",
    "        \n",
    "        print('loading pretrained model ResNet50...')\n",
    "         \n",
    "        backbone = ResNet50(weights='imagenet', \n",
    "                        input_shape=input_shape,\n",
    "                        include_top=False)\n",
    "        \n",
    "          # preprocess_input is about:\n",
    "          # The images are converted from RGB to BGR, then each color channel is zero-centered with respect to the ImageNet dataset, without scaling.\n",
    "        print('create_model() pictures mormalization ')\n",
    "        x = tf.keras.applications.resnet50.preprocess_input(x)\n",
    "        \n",
    "    elif model_name == 'VGG16':\n",
    "        \n",
    "        print('loading pretrained model VGG16...')\n",
    "        backbone = VGG16(weights='imagenet', \n",
    "                        input_shape=input_shape,\n",
    "                        include_top=False)\n",
    "        print('create_model() pictures mormalization ')\n",
    "        x = tf.keras.applications.vgg16.preprocess_input(x)\n",
    "        \n",
    "    print('create_model() pictures mormalization done...')\n",
    "    \n",
    "    x = backbone(x, training=True)\n",
    "\n",
    "    set_trainable = False\n",
    "    \n",
    "#     for layer in backbone.layers:\n",
    "#         if model_name == 'ResNet50':\n",
    "#             fine_tune_from = 'conv3'\n",
    "#             if fine_tune_from in layer.name :\n",
    "#                 set_trainable = True\n",
    "#             if set_trainable:\n",
    "#                 layer.trainable = True\n",
    "#             else:\n",
    "#                 layer.trainable = False\n",
    "                \n",
    "#         elif model_name == 'VGG16':\n",
    "#             fine_tune_from = 'block4_conv1'\n",
    "#             if fine_tune_from in layer.name :\n",
    "#                 set_trainable = True\n",
    "#             if set_trainable:\n",
    "#                 layer.trainable = True\n",
    "#             else:\n",
    "#                 layer.trainable = False\n",
    "\n",
    "    if head == 'GPA_sigmoid':\n",
    "        x =  tf.keras.layers.GlobalAveragePooling2D()(x)\n",
    "        output = keras.layers.Dense(1, activation='sigmoid')(x)\n",
    "        \n",
    "    \n",
    "    elif head == 'GPA_FC_sigmoid':\n",
    "        x =  tf.keras.layers.GlobalAveragePooling2D()(x)\n",
    "        x = keras.layers.Dense(3, activation='relu', kernel_initializer=tf.keras.initializers.HeNormal())(x)\n",
    "        output = keras.layers.Dense(1, activation='sigmoid')(x)\n",
    "        \n",
    "    elif head == 'MP_sigmoid':\n",
    "        x =  tf.keras.layers.MaxPooling2D()(x)\n",
    "        output = keras.layers.Dense(1, activation='sigmoid')(x)\n",
    "    \n",
    "    elif head == 'GPA_logits':\n",
    "        x =  tf.keras.layers.GlobalAveragePooling2D()(x)\n",
    "        output = keras.layers.Dense(1)(x)\n",
    "        \n",
    "    elif head == 'Flatten_FC_sigmoid_DO':\n",
    "    \n",
    "        x = keras.layers.Flatten()(x)\n",
    "        x = keras.layers.Dense(128, activation='relu', kernel_initializer=tf.keras.initializers.HeNormal())(x)\n",
    "        x = keras.layers.Dropout(dropout)(x)\n",
    "        output = keras.layers.Dense(1,activation='sigmoid')(x)\n",
    "        \n",
    "    elif head == 'Flatten_FC_relu_DO':\n",
    "    \n",
    "        x = keras.layers.Flatten()(x)\n",
    "        x = keras.layers.Dense(128, activation='relu', kernel_initializer=tf.keras.initializers.HeNormal())(x)\n",
    "        x = keras.layers.Dropout(dropout)(x)\n",
    "        output = keras.layers.Dense(1)(x)\n",
    "    \n",
    "    elif head == 'GAP_FC_relu_DO':\n",
    "    \n",
    "        x =  tf.keras.layers.GlobalAveragePooling2D()(x)\n",
    "        x = keras.layers.Dense(128, activation='relu', kernel_initializer=tf.keras.initializers.HeNormal())(x)\n",
    "        x = keras.layers.Dropout(dropout)(x)\n",
    "        output = keras.layers.Dense(1)(x)\n",
    "    \n",
    "    elif head == 'MP_relu128_DO_BN_relu64':\n",
    "    \n",
    "        x =  tf.keras.layers.MaxPooling2D()(x)\n",
    "        x = keras.layers.Dense(128, activation='relu', kernel_initializer=tf.keras.initializers.HeNormal())(x)\n",
    "        x = keras.layers.Dropout(dropout)(x)\n",
    "        x = keras.layers.BatchNormalization()(x)\n",
    "        x = keras.layers.Dense(64, activation='relu', kernel_initializer=tf.keras.initializers.HeNormal())(x)\n",
    "        output = keras.layers.Dense(1)(x)\n",
    "        \n",
    "    elif head == 'GAP_relu128_DO_BN_relu64':\n",
    "    \n",
    "        x =  tf.keras.layers.GlobalAveragePooling2D()(x)\n",
    "        x = keras.layers.Dense(128, activation='relu', kernel_initializer=tf.keras.initializers.HeNormal())(x)\n",
    "        x = keras.layers.Dropout(dropout)(x)\n",
    "        x = keras.layers.BatchNormalization()(x)\n",
    "        x = keras.layers.Dense(64, activation='relu', kernel_initializer=tf.keras.initializers.HeNormal())(x)\n",
    "        output = keras.layers.Dense(1)(x)\n",
    "    \n",
    "    elif head == 'GAP_relu128_DO_BN_relu64_DO':\n",
    "    \n",
    "        x =  tf.keras.layers.GlobalAveragePooling2D()(x)\n",
    "        x = keras.layers.Dense(128, activation='relu', kernel_initializer=tf.keras.initializers.HeNormal())(x)\n",
    "        x = keras.layers.Dropout(dropout)(x)\n",
    "        x = keras.layers.BatchNormalization()(x)\n",
    "        x = keras.layers.Dense(64, activation='relu', kernel_initializer=tf.keras.initializers.HeNormal())(x)\n",
    "        x = keras.layers.Dropout(0.2)(x)\n",
    "        output = keras.layers.Dense(1)(x)\n",
    "        \n",
    "    elif head == 'GAP_FC_relu_DO_BN':\n",
    "    \n",
    "        x =  tf.keras.layers.GlobalAveragePooling2D()(x)\n",
    "        x = keras.layers.Dense(128, activation='relu', kernel_initializer=tf.keras.initializers.HeNormal())(x)\n",
    "        x = keras.layers.Dropout(dropout)(x)\n",
    "        x = keras.layers.BatchNormalization()(x)\n",
    "        output = keras.layers.Dense(1)(x)\n",
    "\n",
    "    elif head == 'GAP_FC_relu512_DO_BN_relu128_DO_BN':\n",
    "    \n",
    "        x =  tf.keras.layers.GlobalAveragePooling2D()(x)\n",
    "        x = keras.layers.Dense(512, activation='relu', kernel_initializer=tf.keras.initializers.HeNormal())(x)\n",
    "        x = keras.layers.Dropout(dropout)(x)\n",
    "        x = keras.layers.BatchNormalization()(x)\n",
    "        x = keras.layers.Dense(128, activation='relu', kernel_initializer=tf.keras.initializers.HeNormal())(x)\n",
    "        x = keras.layers.Dropout(dropout)(x)\n",
    "        x = keras.layers.BatchNormalization()(x)\n",
    "        output = keras.layers.Dense(1)(x)\n",
    "        \n",
    "    elif head == 'GAP_relu512_DO_BN_sigmoid':\n",
    "        \n",
    "        x =  tf.keras.layers.GlobalAveragePooling2D()(x)\n",
    "        x = keras.layers.Dense(512, activation='relu', kernel_initializer=tf.keras.initializers.HeNormal())(x)\n",
    "        x = keras.layers.Dropout(dropout)(x)\n",
    "        x = keras.layers.BatchNormalization()(x)\n",
    "        output = keras.layers.Dense(1,activation='sigmoid')(x)\n",
    "    \n",
    "    elif head =='MP_DO_FL_relu512':\n",
    "        x =  tf.keras.layers.MaxPooling2D()(x)\n",
    "        x = keras.layers.Dropout(dropout)(x)\n",
    "        x = keras.layers.Flatten()(x)\n",
    "        x = keras.layers.Dense(512, activation='relu', kernel_initializer=tf.keras.initializers.HeNormal())(x)\n",
    "        output = keras.layers.Dense(1)(x)\n",
    "        \n",
    "    uncompiled_model = tf.keras.Model(inputs=inputs, outputs=output)\n",
    "\n",
    "    print('create_model() finished...')    \n",
    "    \n",
    "    return uncompiled_model "
   ]
  },
  {
   "cell_type": "code",
   "execution_count": 11,
   "id": "bdffd2b0",
   "metadata": {
    "execution": {
     "iopub.execute_input": "2022-01-24T11:54:01.943044Z",
     "iopub.status.busy": "2022-01-24T11:54:01.941998Z",
     "iopub.status.idle": "2022-01-24T11:54:01.943937Z",
     "shell.execute_reply": "2022-01-24T11:54:01.944629Z",
     "shell.execute_reply.started": "2022-01-23T22:32:45.830286Z"
    },
    "jupyter": {
     "source_hidden": true
    },
    "papermill": {
     "duration": 0.028568,
     "end_time": "2022-01-24T11:54:01.944754",
     "exception": false,
     "start_time": "2022-01-24T11:54:01.916186",
     "status": "completed"
    },
    "tags": []
   },
   "outputs": [],
   "source": [
    "def create_model_2(input_shape, model_name, fine_tune_from, head, loss, lr):\n",
    "\n",
    "    backbone = ResNet50(weights='imagenet', \n",
    "                        input_shape=input_shape,\n",
    "                        include_top=False)\n",
    "    \n",
    "    inputs = keras.Input(shape=input_shape)\n",
    "    x = inputs\n",
    "    x = tf.keras.applications.resnet50.preprocess_input(x)\n",
    "    x = backbone(x, training=True)\n",
    "\n",
    "    set_trainable = False\n",
    "    for layer in backbone.layers:\n",
    "        if fine_tune_from in layer.name :\n",
    "            set_trainable = True\n",
    "        if set_trainable:\n",
    "            layer.trainable = True\n",
    "        else:\n",
    "            layer.trainable = False\n",
    "\n",
    "    if head == 'GPA_sigmoid':\n",
    "        x =  tf.keras.layers.GlobalAveragePooling2D()(x)\n",
    "        output = keras.layers.Dense(1, activation='sigmoid')(x)\n",
    "    \n",
    "    elif head == 'GPA_logits':\n",
    "        x =  tf.keras.layers.GlobalAveragePooling2D()(x)\n",
    "        output = keras.layers.Dense(1)(x)      \n",
    "    \n",
    "    elif head =='MP_DO_FL_relu512':\n",
    "        x =  tf.keras.layers.MaxPooling2D()(x)\n",
    "        x = keras.layers.Dropout(0.2)(x)\n",
    "        x = keras.layers.Flatten()(x)\n",
    "        x = keras.layers.Dense(512, activation='relu', kernel_initializer=tf.keras.initializers.HeNormal())(x)\n",
    "        output = keras.layers.Dense(1)(x)\n",
    "        \n",
    "    model = tf.keras.Model(inputs=inputs, outputs=output)\n",
    "    \n",
    "    if loss == 'mse':\n",
    "\n",
    "        model.compile(optimizer=tf.keras.optimizers.Adam(learning_rate=lr),\n",
    "                    loss=tf.keras.losses.MeanSquaredError(),\n",
    "                    metrics=[tf.keras.metrics.RootMeanSquaredError()])\n",
    "    \n",
    "    return model"
   ]
  },
  {
   "cell_type": "code",
   "execution_count": 12,
   "id": "4e50b09f",
   "metadata": {
    "execution": {
     "iopub.execute_input": "2022-01-24T11:54:01.985104Z",
     "iopub.status.busy": "2022-01-24T11:54:01.984266Z",
     "iopub.status.idle": "2022-01-24T11:54:01.986066Z",
     "shell.execute_reply": "2022-01-24T11:54:01.986508Z",
     "shell.execute_reply.started": "2022-01-23T22:32:45.843328Z"
    },
    "papermill": {
     "duration": 0.025689,
     "end_time": "2022-01-24T11:54:01.986640",
     "exception": false,
     "start_time": "2022-01-24T11:54:01.960951",
     "status": "completed"
    },
    "tags": []
   },
   "outputs": [],
   "source": [
    "def compile_model(uncompiled_model, optimizer, loss, learning_rate):\n",
    "    \n",
    "    print('compile_model() started...')\n",
    "    \n",
    "    if optimizer == 'Adam':\n",
    "        optzr = Adam\n",
    "    elif optimizer == 'SGD':\n",
    "        optzr= SGD\n",
    "        \n",
    "    if loss == 'mse':\n",
    "        uncompiled_model.compile(\n",
    "                    optimizer=optzr(learning_rate=learning_rate),\n",
    "                    loss=tf.keras.losses.MeanSquaredError(),\n",
    "                    metrics=[tf.keras.metrics.RootMeanSquaredError()])\n",
    "        \n",
    "    elif loss == 'bce_logits':\n",
    "        \n",
    "        uncompiled_model.compile(\n",
    "                  optimizer=optzr(learning_rate=learning_rate),\n",
    "                  loss=tf.keras.losses.BinaryCrossentropy(from_logits=True),\n",
    "                  metrics=[tf.keras.metrics.RootMeanSquaredError()])\n",
    "        \n",
    "    elif loss == 'bce_no_logits':\n",
    "        uncompiled_model.compile(\n",
    "                  optimizer=optzr(learning_rate=learning_rate),\n",
    "                  loss=tf.keras.losses.BinaryCrossentropy(from_logits=False),\n",
    "                  metrics=[tf.keras.metrics.RootMeanSquaredError()])\n",
    "    \n",
    "    print('compile_model() finished...')\n",
    "    \n",
    "    return uncompiled_model"
   ]
  },
  {
   "cell_type": "markdown",
   "id": "0d96bc90",
   "metadata": {
    "papermill": {
     "duration": 0.016185,
     "end_time": "2022-01-24T11:54:02.019609",
     "exception": false,
     "start_time": "2022-01-24T11:54:02.003424",
     "status": "completed"
    },
    "tags": []
   },
   "source": [
    "1. add batchNormalization after DO (Dropout is meant to block information from certain neurons completely to make sure the neurons do not co-adapt. So, the batch normalization has to be after dropout otherwise you are passing information through normalization statistics. https://stackoverflow.com/questions/39691902/ordering-of-batch-normalization-and-dropout)\n",
    "2. change number of outputs 128-64 \n",
    "3. change flatten to GAP\n",
    "4. change relu to Swish & SiLU SELU or ELU, use LeCun initialization.\n",
    "4. Adam to SGD and made more epochs"
   ]
  },
  {
   "cell_type": "code",
   "execution_count": 13,
   "id": "4f5e4c40",
   "metadata": {
    "execution": {
     "iopub.execute_input": "2022-01-24T11:54:02.061018Z",
     "iopub.status.busy": "2022-01-24T11:54:02.060066Z",
     "iopub.status.idle": "2022-01-24T11:54:02.062692Z",
     "shell.execute_reply": "2022-01-24T11:54:02.062242Z",
     "shell.execute_reply.started": "2022-01-23T22:32:45.858051Z"
    },
    "papermill": {
     "duration": 0.027185,
     "end_time": "2022-01-24T11:54:02.062801",
     "exception": false,
     "start_time": "2022-01-24T11:54:02.035616",
     "status": "completed"
    },
    "tags": []
   },
   "outputs": [],
   "source": [
    "def train_model(model, train_data, test_data, batch_size = None, epochs = None,\n",
    "                steps_per_epoch = None, validation_steps = None):\n",
    "    \n",
    "    print('train_model() started...')\n",
    "    #print('model is: ', model.summary())\n",
    "\n",
    "    if steps_per_epoch is None:\n",
    "        steps_per_epoch = len(train_data)\n",
    "    if validation_steps is None:\n",
    "        validation_steps = len(test_data)\n",
    "    \n",
    "    history = model.fit(train_data, \n",
    "              validation_data = test_data,\n",
    "              batch_size = batch_size, \n",
    "              epochs = epochs,\n",
    "              steps_per_epoch = steps_per_epoch,\n",
    "              validation_steps = validation_steps,\n",
    "              verbose = 2,\n",
    "              callbacks=[WandbCallback(\n",
    "                monitor=\"val_loss\", verbose=0, mode=\"auto\", save_weights_only=(False),\n",
    "                log_weights=(True), log_gradients=(True), save_model=(True),\n",
    "                training_data=train_data, validation_data=None, labels=[], data_type=None,\n",
    "                predictions=0, generator=None, input_type=None, output_type=None,\n",
    "                log_evaluation=(False), validation_steps=None, class_colors=None,\n",
    "                log_batch_frequency=None, log_best_prefix=\"best_\", save_graph=(True),\n",
    "                validation_indexes=None, validation_row_processor=None,\n",
    "                prediction_row_processor=None, infer_missing_processors=(False),\n",
    "                log_evaluation_frequency=0)])\n",
    "    \n",
    "    print('train_model() finished...')\n",
    "\n",
    "    return history"
   ]
  },
  {
   "cell_type": "code",
   "execution_count": 14,
   "id": "b5e74000",
   "metadata": {
    "execution": {
     "iopub.execute_input": "2022-01-24T11:54:02.104549Z",
     "iopub.status.busy": "2022-01-24T11:54:02.103604Z",
     "iopub.status.idle": "2022-01-24T11:54:02.105320Z",
     "shell.execute_reply": "2022-01-24T11:54:02.105802Z",
     "shell.execute_reply.started": "2022-01-23T22:32:45.869922Z"
    },
    "papermill": {
     "duration": 0.027268,
     "end_time": "2022-01-24T11:54:02.105939",
     "exception": false,
     "start_time": "2022-01-24T11:54:02.078671",
     "status": "completed"
    },
    "tags": []
   },
   "outputs": [],
   "source": [
    "def train(config=None):\n",
    "    \n",
    "    # Initialize a new wandb run\n",
    "    with wandb.init(config=config):\n",
    "        # If called by wandb.agent, as below,\n",
    "        # this config will be set by Sweep Controller\n",
    "        config = wandb.config\n",
    "        print('agent received config: ', config)\n",
    "\n",
    "        ##loader = build_dataset(config.batch_size)\n",
    "        # adding our loaders \n",
    "    \n",
    "        ## to do: from config add\n",
    "        ##        batch size\n",
    "        ##        pictures augmentation \n",
    "        ##        including augmentations functions \n",
    "        print('===================')\n",
    "        print('clearing session...')\n",
    "        print('===================')\n",
    "        tf.keras.backend.clear_session()\n",
    "        \n",
    "        path = '/kaggle/input/petfinder-pawpularity-score/'\n",
    "        train_gen_flow = load_train(path, config.batch_size)\n",
    "        test_gen_flow = load_test(path, config.batch_size)\n",
    "        \n",
    "        # build model \n",
    "#         pre_trained_model = config['pre_trained_model']\n",
    "#         fine_tune_from = config['tune_from']\n",
    "#         head = config['head']\n",
    "#         activation = config['head']\n",
    "#         input_shape = config['input_shape']\n",
    "        \n",
    "        \n",
    "        uncompiled_model = create_model(tuple(config.input_shape), \n",
    "                              config.pre_trained_model, \n",
    "                              #config.tune_from, \n",
    "                              config.head,\n",
    "                              config.dropout)\n",
    "        \n",
    "        # compile model\n",
    "        \n",
    "        lr_with_decay = tf.keras.optimizers.schedules.ExponentialDecay(initial_learning_rate=config.learning_rate,\n",
    "            decay_steps=100, decay_rate=0.96,\n",
    "            staircase=True)\n",
    "        \n",
    "        compiled_model = compile_model(uncompiled_model, config.optimizer, config.loss_function, lr_with_decay)\n",
    "        \n",
    "        #print('compiled model summary is: ', compiled_model.summary())\n",
    "        history = train_model(compiled_model, train_gen_flow, test_gen_flow, config.batch_size, config.epochs)\n",
    "        "
   ]
  },
  {
   "cell_type": "code",
   "execution_count": 15,
   "id": "6d95fbc7",
   "metadata": {
    "execution": {
     "iopub.execute_input": "2022-01-24T11:54:02.141145Z",
     "iopub.status.busy": "2022-01-24T11:54:02.140398Z",
     "iopub.status.idle": "2022-01-24T11:54:02.984889Z",
     "shell.execute_reply": "2022-01-24T11:54:02.985314Z",
     "shell.execute_reply.started": "2022-01-23T22:32:45.883218Z"
    },
    "papermill": {
     "duration": 0.863598,
     "end_time": "2022-01-24T11:54:02.985461",
     "exception": false,
     "start_time": "2022-01-24T11:54:02.121863",
     "status": "completed"
    },
    "tags": []
   },
   "outputs": [
    {
     "name": "stderr",
     "output_type": "stream",
     "text": [
      "\u001b[34m\u001b[1mwandb\u001b[0m: W&B API key is configured (use `wandb login --relogin` to force relogin)\n",
      "\u001b[34m\u001b[1mwandb\u001b[0m: \u001b[33mWARNING\u001b[0m If you're specifying your api key in code, ensure this code is not shared publically.\n",
      "\u001b[34m\u001b[1mwandb\u001b[0m: \u001b[33mWARNING\u001b[0m Consider setting the WANDB_API_KEY environment variable, or running `wandb login` from the command line.\n",
      "\u001b[34m\u001b[1mwandb\u001b[0m: Appending key for api.wandb.ai to your netrc file: /root/.netrc\n"
     ]
    },
    {
     "data": {
      "text/plain": [
       "True"
      ]
     },
     "execution_count": 15,
     "metadata": {},
     "output_type": "execute_result"
    }
   ],
   "source": [
    "wandb.login(key='620527a80f5b194ce6ba9498879a2ebe65db428d')\n",
    "# 620527a80f5b194ce6ba9498879a2ebe65db428d"
   ]
  },
  {
   "cell_type": "code",
   "execution_count": 16,
   "id": "dfdc10dc",
   "metadata": {
    "execution": {
     "iopub.execute_input": "2022-01-24T11:54:03.030575Z",
     "iopub.status.busy": "2022-01-24T11:54:03.029782Z",
     "iopub.status.idle": "2022-01-24T11:54:03.031818Z",
     "shell.execute_reply": "2022-01-24T11:54:03.032256Z",
     "shell.execute_reply.started": "2022-01-23T22:32:47.214165Z"
    },
    "papermill": {
     "duration": 0.028553,
     "end_time": "2022-01-24T11:54:03.032400",
     "exception": false,
     "start_time": "2022-01-24T11:54:03.003847",
     "status": "completed"
    },
    "tags": []
   },
   "outputs": [],
   "source": [
    "sweep_config = {\n",
    "  'framework': 'TF',\n",
    "  'method': 'random', \n",
    "  'note':'no_tuning',\n",
    "  'metric': {\n",
    "      'name': 'val_root_mean_squared_error',\n",
    "      'goal': 'minimize'\n",
    "  },\n",
    "  'parameters': {\n",
    "      'batch_size': {\n",
    "          'values': [16\n",
    "                    # , 64\n",
    "                    ]\n",
    "      },\n",
    "      'learning_rate':{\n",
    "          'values': [#0.01, \n",
    "                     #0.005, \n",
    "                     0.00001 #, \n",
    "                     #0.0005, \n",
    "                     #0.0001\n",
    "          ]\n",
    "      },\n",
    "      'optimizer': {\n",
    "        'values': [#'Adam', \n",
    "                   'SGD'\n",
    "        ]\n",
    "        },\n",
    "#     'fc_layer_size': {\n",
    "#         'values': [128, 256, 512]\n",
    "#         },\n",
    "    'dropout': {\n",
    "          'values': [0.0\n",
    "                    # , 0.3, 0.4, 0.5\n",
    "                    ]\n",
    "        },\n",
    "    'input_shape': {\n",
    "          'values': [(224, 224, 3)]\n",
    "        },\n",
    "    'pre_trained_model': {\n",
    "          'values': ['ResNet50'\n",
    "                     #, 'VGG16'\n",
    "                    ]\n",
    "        },\n",
    "#     'tune_from': {\n",
    "#         'values': ['conv3']\n",
    "#     },\n",
    "    'head': {\n",
    "        'values': ['GPA_FC_sigmoid'\n",
    "                    #'GPA_sigmoid' #,\n",
    "                   #'MP_sigmoid'\n",
    "        ]\n",
    "#                    'Flatten_FC_sigmoid_DO', \n",
    "#                    'Flatten_FC_relu_DO',\n",
    "#                    'GAP_FC_relu_DO',\n",
    "#                    'MP_relu128_DO_BN_relu64',\n",
    "#                    'GAP_relu128_DO_BN_relu64',\n",
    "#                    'GAP_relu128_DO_BN_relu64_DO',\n",
    "#                    'GAP_FC_relu_DO_BN',\n",
    "#                    'GAP_FC_relu512_DO_BN_relu128_DO_BN',\n",
    "#                    'GAP_relu512_DO_BN_sigmoid',\n",
    "#                    'MP_DO_FL_relu512']\n",
    "    },\n",
    "    'epochs': {\n",
    "        'values': [25]\n",
    "    },\n",
    "    'loss_function': {\n",
    "        'values': [#'mse',\n",
    "                   #'bce_logits', \n",
    "                   'bce_no_logits']\n",
    "    }\n",
    "  }\n",
    "}"
   ]
  },
  {
   "cell_type": "markdown",
   "id": "04b7c8b3",
   "metadata": {
    "papermill": {
     "duration": 0.019176,
     "end_time": "2022-01-24T11:54:03.071620",
     "exception": false,
     "start_time": "2022-01-24T11:54:03.052444",
     "status": "completed"
    },
    "tags": []
   },
   "source": [
    "# Sweep config"
   ]
  },
  {
   "cell_type": "code",
   "execution_count": 17,
   "id": "bb8cea2e",
   "metadata": {
    "execution": {
     "iopub.execute_input": "2022-01-24T11:54:03.119250Z",
     "iopub.status.busy": "2022-01-24T11:54:03.118374Z",
     "iopub.status.idle": "2022-01-24T11:54:03.121364Z",
     "shell.execute_reply": "2022-01-24T11:54:03.121811Z",
     "shell.execute_reply.started": "2022-01-23T22:32:47.217496Z"
    },
    "papermill": {
     "duration": 0.029916,
     "end_time": "2022-01-24T11:54:03.121954",
     "exception": false,
     "start_time": "2022-01-24T11:54:03.092038",
     "status": "completed"
    },
    "tags": []
   },
   "outputs": [
    {
     "data": {
      "text/plain": [
       "{'framework': 'TF',\n",
       " 'method': 'random',\n",
       " 'note': 'no_tuning',\n",
       " 'metric': {'name': 'val_root_mean_squared_error', 'goal': 'minimize'},\n",
       " 'parameters': {'batch_size': {'values': [16]},\n",
       "  'learning_rate': {'values': [1e-05]},\n",
       "  'optimizer': {'values': ['SGD']},\n",
       "  'dropout': {'values': [0.0]},\n",
       "  'input_shape': {'values': [(224, 224, 3)]},\n",
       "  'pre_trained_model': {'values': ['ResNet50']},\n",
       "  'head': {'values': ['GPA_FC_sigmoid']},\n",
       "  'epochs': {'values': [25]},\n",
       "  'loss_function': {'values': ['bce_no_logits']}}}"
      ]
     },
     "execution_count": 17,
     "metadata": {},
     "output_type": "execute_result"
    }
   ],
   "source": [
    "sweep_config"
   ]
  },
  {
   "cell_type": "code",
   "execution_count": 18,
   "id": "8725b204",
   "metadata": {
    "execution": {
     "iopub.execute_input": "2022-01-24T11:54:03.173672Z",
     "iopub.status.busy": "2022-01-24T11:54:03.166187Z",
     "iopub.status.idle": "2022-01-24T11:54:04.267711Z",
     "shell.execute_reply": "2022-01-24T11:54:04.267182Z",
     "shell.execute_reply.started": "2022-01-23T22:32:47.219300Z"
    },
    "papermill": {
     "duration": 1.125839,
     "end_time": "2022-01-24T11:54:04.267843",
     "exception": false,
     "start_time": "2022-01-24T11:54:03.142004",
     "status": "completed"
    },
    "tags": []
   },
   "outputs": [
    {
     "name": "stderr",
     "output_type": "stream",
     "text": [
      "\u001b[34m\u001b[1mwandb\u001b[0m: \u001b[33mWARNING\u001b[0m Malformed sweep config detected! This may cause your sweep to behave in unexpected ways.\n",
      "\u001b[34m\u001b[1mwandb\u001b[0m: \u001b[33mWARNING\u001b[0m To avoid this, please fix the sweep config schema violations below:\n",
      "\u001b[34m\u001b[1mwandb\u001b[0m: \u001b[33mWARNING\u001b[0m   Violation 1. Additional properties are not allowed ('note', 'framework' were unexpected)\n"
     ]
    },
    {
     "name": "stdout",
     "output_type": "stream",
     "text": [
      "Create sweep with ID: aezgjv6a\n",
      "Sweep URL: https://wandb.ai/42/petfinder/sweeps/aezgjv6a\n"
     ]
    }
   ],
   "source": [
    "sweep_id = wandb.sweep(sweep_config, project=\"petfinder\",entity=\"42\")"
   ]
  },
  {
   "cell_type": "code",
   "execution_count": 19,
   "id": "83fc1b1c",
   "metadata": {
    "execution": {
     "iopub.execute_input": "2022-01-24T11:54:04.309125Z",
     "iopub.status.busy": "2022-01-24T11:54:04.308450Z",
     "iopub.status.idle": "2022-01-24T11:54:04.311094Z",
     "shell.execute_reply": "2022-01-24T11:54:04.310663Z",
     "shell.execute_reply.started": "2022-01-23T22:32:47.221262Z"
    },
    "papermill": {
     "duration": 0.024345,
     "end_time": "2022-01-24T11:54:04.311206",
     "exception": false,
     "start_time": "2022-01-24T11:54:04.286861",
     "status": "completed"
    },
    "tags": []
   },
   "outputs": [],
   "source": [
    "#sweep_id = '7dpo2ue4'"
   ]
  },
  {
   "cell_type": "code",
   "execution_count": 20,
   "id": "d8b7de3d",
   "metadata": {
    "execution": {
     "iopub.execute_input": "2022-01-24T11:54:04.357184Z",
     "iopub.status.busy": "2022-01-24T11:54:04.356341Z",
     "iopub.status.idle": "2022-01-24T14:04:53.390838Z",
     "shell.execute_reply": "2022-01-24T14:04:53.391230Z",
     "shell.execute_reply.started": "2022-01-23T22:32:47.222634Z"
    },
    "papermill": {
     "duration": 7849.062084,
     "end_time": "2022-01-24T14:04:53.391443",
     "exception": false,
     "start_time": "2022-01-24T11:54:04.329359",
     "status": "completed"
    },
    "tags": []
   },
   "outputs": [
    {
     "name": "stderr",
     "output_type": "stream",
     "text": [
      "\u001b[34m\u001b[1mwandb\u001b[0m: Agent Starting Run: xd83sf6a with config:\n",
      "\u001b[34m\u001b[1mwandb\u001b[0m: \tbatch_size: 16\n",
      "\u001b[34m\u001b[1mwandb\u001b[0m: \tdropout: 0\n",
      "\u001b[34m\u001b[1mwandb\u001b[0m: \tepochs: 25\n",
      "\u001b[34m\u001b[1mwandb\u001b[0m: \thead: GPA_FC_sigmoid\n",
      "\u001b[34m\u001b[1mwandb\u001b[0m: \tinput_shape: [224, 224, 3]\n",
      "\u001b[34m\u001b[1mwandb\u001b[0m: \tlearning_rate: 1e-05\n",
      "\u001b[34m\u001b[1mwandb\u001b[0m: \tloss_function: bce_no_logits\n",
      "\u001b[34m\u001b[1mwandb\u001b[0m: \toptimizer: SGD\n",
      "\u001b[34m\u001b[1mwandb\u001b[0m: \tpre_trained_model: ResNet50\n",
      "\u001b[34m\u001b[1mwandb\u001b[0m: Currently logged in as: \u001b[33mmakcfd\u001b[0m (use `wandb login --relogin` to force relogin)\n",
      "\u001b[34m\u001b[1mwandb\u001b[0m: wandb version 0.12.9 is available!  To upgrade, please run:\n",
      "\u001b[34m\u001b[1mwandb\u001b[0m:  $ pip install wandb --upgrade\n"
     ]
    },
    {
     "data": {
      "text/html": [
       "\n",
       "                    Syncing run <strong><a href=\"https://wandb.ai/42/petfinder/runs/xd83sf6a\" target=\"_blank\">dutiful-sweep-1</a></strong> to <a href=\"https://wandb.ai/42/petfinder\" target=\"_blank\">Weights & Biases</a> (<a href=\"https://docs.wandb.com/integrations/jupyter.html\" target=\"_blank\">docs</a>).<br/>\n",
       "Sweep page: <a href=\"https://wandb.ai/42/petfinder/sweeps/aezgjv6a\" target=\"_blank\">https://wandb.ai/42/petfinder/sweeps/aezgjv6a</a><br/>\n",
       "\n",
       "                "
      ],
      "text/plain": [
       "<IPython.core.display.HTML object>"
      ]
     },
     "metadata": {},
     "output_type": "display_data"
    },
    {
     "name": "stdout",
     "output_type": "stream",
     "text": [
      "agent received config:  {'batch_size': 16, 'dropout': 0, 'epochs': 25, 'head': 'GPA_FC_sigmoid', 'input_shape': [224, 224, 3], 'learning_rate': 1e-05, 'loss_function': 'bce_no_logits', 'optimizer': 'SGD', 'pre_trained_model': 'ResNet50'}\n",
      "===================\n",
      "clearing session...\n",
      "===================\n",
      "Found 7187 validated image filenames.\n",
      "Found 2395 validated image filenames.\n",
      "create_model() started...\n",
      "loading pretrained model ResNet50...\n"
     ]
    },
    {
     "name": "stderr",
     "output_type": "stream",
     "text": [
      "2022-01-24 11:54:21.386571: I tensorflow/stream_executor/cuda/cuda_gpu_executor.cc:937] successful NUMA node read from SysFS had negative value (-1), but there must be at least one NUMA node, so returning NUMA node zero\n",
      "2022-01-24 11:54:21.463713: I tensorflow/stream_executor/cuda/cuda_gpu_executor.cc:937] successful NUMA node read from SysFS had negative value (-1), but there must be at least one NUMA node, so returning NUMA node zero\n",
      "2022-01-24 11:54:21.464449: I tensorflow/stream_executor/cuda/cuda_gpu_executor.cc:937] successful NUMA node read from SysFS had negative value (-1), but there must be at least one NUMA node, so returning NUMA node zero\n",
      "2022-01-24 11:54:21.465661: I tensorflow/core/platform/cpu_feature_guard.cc:142] This TensorFlow binary is optimized with oneAPI Deep Neural Network Library (oneDNN) to use the following CPU instructions in performance-critical operations:  AVX2 AVX512F FMA\n",
      "To enable them in other operations, rebuild TensorFlow with the appropriate compiler flags.\n",
      "2022-01-24 11:54:21.466445: I tensorflow/stream_executor/cuda/cuda_gpu_executor.cc:937] successful NUMA node read from SysFS had negative value (-1), but there must be at least one NUMA node, so returning NUMA node zero\n",
      "2022-01-24 11:54:21.467086: I tensorflow/stream_executor/cuda/cuda_gpu_executor.cc:937] successful NUMA node read from SysFS had negative value (-1), but there must be at least one NUMA node, so returning NUMA node zero\n",
      "2022-01-24 11:54:21.467691: I tensorflow/stream_executor/cuda/cuda_gpu_executor.cc:937] successful NUMA node read from SysFS had negative value (-1), but there must be at least one NUMA node, so returning NUMA node zero\n",
      "2022-01-24 11:54:22.981648: I tensorflow/stream_executor/cuda/cuda_gpu_executor.cc:937] successful NUMA node read from SysFS had negative value (-1), but there must be at least one NUMA node, so returning NUMA node zero\n",
      "2022-01-24 11:54:22.983900: I tensorflow/stream_executor/cuda/cuda_gpu_executor.cc:937] successful NUMA node read from SysFS had negative value (-1), but there must be at least one NUMA node, so returning NUMA node zero\n",
      "2022-01-24 11:54:22.985852: I tensorflow/stream_executor/cuda/cuda_gpu_executor.cc:937] successful NUMA node read from SysFS had negative value (-1), but there must be at least one NUMA node, so returning NUMA node zero\n",
      "2022-01-24 11:54:22.986481: I tensorflow/core/common_runtime/gpu/gpu_device.cc:1510] Created device /job:localhost/replica:0/task:0/device:GPU:0 with 15403 MB memory:  -> device: 0, name: Tesla P100-PCIE-16GB, pci bus id: 0000:00:04.0, compute capability: 6.0\n"
     ]
    },
    {
     "name": "stdout",
     "output_type": "stream",
     "text": [
      "Downloading data from https://storage.googleapis.com/tensorflow/keras-applications/resnet/resnet50_weights_tf_dim_ordering_tf_kernels_notop.h5\n",
      "94773248/94765736 [==============================] - 1s 0us/step\n",
      "94781440/94765736 [==============================] - 1s 0us/step\n",
      "create_model() pictures mormalization \n",
      "create_model() pictures mormalization done...\n",
      "create_model() finished...\n",
      "compile_model() started...\n",
      "compile_model() finished...\n",
      "train_model() started...\n"
     ]
    },
    {
     "name": "stderr",
     "output_type": "stream",
     "text": [
      "2022-01-24 11:54:26.502949: I tensorflow/compiler/mlir/mlir_graph_optimization_pass.cc:185] None of the MLIR Optimization Passes are enabled (registered 2)\n"
     ]
    },
    {
     "name": "stdout",
     "output_type": "stream",
     "text": [
      "Epoch 1/25\n"
     ]
    },
    {
     "name": "stderr",
     "output_type": "stream",
     "text": [
      "2022-01-24 11:54:31.216189: I tensorflow/stream_executor/cuda/cuda_dnn.cc:369] Loaded cuDNN version 8005\n"
     ]
    },
    {
     "name": "stdout",
     "output_type": "stream",
     "text": [
      "450/450 - 160s - loss: 0.7339 - root_mean_squared_error: 0.2572 - val_loss: 0.7294 - val_root_mean_squared_error: 0.2625\n"
     ]
    },
    {
     "name": "stderr",
     "output_type": "stream",
     "text": [
      "/opt/conda/lib/python3.7/site-packages/keras/utils/generic_utils.py:497: CustomMaskWarning: Custom mask layers require a config and must override get_config. When loading, the custom mask layer must be passed to the custom_objects argument.\n",
      "  category=CustomMaskWarning)\n"
     ]
    },
    {
     "name": "stdout",
     "output_type": "stream",
     "text": [
      "Epoch 2/25\n",
      "450/450 - 120s - loss: 0.7207 - root_mean_squared_error: 0.2502 - val_loss: 0.7205 - val_root_mean_squared_error: 0.2575\n",
      "Epoch 3/25\n",
      "450/450 - 119s - loss: 0.7175 - root_mean_squared_error: 0.2495 - val_loss: 0.7177 - val_root_mean_squared_error: 0.2572\n",
      "Epoch 4/25\n",
      "450/450 - 119s - loss: 0.7130 - root_mean_squared_error: 0.2470 - val_loss: 0.7139 - val_root_mean_squared_error: 0.2543\n",
      "Epoch 5/25\n",
      "450/450 - 119s - loss: 0.7118 - root_mean_squared_error: 0.2468 - val_loss: 0.7143 - val_root_mean_squared_error: 0.2558\n",
      "Epoch 6/25\n",
      "450/450 - 119s - loss: 0.7096 - root_mean_squared_error: 0.2455 - val_loss: 0.7113 - val_root_mean_squared_error: 0.2534\n",
      "Epoch 7/25\n",
      "450/450 - 120s - loss: 0.7072 - root_mean_squared_error: 0.2439 - val_loss: 0.7104 - val_root_mean_squared_error: 0.2530\n",
      "Epoch 8/25\n",
      "450/450 - 119s - loss: 0.7080 - root_mean_squared_error: 0.2446 - val_loss: 0.7082 - val_root_mean_squared_error: 0.2517\n",
      "Epoch 9/25\n",
      "450/450 - 119s - loss: 0.7061 - root_mean_squared_error: 0.2431 - val_loss: 0.7106 - val_root_mean_squared_error: 0.2539\n",
      "Epoch 10/25\n",
      "450/450 - 119s - loss: 0.7054 - root_mean_squared_error: 0.2426 - val_loss: 0.7072 - val_root_mean_squared_error: 0.2515\n",
      "Epoch 11/25\n",
      "450/450 - 119s - loss: 0.7061 - root_mean_squared_error: 0.2434 - val_loss: 0.7094 - val_root_mean_squared_error: 0.2528\n",
      "Epoch 12/25\n",
      "450/450 - 118s - loss: 0.7059 - root_mean_squared_error: 0.2432 - val_loss: 0.7071 - val_root_mean_squared_error: 0.2508\n",
      "Epoch 13/25\n",
      "450/450 - 118s - loss: 0.7035 - root_mean_squared_error: 0.2413 - val_loss: 0.7055 - val_root_mean_squared_error: 0.2502\n",
      "Epoch 14/25\n",
      "450/450 - 118s - loss: 0.7043 - root_mean_squared_error: 0.2422 - val_loss: 0.7060 - val_root_mean_squared_error: 0.2502\n",
      "Epoch 15/25\n",
      "450/450 - 119s - loss: 0.7053 - root_mean_squared_error: 0.2430 - val_loss: 0.7061 - val_root_mean_squared_error: 0.2504\n",
      "Epoch 16/25\n",
      "450/450 - 119s - loss: 0.7047 - root_mean_squared_error: 0.2426 - val_loss: 0.7070 - val_root_mean_squared_error: 0.2513\n",
      "Epoch 17/25\n",
      "450/450 - 119s - loss: 0.7035 - root_mean_squared_error: 0.2416 - val_loss: 0.7084 - val_root_mean_squared_error: 0.2524\n",
      "Epoch 18/25\n",
      "450/450 - 119s - loss: 0.7049 - root_mean_squared_error: 0.2427 - val_loss: 0.7053 - val_root_mean_squared_error: 0.2501\n",
      "Epoch 19/25\n",
      "450/450 - 118s - loss: 0.7039 - root_mean_squared_error: 0.2421 - val_loss: 0.7050 - val_root_mean_squared_error: 0.2500\n",
      "Epoch 20/25\n",
      "450/450 - 119s - loss: 0.7028 - root_mean_squared_error: 0.2413 - val_loss: 0.7067 - val_root_mean_squared_error: 0.2511\n",
      "Epoch 21/25\n",
      "450/450 - 119s - loss: 0.7045 - root_mean_squared_error: 0.2427 - val_loss: 0.7080 - val_root_mean_squared_error: 0.2523\n",
      "Epoch 22/25\n",
      "450/450 - 119s - loss: 0.7044 - root_mean_squared_error: 0.2424 - val_loss: 0.7033 - val_root_mean_squared_error: 0.2485\n",
      "Epoch 23/25\n",
      "450/450 - 119s - loss: 0.7034 - root_mean_squared_error: 0.2414 - val_loss: 0.7026 - val_root_mean_squared_error: 0.2480\n",
      "Epoch 24/25\n",
      "450/450 - 119s - loss: 0.7044 - root_mean_squared_error: 0.2426 - val_loss: 0.7065 - val_root_mean_squared_error: 0.2512\n",
      "Epoch 25/25\n",
      "450/450 - 120s - loss: 0.7053 - root_mean_squared_error: 0.2432 - val_loss: 0.7070 - val_root_mean_squared_error: 0.2513\n",
      "train_model() finished...\n"
     ]
    },
    {
     "data": {
      "text/html": [
       "<br/>Waiting for W&B process to finish, PID 68... <strong style=\"color:green\">(success).</strong>"
      ],
      "text/plain": [
       "<IPython.core.display.HTML object>"
      ]
     },
     "metadata": {},
     "output_type": "display_data"
    },
    {
     "data": {
      "application/vnd.jupyter.widget-view+json": {
       "model_id": "c87825ff2eb74973b35e08f5f24e7fd8",
       "version_major": 2,
       "version_minor": 0
      },
      "text/plain": [
       "VBox(children=(Label(value=' 90.33MB of 90.33MB uploaded (0.00MB deduped)\\r'), FloatProgress(value=1.0, max=1.…"
      ]
     },
     "metadata": {},
     "output_type": "display_data"
    },
    {
     "data": {
      "text/html": [
       "<style>\n",
       "    table.wandb td:nth-child(1) { padding: 0 10px; text-align: right }\n",
       "    .wandb-row { display: flex; flex-direction: row; flex-wrap: wrap; width: 100% }\n",
       "    .wandb-col { display: flex; flex-direction: column; flex-basis: 100%; flex: 1; padding: 10px; }\n",
       "    </style>\n",
       "<div class=\"wandb-row\"><div class=\"wandb-col\">\n",
       "<h3>Run history:</h3><br/><table class=\"wandb\"><tr><td>epoch</td><td>▁▁▂▂▂▂▃▃▃▄▄▄▅▅▅▅▆▆▆▇▇▇▇██</td></tr><tr><td>loss</td><td>█▅▄▃▃▃▂▂▂▂▂▂▁▁▂▁▁▁▁▁▁▁▁▁▂</td></tr><tr><td>root_mean_squared_error</td><td>█▅▅▃▃▃▂▂▂▂▂▂▁▁▂▂▁▂▁▁▂▁▁▂▂</td></tr><tr><td>val_loss</td><td>█▆▅▄▄▃▃▂▃▂▃▂▂▂▂▂▂▂▂▂▂▁▁▂▂</td></tr><tr><td>val_root_mean_squared_error</td><td>█▆▅▄▅▄▃▃▄▃▃▂▂▂▂▃▃▂▂▃▃▁▁▃▃</td></tr></table><br/></div><div class=\"wandb-col\">\n",
       "<h3>Run summary:</h3><br/><table class=\"wandb\"><tr><td>best_epoch</td><td>22</td></tr><tr><td>best_val_loss</td><td>0.70263</td></tr><tr><td>epoch</td><td>24</td></tr><tr><td>loss</td><td>0.7053</td></tr><tr><td>root_mean_squared_error</td><td>0.24319</td></tr><tr><td>val_loss</td><td>0.70698</td></tr><tr><td>val_root_mean_squared_error</td><td>0.25133</td></tr></table>\n",
       "</div></div>\n",
       "Synced 5 W&B file(s), 0 media file(s), 0 artifact file(s) and 1 other file(s)\n",
       "<br/>Synced <strong style=\"color:#cdcd00\">dutiful-sweep-1</strong>: <a href=\"https://wandb.ai/42/petfinder/runs/xd83sf6a\" target=\"_blank\">https://wandb.ai/42/petfinder/runs/xd83sf6a</a><br/>\n",
       "Find logs at: <code>./wandb/run-20220124_115405-xd83sf6a/logs</code><br/>\n"
      ],
      "text/plain": [
       "<IPython.core.display.HTML object>"
      ]
     },
     "metadata": {},
     "output_type": "display_data"
    }
   ],
   "source": [
    "#wandb.agent(sweep_id, train, count=5)\n",
    "wandb.agent(\n",
    "    sweep_id, function=train, entity=\"42\", project=\"petfinder\", count=1\n",
    ")"
   ]
  }
 ],
 "metadata": {
  "kernelspec": {
   "display_name": "Python 3",
   "language": "python",
   "name": "python3"
  },
  "language_info": {
   "codemirror_mode": {
    "name": "ipython",
    "version": 3
   },
   "file_extension": ".py",
   "mimetype": "text/x-python",
   "name": "python",
   "nbconvert_exporter": "python",
   "pygments_lexer": "ipython3",
   "version": "3.7.12"
  },
  "papermill": {
   "default_parameters": {},
   "duration": 7868.403094,
   "end_time": "2022-01-24T14:04:56.698677",
   "environment_variables": {},
   "exception": null,
   "input_path": "__notebook__.ipynb",
   "output_path": "__notebook__.ipynb",
   "parameters": {},
   "start_time": "2022-01-24T11:53:48.295583",
   "version": "2.3.3"
  },
  "widgets": {
   "application/vnd.jupyter.widget-state+json": {
    "state": {
     "12792ccc2386444485402ae827b54548": {
      "model_module": "@jupyter-widgets/controls",
      "model_module_version": "1.5.0",
      "model_name": "DescriptionStyleModel",
      "state": {
       "_model_module": "@jupyter-widgets/controls",
       "_model_module_version": "1.5.0",
       "_model_name": "DescriptionStyleModel",
       "_view_count": null,
       "_view_module": "@jupyter-widgets/base",
       "_view_module_version": "1.2.0",
       "_view_name": "StyleView",
       "description_width": ""
      }
     },
     "195db1bd1c7b4ca9870d17bf5047a5b1": {
      "model_module": "@jupyter-widgets/controls",
      "model_module_version": "1.5.0",
      "model_name": "ProgressStyleModel",
      "state": {
       "_model_module": "@jupyter-widgets/controls",
       "_model_module_version": "1.5.0",
       "_model_name": "ProgressStyleModel",
       "_view_count": null,
       "_view_module": "@jupyter-widgets/base",
       "_view_module_version": "1.2.0",
       "_view_name": "StyleView",
       "bar_color": null,
       "description_width": ""
      }
     },
     "32bef59258ed4e7f89cf8f170242e31c": {
      "model_module": "@jupyter-widgets/base",
      "model_module_version": "1.2.0",
      "model_name": "LayoutModel",
      "state": {
       "_model_module": "@jupyter-widgets/base",
       "_model_module_version": "1.2.0",
       "_model_name": "LayoutModel",
       "_view_count": null,
       "_view_module": "@jupyter-widgets/base",
       "_view_module_version": "1.2.0",
       "_view_name": "LayoutView",
       "align_content": null,
       "align_items": null,
       "align_self": null,
       "border": null,
       "bottom": null,
       "display": null,
       "flex": null,
       "flex_flow": null,
       "grid_area": null,
       "grid_auto_columns": null,
       "grid_auto_flow": null,
       "grid_auto_rows": null,
       "grid_column": null,
       "grid_gap": null,
       "grid_row": null,
       "grid_template_areas": null,
       "grid_template_columns": null,
       "grid_template_rows": null,
       "height": null,
       "justify_content": null,
       "justify_items": null,
       "left": null,
       "margin": null,
       "max_height": null,
       "max_width": null,
       "min_height": null,
       "min_width": null,
       "object_fit": null,
       "object_position": null,
       "order": null,
       "overflow": null,
       "overflow_x": null,
       "overflow_y": null,
       "padding": null,
       "right": null,
       "top": null,
       "visibility": null,
       "width": null
      }
     },
     "46b3ac60a5944115a7614132384a0029": {
      "model_module": "@jupyter-widgets/base",
      "model_module_version": "1.2.0",
      "model_name": "LayoutModel",
      "state": {
       "_model_module": "@jupyter-widgets/base",
       "_model_module_version": "1.2.0",
       "_model_name": "LayoutModel",
       "_view_count": null,
       "_view_module": "@jupyter-widgets/base",
       "_view_module_version": "1.2.0",
       "_view_name": "LayoutView",
       "align_content": null,
       "align_items": null,
       "align_self": null,
       "border": null,
       "bottom": null,
       "display": null,
       "flex": null,
       "flex_flow": null,
       "grid_area": null,
       "grid_auto_columns": null,
       "grid_auto_flow": null,
       "grid_auto_rows": null,
       "grid_column": null,
       "grid_gap": null,
       "grid_row": null,
       "grid_template_areas": null,
       "grid_template_columns": null,
       "grid_template_rows": null,
       "height": null,
       "justify_content": null,
       "justify_items": null,
       "left": null,
       "margin": null,
       "max_height": null,
       "max_width": null,
       "min_height": null,
       "min_width": null,
       "object_fit": null,
       "object_position": null,
       "order": null,
       "overflow": null,
       "overflow_x": null,
       "overflow_y": null,
       "padding": null,
       "right": null,
       "top": null,
       "visibility": null,
       "width": null
      }
     },
     "7917b6306acd46ceb3ed0800472558ad": {
      "model_module": "@jupyter-widgets/controls",
      "model_module_version": "1.5.0",
      "model_name": "FloatProgressModel",
      "state": {
       "_dom_classes": [],
       "_model_module": "@jupyter-widgets/controls",
       "_model_module_version": "1.5.0",
       "_model_name": "FloatProgressModel",
       "_view_count": null,
       "_view_module": "@jupyter-widgets/controls",
       "_view_module_version": "1.5.0",
       "_view_name": "ProgressView",
       "bar_style": "",
       "description": "",
       "description_tooltip": null,
       "layout": "IPY_MODEL_46b3ac60a5944115a7614132384a0029",
       "max": 1.0,
       "min": 0.0,
       "orientation": "horizontal",
       "style": "IPY_MODEL_195db1bd1c7b4ca9870d17bf5047a5b1",
       "value": 1.0
      }
     },
     "832d9d5256eb4c499d1b12625d9b1a57": {
      "model_module": "@jupyter-widgets/controls",
      "model_module_version": "1.5.0",
      "model_name": "LabelModel",
      "state": {
       "_dom_classes": [],
       "_model_module": "@jupyter-widgets/controls",
       "_model_module_version": "1.5.0",
       "_model_name": "LabelModel",
       "_view_count": null,
       "_view_module": "@jupyter-widgets/controls",
       "_view_module_version": "1.5.0",
       "_view_name": "LabelView",
       "description": "",
       "description_tooltip": null,
       "layout": "IPY_MODEL_85338ff7df4646ed94c0fa75b6e13ebc",
       "placeholder": "​",
       "style": "IPY_MODEL_12792ccc2386444485402ae827b54548",
       "value": " 90.71MB of 90.71MB uploaded (0.00MB deduped)\r"
      }
     },
     "85338ff7df4646ed94c0fa75b6e13ebc": {
      "model_module": "@jupyter-widgets/base",
      "model_module_version": "1.2.0",
      "model_name": "LayoutModel",
      "state": {
       "_model_module": "@jupyter-widgets/base",
       "_model_module_version": "1.2.0",
       "_model_name": "LayoutModel",
       "_view_count": null,
       "_view_module": "@jupyter-widgets/base",
       "_view_module_version": "1.2.0",
       "_view_name": "LayoutView",
       "align_content": null,
       "align_items": null,
       "align_self": null,
       "border": null,
       "bottom": null,
       "display": null,
       "flex": null,
       "flex_flow": null,
       "grid_area": null,
       "grid_auto_columns": null,
       "grid_auto_flow": null,
       "grid_auto_rows": null,
       "grid_column": null,
       "grid_gap": null,
       "grid_row": null,
       "grid_template_areas": null,
       "grid_template_columns": null,
       "grid_template_rows": null,
       "height": null,
       "justify_content": null,
       "justify_items": null,
       "left": null,
       "margin": null,
       "max_height": null,
       "max_width": null,
       "min_height": null,
       "min_width": null,
       "object_fit": null,
       "object_position": null,
       "order": null,
       "overflow": null,
       "overflow_x": null,
       "overflow_y": null,
       "padding": null,
       "right": null,
       "top": null,
       "visibility": null,
       "width": null
      }
     },
     "c87825ff2eb74973b35e08f5f24e7fd8": {
      "model_module": "@jupyter-widgets/controls",
      "model_module_version": "1.5.0",
      "model_name": "VBoxModel",
      "state": {
       "_dom_classes": [],
       "_model_module": "@jupyter-widgets/controls",
       "_model_module_version": "1.5.0",
       "_model_name": "VBoxModel",
       "_view_count": null,
       "_view_module": "@jupyter-widgets/controls",
       "_view_module_version": "1.5.0",
       "_view_name": "VBoxView",
       "box_style": "",
       "children": [
        "IPY_MODEL_832d9d5256eb4c499d1b12625d9b1a57",
        "IPY_MODEL_7917b6306acd46ceb3ed0800472558ad"
       ],
       "layout": "IPY_MODEL_32bef59258ed4e7f89cf8f170242e31c"
      }
     }
    },
    "version_major": 2,
    "version_minor": 0
   }
  }
 },
 "nbformat": 4,
 "nbformat_minor": 5
}
