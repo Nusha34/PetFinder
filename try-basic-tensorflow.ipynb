{
 "cells": [
  {
   "cell_type": "code",
   "execution_count": 1,
   "id": "2a68ed1c",
   "metadata": {
    "_cell_guid": "b1076dfc-b9ad-4769-8c92-a6c4dae69d19",
    "_uuid": "8f2839f25d086af736a60e9eeb907d3b93b6e0e5",
    "execution": {
     "iopub.execute_input": "2022-02-09T02:15:00.783455Z",
     "iopub.status.busy": "2022-02-09T02:15:00.781856Z",
     "iopub.status.idle": "2022-02-09T02:15:06.992090Z",
     "shell.execute_reply": "2022-02-09T02:15:06.992569Z",
     "shell.execute_reply.started": "2022-01-30T23:56:26.840585Z"
    },
    "papermill": {
     "duration": 6.241302,
     "end_time": "2022-02-09T02:15:06.992863",
     "exception": false,
     "start_time": "2022-02-09T02:15:00.751561",
     "status": "completed"
    },
    "tags": []
   },
   "outputs": [],
   "source": [
    "import pandas as pd \n",
    "import random\n",
    "import numpy as np\n",
    "from tensorflow.keras.preprocessing.image import ImageDataGenerator \n",
    "import matplotlib.pyplot as plt\n",
    "from PIL import Image\n",
    "import os\n",
    "from tensorflow.keras.applications.resnet import ResNet50, ResNet101\n",
    "from tensorflow.keras.applications import VGG16\n",
    "\n",
    "#from tensorflow.keras.applications.resnet import ResNet101 as ResNet101\n",
    "import tensorflow.keras.applications as tfa\n",
    "from tensorflow.keras.applications import InceptionV3\n",
    "from tensorflow.keras.layers import GlobalAveragePooling2D, Dense\n",
    "from tensorflow.keras.models import Sequential\n",
    "import tensorflow as tf\n",
    "#from tensorflow.keras.optimizers import Adam, SGD\n",
    "from tensorflow.keras.optimizers import Adam as Adam\n",
    "from tensorflow.keras.optimizers import Adagrad\n",
    "\n",
    "from tensorflow import keras\n",
    "tf.random.set_seed(42)\n",
    "import wandb\n",
    "from wandb.keras import WandbCallback\n",
    "tf.keras.backend.clear_session()\n",
    "# Set the random seeds\n",
    "os.environ['TF_CUDNN_DETERMINISTIC'] = '1' \n",
    "random.seed(hash(\"setting random seeds\") % 2**32 - 1)\n",
    "np.random.seed(hash(\"improves reproducibility\") % 2**32 - 1)\n",
    "tf.random.set_seed(hash(\"by removing stochasticity\") % 2**32 - 1)"
   ]
  },
  {
   "cell_type": "code",
   "execution_count": 2,
   "id": "5feed74c",
   "metadata": {
    "execution": {
     "iopub.execute_input": "2022-02-09T02:15:07.050070Z",
     "iopub.status.busy": "2022-02-09T02:15:07.049396Z",
     "iopub.status.idle": "2022-02-09T02:15:07.052478Z",
     "shell.execute_reply": "2022-02-09T02:15:07.052919Z",
     "shell.execute_reply.started": "2022-01-30T23:16:35.609803Z"
    },
    "papermill": {
     "duration": 0.035202,
     "end_time": "2022-02-09T02:15:07.053051",
     "exception": false,
     "start_time": "2022-02-09T02:15:07.017849",
     "status": "completed"
    },
    "tags": []
   },
   "outputs": [
    {
     "data": {
      "text/plain": [
       "['ResNet101',\n",
       " 'ResNet152',\n",
       " 'ResNet50',\n",
       " '__builtins__',\n",
       " '__cached__',\n",
       " '__doc__',\n",
       " '__file__',\n",
       " '__loader__',\n",
       " '__name__',\n",
       " '__package__',\n",
       " '__path__',\n",
       " '__spec__',\n",
       " '_sys',\n",
       " 'decode_predictions',\n",
       " 'preprocess_input']"
      ]
     },
     "execution_count": 2,
     "metadata": {},
     "output_type": "execute_result"
    }
   ],
   "source": [
    "dir(tf.keras.applications.resnet)"
   ]
  },
  {
   "cell_type": "code",
   "execution_count": 3,
   "id": "4d64d777",
   "metadata": {
    "execution": {
     "iopub.execute_input": "2022-02-09T02:15:07.106772Z",
     "iopub.status.busy": "2022-02-09T02:15:07.106154Z",
     "iopub.status.idle": "2022-02-09T02:15:07.108755Z",
     "shell.execute_reply": "2022-02-09T02:15:07.109335Z",
     "shell.execute_reply.started": "2022-01-30T23:16:35.627118Z"
    },
    "papermill": {
     "duration": 0.031857,
     "end_time": "2022-02-09T02:15:07.109495",
     "exception": false,
     "start_time": "2022-02-09T02:15:07.077638",
     "status": "completed"
    },
    "tags": []
   },
   "outputs": [
    {
     "name": "stdout",
     "output_type": "stream",
     "text": [
      "2.6.0\n"
     ]
    }
   ],
   "source": [
    "print(tf.__version__)"
   ]
  },
  {
   "cell_type": "code",
   "execution_count": 4,
   "id": "0d75fd87",
   "metadata": {
    "execution": {
     "iopub.execute_input": "2022-02-09T02:15:07.164071Z",
     "iopub.status.busy": "2022-02-09T02:15:07.163529Z",
     "iopub.status.idle": "2022-02-09T02:15:07.211761Z",
     "shell.execute_reply": "2022-02-09T02:15:07.211308Z",
     "shell.execute_reply.started": "2022-01-30T23:16:35.639188Z"
    },
    "papermill": {
     "duration": 0.076425,
     "end_time": "2022-02-09T02:15:07.211876",
     "exception": false,
     "start_time": "2022-02-09T02:15:07.135451",
     "status": "completed"
    },
    "tags": []
   },
   "outputs": [],
   "source": [
    "meta = pd.read_csv('/kaggle/input/petfinder-pawpularity-score/train.csv')"
   ]
  },
  {
   "cell_type": "code",
   "execution_count": 5,
   "id": "50e14444",
   "metadata": {
    "execution": {
     "iopub.execute_input": "2022-02-09T02:15:07.265499Z",
     "iopub.status.busy": "2022-02-09T02:15:07.264667Z",
     "iopub.status.idle": "2022-02-09T02:15:07.266945Z",
     "shell.execute_reply": "2022-02-09T02:15:07.267345Z",
     "shell.execute_reply.started": "2022-01-30T23:16:35.676117Z"
    },
    "papermill": {
     "duration": 0.030895,
     "end_time": "2022-02-09T02:15:07.267469",
     "exception": false,
     "start_time": "2022-02-09T02:15:07.236574",
     "status": "completed"
    },
    "tags": []
   },
   "outputs": [],
   "source": [
    "def append_ext(fn):\n",
    "    return fn+\".jpg\""
   ]
  },
  {
   "cell_type": "code",
   "execution_count": 6,
   "id": "ec1827a5",
   "metadata": {
    "execution": {
     "iopub.execute_input": "2022-02-09T02:15:07.326220Z",
     "iopub.status.busy": "2022-02-09T02:15:07.325693Z",
     "iopub.status.idle": "2022-02-09T02:15:07.337561Z",
     "shell.execute_reply": "2022-02-09T02:15:07.337158Z",
     "shell.execute_reply.started": "2022-01-30T23:16:35.684911Z"
    },
    "papermill": {
     "duration": 0.045426,
     "end_time": "2022-02-09T02:15:07.337696",
     "exception": false,
     "start_time": "2022-02-09T02:15:07.292270",
     "status": "completed"
    },
    "tags": []
   },
   "outputs": [
    {
     "name": "stderr",
     "output_type": "stream",
     "text": [
      "/opt/conda/lib/python3.7/site-packages/ipykernel_launcher.py:2: SettingWithCopyWarning: \n",
      "A value is trying to be set on a copy of a slice from a DataFrame.\n",
      "Try using .loc[row_indexer,col_indexer] = value instead\n",
      "\n",
      "See the caveats in the documentation: https://pandas.pydata.org/pandas-docs/stable/user_guide/indexing.html#returning-a-view-versus-a-copy\n",
      "  \n"
     ]
    }
   ],
   "source": [
    "labels = meta[['Id','Pawpularity']]\n",
    "labels['Pawpularity_norm'] = labels['Pawpularity']/100"
   ]
  },
  {
   "cell_type": "code",
   "execution_count": 7,
   "id": "c4b175a6",
   "metadata": {
    "execution": {
     "iopub.execute_input": "2022-02-09T02:15:07.392240Z",
     "iopub.status.busy": "2022-02-09T02:15:07.391402Z",
     "iopub.status.idle": "2022-02-09T02:15:07.397108Z",
     "shell.execute_reply": "2022-02-09T02:15:07.396632Z",
     "shell.execute_reply.started": "2022-01-30T23:16:35.699966Z"
    },
    "papermill": {
     "duration": 0.034502,
     "end_time": "2022-02-09T02:15:07.397213",
     "exception": false,
     "start_time": "2022-02-09T02:15:07.362711",
     "status": "completed"
    },
    "tags": []
   },
   "outputs": [],
   "source": [
    "labels_wt_100 = meta[meta['Pawpularity']<100][['Id','Pawpularity']]\n",
    "labels_wt_100['Pawpularity_norm'] = labels_wt_100['Pawpularity']/100"
   ]
  },
  {
   "cell_type": "code",
   "execution_count": 8,
   "id": "755033af",
   "metadata": {
    "execution": {
     "iopub.execute_input": "2022-02-09T02:15:07.455777Z",
     "iopub.status.busy": "2022-02-09T02:15:07.454969Z",
     "iopub.status.idle": "2022-02-09T02:15:07.466023Z",
     "shell.execute_reply": "2022-02-09T02:15:07.465487Z",
     "shell.execute_reply.started": "2022-01-30T23:16:35.71712Z"
    },
    "papermill": {
     "duration": 0.044132,
     "end_time": "2022-02-09T02:15:07.466139",
     "exception": false,
     "start_time": "2022-02-09T02:15:07.422007",
     "status": "completed"
    },
    "tags": []
   },
   "outputs": [
    {
     "data": {
      "text/html": [
       "<div>\n",
       "<style scoped>\n",
       "    .dataframe tbody tr th:only-of-type {\n",
       "        vertical-align: middle;\n",
       "    }\n",
       "\n",
       "    .dataframe tbody tr th {\n",
       "        vertical-align: top;\n",
       "    }\n",
       "\n",
       "    .dataframe thead th {\n",
       "        text-align: right;\n",
       "    }\n",
       "</style>\n",
       "<table border=\"1\" class=\"dataframe\">\n",
       "  <thead>\n",
       "    <tr style=\"text-align: right;\">\n",
       "      <th></th>\n",
       "      <th>Id</th>\n",
       "      <th>Pawpularity</th>\n",
       "      <th>Pawpularity_norm</th>\n",
       "    </tr>\n",
       "  </thead>\n",
       "  <tbody>\n",
       "    <tr>\n",
       "      <th>0</th>\n",
       "      <td>0007de18844b0dbbb5e1f607da0606e0.jpg</td>\n",
       "      <td>63</td>\n",
       "      <td>0.63</td>\n",
       "    </tr>\n",
       "    <tr>\n",
       "      <th>1</th>\n",
       "      <td>0009c66b9439883ba2750fb825e1d7db.jpg</td>\n",
       "      <td>42</td>\n",
       "      <td>0.42</td>\n",
       "    </tr>\n",
       "    <tr>\n",
       "      <th>2</th>\n",
       "      <td>0013fd999caf9a3efe1352ca1b0d937e.jpg</td>\n",
       "      <td>28</td>\n",
       "      <td>0.28</td>\n",
       "    </tr>\n",
       "    <tr>\n",
       "      <th>3</th>\n",
       "      <td>0018df346ac9c1d8413cfcc888ca8246.jpg</td>\n",
       "      <td>15</td>\n",
       "      <td>0.15</td>\n",
       "    </tr>\n",
       "    <tr>\n",
       "      <th>4</th>\n",
       "      <td>001dc955e10590d3ca4673f034feeef2.jpg</td>\n",
       "      <td>72</td>\n",
       "      <td>0.72</td>\n",
       "    </tr>\n",
       "  </tbody>\n",
       "</table>\n",
       "</div>"
      ],
      "text/plain": [
       "                                     Id  Pawpularity  Pawpularity_norm\n",
       "0  0007de18844b0dbbb5e1f607da0606e0.jpg           63              0.63\n",
       "1  0009c66b9439883ba2750fb825e1d7db.jpg           42              0.42\n",
       "2  0013fd999caf9a3efe1352ca1b0d937e.jpg           28              0.28\n",
       "3  0018df346ac9c1d8413cfcc888ca8246.jpg           15              0.15\n",
       "4  001dc955e10590d3ca4673f034feeef2.jpg           72              0.72"
      ]
     },
     "execution_count": 8,
     "metadata": {},
     "output_type": "execute_result"
    }
   ],
   "source": [
    "labels_wt_100[\"Id\"] = labels_wt_100[\"Id\"].apply(append_ext)\n",
    "labels_wt_100.head(5)"
   ]
  },
  {
   "cell_type": "code",
   "execution_count": 9,
   "id": "cb6afe95",
   "metadata": {
    "execution": {
     "iopub.execute_input": "2022-02-09T02:15:07.522611Z",
     "iopub.status.busy": "2022-02-09T02:15:07.521994Z",
     "iopub.status.idle": "2022-02-09T02:15:07.558483Z",
     "shell.execute_reply": "2022-02-09T02:15:07.558937Z",
     "shell.execute_reply.started": "2022-01-30T23:16:35.739908Z"
    },
    "papermill": {
     "duration": 0.065729,
     "end_time": "2022-02-09T02:15:07.559059",
     "exception": false,
     "start_time": "2022-02-09T02:15:07.493330",
     "status": "completed"
    },
    "tags": []
   },
   "outputs": [],
   "source": [
    "labels.to_csv('labels.csv',encoding='utf-8', index=False)"
   ]
  },
  {
   "cell_type": "code",
   "execution_count": 10,
   "id": "d0c882a7",
   "metadata": {
    "execution": {
     "iopub.execute_input": "2022-02-09T02:15:07.615030Z",
     "iopub.status.busy": "2022-02-09T02:15:07.614293Z",
     "iopub.status.idle": "2022-02-09T02:15:07.648546Z",
     "shell.execute_reply": "2022-02-09T02:15:07.648024Z",
     "shell.execute_reply.started": "2022-01-30T23:16:35.788786Z"
    },
    "papermill": {
     "duration": 0.064264,
     "end_time": "2022-02-09T02:15:07.648668",
     "exception": false,
     "start_time": "2022-02-09T02:15:07.584404",
     "status": "completed"
    },
    "tags": []
   },
   "outputs": [],
   "source": [
    "labels_wt_100.to_csv('labels2.csv',encoding='utf-8', index=False)"
   ]
  },
  {
   "cell_type": "markdown",
   "id": "313cb66d",
   "metadata": {
    "papermill": {
     "duration": 0.02517,
     "end_time": "2022-02-09T02:15:07.699048",
     "exception": false,
     "start_time": "2022-02-09T02:15:07.673878",
     "status": "completed"
    },
    "tags": []
   },
   "source": [
    "It can summarized some of these usage patterns of pre-trained modesl as follows:\n",
    "\n",
    "**Classifier**: The pre-trained model is used directly to classify new images.\n",
    "\n",
    "**Standalone Feature Extractor**: The pre-trained model, or some portion of the model, is used to pre-process images and extract relevant features.\n",
    "\n",
    "**Integrated Feature Extractor**: The pre-trained model, or some portion of the model, is integrated into a new model, but layers of the pre-trained model are frozen during training.\n",
    "\n",
    "**Weight Initialization**: The pre-trained model, or some portion of the model, is integrated into a new model, and the layers of the pre-trained model are trained in concert with the new model.\n",
    "\n",
    "It may **not be clear as to which usage of the pre-trained model may yield the best results** on your new computer vision task, therefore some **experimentation may be required**."
   ]
  },
  {
   "cell_type": "code",
   "execution_count": 11,
   "id": "50494eb2",
   "metadata": {
    "execution": {
     "iopub.execute_input": "2022-02-09T02:15:07.755894Z",
     "iopub.status.busy": "2022-02-09T02:15:07.755116Z",
     "iopub.status.idle": "2022-02-09T02:15:07.757450Z",
     "shell.execute_reply": "2022-02-09T02:15:07.757052Z",
     "shell.execute_reply.started": "2022-01-30T23:16:35.840666Z"
    },
    "papermill": {
     "duration": 0.033156,
     "end_time": "2022-02-09T02:15:07.757551",
     "exception": false,
     "start_time": "2022-02-09T02:15:07.724395",
     "status": "completed"
    },
    "tags": []
   },
   "outputs": [],
   "source": [
    "def load_train(path, batch_size):\n",
    "        # path /kaggle/input/petfinder-pawpularity-score/\n",
    "    labels = pd.read_csv('./labels2.csv')\n",
    "       \n",
    "    train_datagen = ImageDataGenerator(validation_split = 0.25, \n",
    "                                   rescale = 1/255., \n",
    "                                   vertical_flip = True, \n",
    "                                   #horizontal_flip = True,\n",
    "                                   rotation_range = 45,\n",
    "                                   width_shift_range=0.05,\n",
    "                                   height_shift_range=0.05)\n",
    "    \n",
    "    train_gen_flow = train_datagen.flow_from_dataframe(\n",
    "        dataframe=labels,\n",
    "        directory= path +'train/',\n",
    "        x_col='Id',\n",
    "        y_col='Pawpularity_norm',\n",
    "        target_size=(160, 160),\n",
    "        batch_size=batch_size,\n",
    "        class_mode='raw',\n",
    "        subset='training',\n",
    "        seed=42)\n",
    "\n",
    "    return train_gen_flow"
   ]
  },
  {
   "cell_type": "code",
   "execution_count": 12,
   "id": "36279699",
   "metadata": {
    "execution": {
     "iopub.execute_input": "2022-02-09T02:15:07.814665Z",
     "iopub.status.busy": "2022-02-09T02:15:07.813884Z",
     "iopub.status.idle": "2022-02-09T02:15:07.815797Z",
     "shell.execute_reply": "2022-02-09T02:15:07.816208Z",
     "shell.execute_reply.started": "2022-01-30T23:16:35.851129Z"
    },
    "papermill": {
     "duration": 0.032793,
     "end_time": "2022-02-09T02:15:07.816323",
     "exception": false,
     "start_time": "2022-02-09T02:15:07.783530",
     "status": "completed"
    },
    "tags": []
   },
   "outputs": [],
   "source": [
    "def load_test(path, batch_size):\n",
    "    labels = pd.read_csv('./labels2.csv')\n",
    "    test_datagen = ImageDataGenerator(\n",
    "        validation_split=0.25,\n",
    "        rescale=1./255)\n",
    "    \n",
    "# flow_from_dataframe -> Takes the dataframe and the path to a directory + generates batches.\n",
    "# The generated batches contain augmented/normalized data.\n",
    "    test_gen_flow = test_datagen.flow_from_dataframe(\n",
    "        dataframe = labels,\n",
    "        directory = path + 'train/',\n",
    "        x_col = 'Id',\n",
    "        y_col = 'Pawpularity_norm',\n",
    "        target_size = (160, 160),\n",
    "        batch_size = batch_size,\n",
    "        class_mode = 'raw',\n",
    "        subset = 'validation',\n",
    "        seed = 42)\n",
    "\n",
    "    return test_gen_flow"
   ]
  },
  {
   "cell_type": "code",
   "execution_count": 13,
   "id": "c19405fb",
   "metadata": {
    "execution": {
     "iopub.execute_input": "2022-02-09T02:15:07.870595Z",
     "iopub.status.busy": "2022-02-09T02:15:07.869846Z",
     "iopub.status.idle": "2022-02-09T02:15:07.871755Z",
     "shell.execute_reply": "2022-02-09T02:15:07.872163Z",
     "shell.execute_reply.started": "2022-01-30T23:16:35.866248Z"
    },
    "papermill": {
     "duration": 0.030847,
     "end_time": "2022-02-09T02:15:07.872277",
     "exception": false,
     "start_time": "2022-02-09T02:15:07.841430",
     "status": "completed"
    },
    "tags": []
   },
   "outputs": [],
   "source": [
    "# path = '/kaggle/input/petfinder-pawpularity-score/'\n",
    "# train_gen_flow = load_train(path)"
   ]
  },
  {
   "cell_type": "code",
   "execution_count": 14,
   "id": "50e74e2b",
   "metadata": {
    "execution": {
     "iopub.execute_input": "2022-02-09T02:15:07.926095Z",
     "iopub.status.busy": "2022-02-09T02:15:07.925410Z",
     "iopub.status.idle": "2022-02-09T02:15:07.927886Z",
     "shell.execute_reply": "2022-02-09T02:15:07.927428Z",
     "shell.execute_reply.started": "2022-01-30T23:16:35.875473Z"
    },
    "papermill": {
     "duration": 0.030485,
     "end_time": "2022-02-09T02:15:07.927990",
     "exception": false,
     "start_time": "2022-02-09T02:15:07.897505",
     "status": "completed"
    },
    "tags": []
   },
   "outputs": [],
   "source": [
    "# # getting data from iterator after augmentation\n",
    "# features, target = next(train_gen_flow)"
   ]
  },
  {
   "cell_type": "code",
   "execution_count": 15,
   "id": "0097febf",
   "metadata": {
    "execution": {
     "iopub.execute_input": "2022-02-09T02:15:07.982942Z",
     "iopub.status.busy": "2022-02-09T02:15:07.982139Z",
     "iopub.status.idle": "2022-02-09T02:15:07.984592Z",
     "shell.execute_reply": "2022-02-09T02:15:07.984129Z",
     "shell.execute_reply.started": "2022-01-30T23:16:35.886598Z"
    },
    "papermill": {
     "duration": 0.031254,
     "end_time": "2022-02-09T02:15:07.984717",
     "exception": false,
     "start_time": "2022-02-09T02:15:07.953463",
     "status": "completed"
    },
    "tags": []
   },
   "outputs": [],
   "source": [
    "# # plotting images after augmentation\n",
    "# fig = plt.figure(figsize=(10,10))\n",
    "# for i in range(16):\n",
    "#     fig.add_subplot(4, 4, i+1)\n",
    "#     plt.imshow(features[i])\n",
    "#     # to plot compact uncomment _ticks below\n",
    "#     #plt.xticks([])\n",
    "#     #plt.yticks([])\n",
    "#     plt.tight_layout()"
   ]
  },
  {
   "cell_type": "code",
   "execution_count": 16,
   "id": "a50ee147",
   "metadata": {
    "execution": {
     "iopub.execute_input": "2022-02-09T02:15:08.039827Z",
     "iopub.status.busy": "2022-02-09T02:15:08.039049Z",
     "iopub.status.idle": "2022-02-09T02:15:08.041512Z",
     "shell.execute_reply": "2022-02-09T02:15:08.041079Z",
     "shell.execute_reply.started": "2022-01-30T23:16:35.895774Z"
    },
    "papermill": {
     "duration": 0.030752,
     "end_time": "2022-02-09T02:15:08.041611",
     "exception": false,
     "start_time": "2022-02-09T02:15:08.010859",
     "status": "completed"
    },
    "tags": []
   },
   "outputs": [],
   "source": [
    "# path = '/kaggle/input/petfinder-pawpularity-score/'\n",
    "# test_gen_flow = load_test(path)"
   ]
  },
  {
   "cell_type": "code",
   "execution_count": 17,
   "id": "23eeaa9f",
   "metadata": {
    "execution": {
     "iopub.execute_input": "2022-02-09T02:15:08.099623Z",
     "iopub.status.busy": "2022-02-09T02:15:08.098801Z",
     "iopub.status.idle": "2022-02-09T02:15:08.101146Z",
     "shell.execute_reply": "2022-02-09T02:15:08.100717Z",
     "shell.execute_reply.started": "2022-01-30T23:16:35.908854Z"
    },
    "jupyter": {
     "source_hidden": true
    },
    "papermill": {
     "duration": 0.034364,
     "end_time": "2022-02-09T02:15:08.101244",
     "exception": false,
     "start_time": "2022-02-09T02:15:08.066880",
     "status": "completed"
    },
    "tags": []
   },
   "outputs": [],
   "source": [
    "def create_model(input_shape, model_name, optimizer, activation, lr):\n",
    "    \"\"\" \n",
    "    Just an example. We get rid of the top (GlobalAveragePooling2D and Dense)\n",
    "    and reconstract from strach  by adding manually this layers \n",
    "    \n",
    "    backbone (англ. «костяк») — part that left from ResNet\n",
    "    \n",
    "    \"\"\"\n",
    "    \n",
    "    backbone = model_name(weights='imagenet', \n",
    "                            # we got regression model so we dont define argument classes here\n",
    "                            # the same for using pre-trained model  as we will get features and not classes\n",
    "                        input_shape=input_shape,\n",
    "                            # at the end of ResNet 2 layers given: GlobalAveragePooling2D & Dense. \n",
    "                            # if set include_top = False where will be no such layers\n",
    "                            # set up false, because we dont need Dense layer \n",
    "                        include_top=False\n",
    "                            # we initialiez weights from ResNet that has benn trained on pictures with 1000 classes\n",
    "                            # if we use this initialisation results should be better than starting from randon initialization\n",
    "                       )\n",
    "    \n",
    "    \n",
    "    \"\"\" \n",
    "    We use \"Freezing\" as the base of our architecture that consist of ResNet. \n",
    "    \"Freezing\" means we will not train it, so the weights will be not changed \n",
    "    \"Freezing\" allows us to get rid of overfitting and increase the speed of NN training:\n",
    "    gradient descent does not need to calculate derivatives for frozen layers (hurray!). \n",
    "    \"\"\"\n",
    "    \n",
    "    backbone.trainable = False\n",
    "\n",
    "    model = Sequential()\n",
    "    model.add(backbone)\n",
    "    \n",
    "    \"\"\"\n",
    "    model.add(GlobalAveragePooling2D())\n",
    "    model.add(Dense(12, activation='softmax')) \n",
    "    \"\"\"\n",
    "    model.add(GlobalAveragePooling2D())\n",
    "    model.add(Dense(1, activation=activation))\n",
    "\n",
    "    #optim = Adam(learning_rate=lr)\n",
    "    model.compile(optimizer=optimizer(lr),loss='mse',metrics=[tf.keras.metrics.RootMeanSquaredError()])\n",
    "    \n",
    "    return model"
   ]
  },
  {
   "cell_type": "code",
   "execution_count": 18,
   "id": "fc46a891",
   "metadata": {
    "execution": {
     "iopub.execute_input": "2022-02-09T02:15:08.155796Z",
     "iopub.status.busy": "2022-02-09T02:15:08.154995Z",
     "iopub.status.idle": "2022-02-09T02:15:08.156946Z",
     "shell.execute_reply": "2022-02-09T02:15:08.157333Z",
     "shell.execute_reply.started": "2022-01-30T23:16:35.92242Z"
    },
    "papermill": {
     "duration": 0.030701,
     "end_time": "2022-02-09T02:15:08.157451",
     "exception": false,
     "start_time": "2022-02-09T02:15:08.126750",
     "status": "completed"
    },
    "tags": []
   },
   "outputs": [],
   "source": [
    "# image_batch, label_batch = next(iter(train_dataset))\n",
    "# feature_batch = base_model(image_batch)"
   ]
  },
  {
   "cell_type": "code",
   "execution_count": 19,
   "id": "f9948e3c",
   "metadata": {
    "execution": {
     "iopub.execute_input": "2022-02-09T02:15:08.211778Z",
     "iopub.status.busy": "2022-02-09T02:15:08.210949Z",
     "iopub.status.idle": "2022-02-09T02:15:08.212785Z",
     "shell.execute_reply": "2022-02-09T02:15:08.213211Z",
     "shell.execute_reply.started": "2022-01-30T23:16:35.93638Z"
    },
    "papermill": {
     "duration": 0.030302,
     "end_time": "2022-02-09T02:15:08.213340",
     "exception": false,
     "start_time": "2022-02-09T02:15:08.183038",
     "status": "completed"
    },
    "tags": []
   },
   "outputs": [],
   "source": [
    "# history = model.fit(train_dataset,\n",
    "#                     epochs=initial_epochs,\n",
    "#                     validation_data=validation_dataset)"
   ]
  },
  {
   "cell_type": "code",
   "execution_count": 20,
   "id": "1ab960ca",
   "metadata": {
    "execution": {
     "iopub.execute_input": "2022-02-09T02:15:08.270456Z",
     "iopub.status.busy": "2022-02-09T02:15:08.269705Z",
     "iopub.status.idle": "2022-02-09T02:15:08.272209Z",
     "shell.execute_reply": "2022-02-09T02:15:08.271773Z",
     "shell.execute_reply.started": "2022-01-30T23:16:35.948171Z"
    },
    "papermill": {
     "duration": 0.033802,
     "end_time": "2022-02-09T02:15:08.272307",
     "exception": false,
     "start_time": "2022-02-09T02:15:08.238505",
     "status": "completed"
    },
    "tags": []
   },
   "outputs": [],
   "source": [
    "def create_model_2(input_shape, model_name, optimizer, activation, lr):\n",
    "\n",
    "    backbone = VGG16(weights='imagenet', \n",
    "                        input_shape=input_shape,\n",
    "                        include_top=False)\n",
    "    \n",
    "    #backbone.trainable = False\n",
    "    \n",
    "    ## Setting the Inputs\n",
    "    inputs = keras.Input(shape=input_shape)\n",
    "    x = inputs\n",
    "    \n",
    "    ## Convolutional Layers\n",
    "    x = backbone(x, training=False)\n",
    "    # ----------\n",
    "    x =  tf.keras.layers.GlobalAveragePooling2D()(x)\n",
    "    \n",
    "    ## Flattening the layer\n",
    "    #x = keras.layers.Flatten()(x)\n",
    "    ### First Fully Connected layer w/ Dropout\n",
    "    #x = keras.layers.Dense(128, activation='relu', kernel_initializer=tf.keras.initializers.HeNormal())(x)\n",
    "    \n",
    "    # -------------\n",
    "    \n",
    "    #x = tf.keras.layers.Dropout(0.2)(x)\n",
    "    output = keras.layers.Dense(1)(x)\n",
    "    model = tf.keras.Model(inputs=inputs, outputs=output)\n",
    "\n",
    "    ## Returning the model\n",
    "    #return keras.Model(inputs=inputs, outputs=output)\n",
    "\n",
    "    #optim = Adam(learning_rate=lr)\n",
    "    model.compile(optimizer=Adagrad(lr),loss='mse',metrics=[tf.keras.metrics.RootMeanSquaredError()])\n",
    "    \n",
    "    return model"
   ]
  },
  {
   "cell_type": "code",
   "execution_count": 21,
   "id": "ad8dd4cf",
   "metadata": {
    "execution": {
     "iopub.execute_input": "2022-02-09T02:15:08.331827Z",
     "iopub.status.busy": "2022-02-09T02:15:08.331070Z",
     "iopub.status.idle": "2022-02-09T02:15:08.333527Z",
     "shell.execute_reply": "2022-02-09T02:15:08.333084Z",
     "shell.execute_reply.started": "2022-01-30T23:16:35.961384Z"
    },
    "papermill": {
     "duration": 0.035745,
     "end_time": "2022-02-09T02:15:08.333629",
     "exception": false,
     "start_time": "2022-02-09T02:15:08.297884",
     "status": "completed"
    },
    "tags": []
   },
   "outputs": [],
   "source": [
    "def train_model(model, train_data, test_data, batch_size = None, epochs = 10,\n",
    "                steps_per_epoch = None, validation_steps = None):\n",
    "\n",
    "    if steps_per_epoch is None:\n",
    "        steps_per_epoch = len(train_data)\n",
    "    if validation_steps is None:\n",
    "        validation_steps = len(test_data)\n",
    "\n",
    "    model.fit(train_data, \n",
    "              validation_data = test_data,\n",
    "              batch_size = batch_size, \n",
    "              epochs = epochs,\n",
    "              steps_per_epoch = steps_per_epoch,\n",
    "              validation_steps = validation_steps,\n",
    "              verbose = 2,\n",
    "              callbacks=[WandbCallback(\n",
    "                monitor=\"val_loss\", verbose=0, mode=\"auto\", save_weights_only=(False),\n",
    "                log_weights=(True), log_gradients=(True), save_model=(True),\n",
    "                training_data=train_data, validation_data=None, labels=[], data_type=None,\n",
    "                predictions=0, generator=None, input_type=None, output_type=None,\n",
    "                log_evaluation=(False), validation_steps=None, class_colors=None,\n",
    "                log_batch_frequency=None, log_best_prefix=\"best_\", save_graph=(True),\n",
    "                validation_indexes=None, validation_row_processor=None,\n",
    "                prediction_row_processor=None, infer_missing_processors=(False),\n",
    "                log_evaluation_frequency=0)])\n",
    "\n",
    "    return model"
   ]
  },
  {
   "cell_type": "code",
   "execution_count": 22,
   "id": "43219903",
   "metadata": {
    "execution": {
     "iopub.execute_input": "2022-02-09T02:15:08.389072Z",
     "iopub.status.busy": "2022-02-09T02:15:08.388294Z",
     "iopub.status.idle": "2022-02-09T02:15:09.143209Z",
     "shell.execute_reply": "2022-02-09T02:15:09.143735Z",
     "shell.execute_reply.started": "2022-01-30T23:16:35.976554Z"
    },
    "papermill": {
     "duration": 0.784958,
     "end_time": "2022-02-09T02:15:09.143894",
     "exception": false,
     "start_time": "2022-02-09T02:15:08.358936",
     "status": "completed"
    },
    "tags": []
   },
   "outputs": [
    {
     "name": "stderr",
     "output_type": "stream",
     "text": [
      "\u001b[34m\u001b[1mwandb\u001b[0m: W&B API key is configured (use `wandb login --relogin` to force relogin)\n",
      "\u001b[34m\u001b[1mwandb\u001b[0m: \u001b[33mWARNING\u001b[0m If you're specifying your api key in code, ensure this code is not shared publically.\n",
      "\u001b[34m\u001b[1mwandb\u001b[0m: \u001b[33mWARNING\u001b[0m Consider setting the WANDB_API_KEY environment variable, or running `wandb login` from the command line.\n",
      "\u001b[34m\u001b[1mwandb\u001b[0m: Appending key for api.wandb.ai to your netrc file: /root/.netrc\n"
     ]
    },
    {
     "data": {
      "text/plain": [
       "True"
      ]
     },
     "execution_count": 22,
     "metadata": {},
     "output_type": "execute_result"
    }
   ],
   "source": [
    "wandb.login(key='620527a80f5b194ce6ba9498879a2ebe65db428d')\n",
    "# 620527a80f5b194ce6ba9498879a2ebe65db428d"
   ]
  },
  {
   "cell_type": "code",
   "execution_count": 23,
   "id": "df16e1e9",
   "metadata": {
    "execution": {
     "iopub.execute_input": "2022-02-09T02:15:09.206006Z",
     "iopub.status.busy": "2022-02-09T02:15:09.205286Z",
     "iopub.status.idle": "2022-02-09T02:15:09.207962Z",
     "shell.execute_reply": "2022-02-09T02:15:09.207495Z",
     "shell.execute_reply.started": "2022-01-30T23:16:36.462462Z"
    },
    "papermill": {
     "duration": 0.037255,
     "end_time": "2022-02-09T02:15:09.208076",
     "exception": false,
     "start_time": "2022-02-09T02:15:09.170821",
     "status": "completed"
    },
    "tags": []
   },
   "outputs": [],
   "source": [
    "sweep_config = {\n",
    "  'framework': 'TF',\n",
    "  'method': 'random', \n",
    "  'note':'no_tuning',\n",
    "  'metric': {\n",
    "      'name': 'val_root_mean_squared_error',\n",
    "      'goal': 'minimize'\n",
    "  },\n",
    "  'parameters': {\n",
    "      'batch_size': {\n",
    "          'values': [32\n",
    "                    # , 64\n",
    "                    ]\n",
    "      },\n",
    "      'learning_rate':{\n",
    "          'values': [#0.01, \n",
    "                     #0.005, \n",
    "                     0.0001 #, \n",
    "                     #0.0005, \n",
    "                     #0.0001\n",
    "          ]\n",
    "      },\n",
    "      'optimizer': {\n",
    "        'values': [#'Adam' \n",
    "                   'Adagrad'\n",
    "                   #'SGD'\n",
    "        ]\n",
    "        },\n",
    "#     'fc_layer_size': {\n",
    "#         'values': [128, 256, 512]\n",
    "#         },\n",
    "    'dropout': {\n",
    "          'values': [0.0\n",
    "                    # , 0.3, 0.4, 0.5\n",
    "                    ]\n",
    "        },\n",
    "    'input_shape': {\n",
    "          'values': [(160, 160, 3)]\n",
    "        },\n",
    "    'pre_trained_model': {\n",
    "          'values': [#'ResNet101'\n",
    "                     #'ResNet50'\n",
    "                     'VGG16'\n",
    "                    ]\n",
    "        },\n",
    "    'tune_from': {\n",
    "        'values': ['000']\n",
    "    },\n",
    "    'head': {\n",
    "        'values': [#'GPA_FC_sigmoid'\n",
    "                    'GPA_sigmoid' #,\n",
    "                   #'MP_sigmoid'\n",
    "        ]\n",
    "#                    'Flatten_FC_sigmoid_DO', \n",
    "#                    'Flatten_FC_relu_DO',\n",
    "#                    'GAP_FC_relu_DO',\n",
    "#                    'MP_relu128_DO_BN_relu64',\n",
    "#                    'GAP_relu128_DO_BN_relu64',\n",
    "#                    'GAP_relu128_DO_BN_relu64_DO',\n",
    "#                    'GAP_FC_relu_DO_BN',\n",
    "#                    'GAP_FC_relu512_DO_BN_relu128_DO_BN',\n",
    "#                    'GAP_relu512_DO_BN_sigmoid',\n",
    "#                    'MP_DO_FL_relu512']\n",
    "    },\n",
    "    'epochs': {\n",
    "        'values': [10]\n",
    "    },\n",
    "    'loss_function': {\n",
    "        'values': ['mse'\n",
    "                   #'bce_logits', \n",
    "                   #'bce_no_logits'\n",
    "                  ]\n",
    "    }\n",
    "  }\n",
    "}"
   ]
  },
  {
   "cell_type": "code",
   "execution_count": 24,
   "id": "cf5b7198",
   "metadata": {
    "execution": {
     "iopub.execute_input": "2022-02-09T02:15:09.271829Z",
     "iopub.status.busy": "2022-02-09T02:15:09.271019Z",
     "iopub.status.idle": "2022-02-09T02:15:10.308068Z",
     "shell.execute_reply": "2022-02-09T02:15:10.308673Z",
     "shell.execute_reply.started": "2022-01-30T23:16:36.476192Z"
    },
    "papermill": {
     "duration": 1.073683,
     "end_time": "2022-02-09T02:15:10.308873",
     "exception": false,
     "start_time": "2022-02-09T02:15:09.235190",
     "status": "completed"
    },
    "tags": []
   },
   "outputs": [
    {
     "name": "stderr",
     "output_type": "stream",
     "text": [
      "\u001b[34m\u001b[1mwandb\u001b[0m: \u001b[33mWARNING\u001b[0m Malformed sweep config detected! This may cause your sweep to behave in unexpected ways.\n",
      "\u001b[34m\u001b[1mwandb\u001b[0m: \u001b[33mWARNING\u001b[0m To avoid this, please fix the sweep config schema violations below:\n",
      "\u001b[34m\u001b[1mwandb\u001b[0m: \u001b[33mWARNING\u001b[0m   Violation 1. Additional properties are not allowed ('framework', 'note' were unexpected)\n"
     ]
    },
    {
     "name": "stdout",
     "output_type": "stream",
     "text": [
      "Create sweep with ID: qci4bm2b\n",
      "Sweep URL: https://wandb.ai/42/42/sweeps/qci4bm2b\n"
     ]
    }
   ],
   "source": [
    "sweep_id = wandb.sweep(sweep_config, project=\"42\",entity=\"42\")"
   ]
  },
  {
   "cell_type": "code",
   "execution_count": 25,
   "id": "927ea64d",
   "metadata": {
    "execution": {
     "iopub.execute_input": "2022-02-09T02:15:10.372220Z",
     "iopub.status.busy": "2022-02-09T02:15:10.371469Z",
     "iopub.status.idle": "2022-02-09T02:15:10.373933Z",
     "shell.execute_reply": "2022-02-09T02:15:10.373466Z",
     "shell.execute_reply.started": "2022-01-30T23:16:37.567797Z"
    },
    "papermill": {
     "duration": 0.036647,
     "end_time": "2022-02-09T02:15:10.374045",
     "exception": false,
     "start_time": "2022-02-09T02:15:10.337398",
     "status": "completed"
    },
    "tags": []
   },
   "outputs": [],
   "source": [
    "def train(config=None):\n",
    "    \n",
    "    # Initialize a new wandb run\n",
    "    with wandb.init(config=config):\n",
    "        # If called by wandb.agent, as below,\n",
    "        # this config will be set by Sweep Controller\n",
    "        config = wandb.config\n",
    "        print('agent received config: ', config)\n",
    "\n",
    "        ##loader = build_dataset(config.batch_size)\n",
    "        # adding our loaders \n",
    "    \n",
    "        ## to do: from config add\n",
    "        ##        batch size\n",
    "        ##        pictures augmentation \n",
    "        ##        including augmentations functions \n",
    "        print('===================')\n",
    "        print('clearing session...')\n",
    "        print('===================')\n",
    "        tf.keras.backend.clear_session()\n",
    "        \n",
    "        path = '/kaggle/input/petfinder-pawpularity-score/'\n",
    "        train_gen_flow = load_train(path, config.batch_size)\n",
    "        test_gen_flow = load_test(path, config.batch_size)\n",
    "        \n",
    "        # build model \n",
    "#         pre_trained_model = config['pre_trained_model']\n",
    "#         fine_tune_from = config['tune_from']\n",
    "#         head = config['head']\n",
    "#         activation = config['head']\n",
    "#         input_shape = config['input_shape']\n",
    "        activation = 'sigmoid'\n",
    "        \n",
    "        model = create_model_2(tuple(config.input_shape), \n",
    "                              config.pre_trained_model,\n",
    "                              config.optimizer,\n",
    "                              activation,\n",
    "                               config.learning_rate)\n",
    "        \n",
    "#         def create_model_2(input_shape, model_name, optimizer, activation, lr):\n",
    "        \n",
    "        # compile model\n",
    "        \n",
    "#         lr_with_decay = tf.keras.optimizers.schedules.ExponentialDecay(initial_learning_rate=config.learning_rate,\n",
    "#             decay_steps=100, decay_rate=0.96,\n",
    "#             staircase=True)\n",
    "        \n",
    "        #compiled_model = compile_model(uncompiled_model, config.optimizer, config.loss_function, lr_with_decay)\n",
    "        #for layer in compiled_model.layers:\n",
    "        #      print(layer.name, layer.trainable)\n",
    "        #print('compiled model summary is: ', compiled_model.summary())\n",
    "        history = train_model(model, train_gen_flow, test_gen_flow, config.batch_size, config.epochs)\n",
    "    "
   ]
  },
  {
   "cell_type": "code",
   "execution_count": 26,
   "id": "1d86af4a",
   "metadata": {
    "execution": {
     "iopub.execute_input": "2022-02-09T02:15:10.437750Z",
     "iopub.status.busy": "2022-02-09T02:15:10.436964Z",
     "iopub.status.idle": "2022-02-09T03:08:53.139861Z",
     "shell.execute_reply": "2022-02-09T03:08:53.139289Z",
     "shell.execute_reply.started": "2022-01-30T23:16:37.582679Z"
    },
    "papermill": {
     "duration": 3222.73915,
     "end_time": "2022-02-09T03:08:53.140001",
     "exception": false,
     "start_time": "2022-02-09T02:15:10.400851",
     "status": "completed"
    },
    "tags": []
   },
   "outputs": [
    {
     "name": "stderr",
     "output_type": "stream",
     "text": [
      "\u001b[34m\u001b[1mwandb\u001b[0m: Agent Starting Run: qw4l910i with config:\n",
      "\u001b[34m\u001b[1mwandb\u001b[0m: \tbatch_size: 32\n",
      "\u001b[34m\u001b[1mwandb\u001b[0m: \tdropout: 0\n",
      "\u001b[34m\u001b[1mwandb\u001b[0m: \tepochs: 10\n",
      "\u001b[34m\u001b[1mwandb\u001b[0m: \thead: GPA_sigmoid\n",
      "\u001b[34m\u001b[1mwandb\u001b[0m: \tinput_shape: [160, 160, 3]\n",
      "\u001b[34m\u001b[1mwandb\u001b[0m: \tlearning_rate: 0.0001\n",
      "\u001b[34m\u001b[1mwandb\u001b[0m: \tloss_function: mse\n",
      "\u001b[34m\u001b[1mwandb\u001b[0m: \toptimizer: Adagrad\n",
      "\u001b[34m\u001b[1mwandb\u001b[0m: \tpre_trained_model: VGG16\n",
      "\u001b[34m\u001b[1mwandb\u001b[0m: \ttune_from: 000\n",
      "\u001b[34m\u001b[1mwandb\u001b[0m: Currently logged in as: \u001b[33mmakcfd\u001b[0m (use `wandb login --relogin` to force relogin)\n",
      "\u001b[34m\u001b[1mwandb\u001b[0m: wandb version 0.12.10 is available!  To upgrade, please run:\n",
      "\u001b[34m\u001b[1mwandb\u001b[0m:  $ pip install wandb --upgrade\n"
     ]
    },
    {
     "data": {
      "text/html": [
       "\n",
       "                    Syncing run <strong><a href=\"https://wandb.ai/42/42/runs/qw4l910i\" target=\"_blank\">classic-sweep-1</a></strong> to <a href=\"https://wandb.ai/42/42\" target=\"_blank\">Weights & Biases</a> (<a href=\"https://docs.wandb.com/integrations/jupyter.html\" target=\"_blank\">docs</a>).<br/>\n",
       "Sweep page: <a href=\"https://wandb.ai/42/42/sweeps/qci4bm2b\" target=\"_blank\">https://wandb.ai/42/42/sweeps/qci4bm2b</a><br/>\n",
       "\n",
       "                "
      ],
      "text/plain": [
       "<IPython.core.display.HTML object>"
      ]
     },
     "metadata": {},
     "output_type": "display_data"
    },
    {
     "name": "stdout",
     "output_type": "stream",
     "text": [
      "agent received config:  {'batch_size': 32, 'dropout': 0, 'epochs': 10, 'head': 'GPA_sigmoid', 'input_shape': [160, 160, 3], 'learning_rate': 0.0001, 'loss_function': 'mse', 'optimizer': 'Adagrad', 'pre_trained_model': 'VGG16', 'tune_from': '000'}\n",
      "===================\n",
      "clearing session...\n",
      "===================\n"
     ]
    },
    {
     "name": "stderr",
     "output_type": "stream",
     "text": [
      "\n",
      "CondaEnvException: Unable to determine environment\n",
      "\n",
      "Please re-run this command with one of the following options:\n",
      "\n",
      "* Provide an environment name via --name or -n\n",
      "* Re-run this command inside an activated conda environment.\n",
      "\n"
     ]
    },
    {
     "name": "stdout",
     "output_type": "stream",
     "text": [
      "Found 7218 validated image filenames.\n",
      "Found 2406 validated image filenames.\n"
     ]
    },
    {
     "name": "stderr",
     "output_type": "stream",
     "text": [
      "2022-02-09 02:15:51.569902: I tensorflow/stream_executor/cuda/cuda_gpu_executor.cc:937] successful NUMA node read from SysFS had negative value (-1), but there must be at least one NUMA node, so returning NUMA node zero\n"
     ]
    },
    {
     "name": "stdout",
     "output_type": "stream",
     "text": [
      "Downloading data from https://storage.googleapis.com/tensorflow/keras-applications/vgg16/vgg16_weights_tf_dim_ordering_tf_kernels_notop.h5\n",
      "58892288/58889256 [==============================] - 1s 0us/step\n",
      "58900480/58889256 [==============================] - 1s 0us/step\n"
     ]
    },
    {
     "name": "stderr",
     "output_type": "stream",
     "text": [
      "2022-02-09 02:15:51.713016: I tensorflow/stream_executor/cuda/cuda_gpu_executor.cc:937] successful NUMA node read from SysFS had negative value (-1), but there must be at least one NUMA node, so returning NUMA node zero\n",
      "2022-02-09 02:15:51.713739: I tensorflow/stream_executor/cuda/cuda_gpu_executor.cc:937] successful NUMA node read from SysFS had negative value (-1), but there must be at least one NUMA node, so returning NUMA node zero\n",
      "2022-02-09 02:15:51.715552: I tensorflow/core/platform/cpu_feature_guard.cc:142] This TensorFlow binary is optimized with oneAPI Deep Neural Network Library (oneDNN) to use the following CPU instructions in performance-critical operations:  AVX2 AVX512F FMA\n",
      "To enable them in other operations, rebuild TensorFlow with the appropriate compiler flags.\n",
      "2022-02-09 02:15:51.717053: I tensorflow/stream_executor/cuda/cuda_gpu_executor.cc:937] successful NUMA node read from SysFS had negative value (-1), but there must be at least one NUMA node, so returning NUMA node zero\n",
      "2022-02-09 02:15:51.717708: I tensorflow/stream_executor/cuda/cuda_gpu_executor.cc:937] successful NUMA node read from SysFS had negative value (-1), but there must be at least one NUMA node, so returning NUMA node zero\n",
      "2022-02-09 02:15:51.718334: I tensorflow/stream_executor/cuda/cuda_gpu_executor.cc:937] successful NUMA node read from SysFS had negative value (-1), but there must be at least one NUMA node, so returning NUMA node zero\n",
      "2022-02-09 02:15:54.064051: I tensorflow/stream_executor/cuda/cuda_gpu_executor.cc:937] successful NUMA node read from SysFS had negative value (-1), but there must be at least one NUMA node, so returning NUMA node zero\n",
      "2022-02-09 02:15:54.064890: I tensorflow/stream_executor/cuda/cuda_gpu_executor.cc:937] successful NUMA node read from SysFS had negative value (-1), but there must be at least one NUMA node, so returning NUMA node zero\n",
      "2022-02-09 02:15:54.065543: I tensorflow/stream_executor/cuda/cuda_gpu_executor.cc:937] successful NUMA node read from SysFS had negative value (-1), but there must be at least one NUMA node, so returning NUMA node zero\n",
      "2022-02-09 02:15:54.066129: I tensorflow/core/common_runtime/gpu/gpu_device.cc:1510] Created device /job:localhost/replica:0/task:0/device:GPU:0 with 15403 MB memory:  -> device: 0, name: Tesla P100-PCIE-16GB, pci bus id: 0000:00:04.0, compute capability: 6.0\n",
      "2022-02-09 02:15:57.011150: I tensorflow/compiler/mlir/mlir_graph_optimization_pass.cc:185] None of the MLIR Optimization Passes are enabled (registered 2)\n"
     ]
    },
    {
     "name": "stdout",
     "output_type": "stream",
     "text": [
      "Epoch 1/10\n"
     ]
    },
    {
     "name": "stderr",
     "output_type": "stream",
     "text": [
      "2022-02-09 02:15:59.802777: I tensorflow/stream_executor/cuda/cuda_dnn.cc:369] Loaded cuDNN version 8005\n"
     ]
    },
    {
     "name": "stdout",
     "output_type": "stream",
     "text": [
      "226/226 - 249s - loss: 0.0454 - root_mean_squared_error: 0.2132 - val_loss: 0.0479 - val_root_mean_squared_error: 0.2189\n",
      "Epoch 2/10\n",
      "226/226 - 158s - loss: 0.0408 - root_mean_squared_error: 0.2020 - val_loss: 0.0439 - val_root_mean_squared_error: 0.2095\n",
      "Epoch 3/10\n",
      "226/226 - 159s - loss: 0.0378 - root_mean_squared_error: 0.1945 - val_loss: 0.0416 - val_root_mean_squared_error: 0.2038\n",
      "Epoch 4/10\n",
      "226/226 - 158s - loss: 0.0364 - root_mean_squared_error: 0.1907 - val_loss: 0.0400 - val_root_mean_squared_error: 0.1999\n",
      "Epoch 5/10\n",
      "226/226 - 158s - loss: 0.0351 - root_mean_squared_error: 0.1874 - val_loss: 0.0388 - val_root_mean_squared_error: 0.1969\n",
      "Epoch 6/10\n",
      "226/226 - 157s - loss: 0.0345 - root_mean_squared_error: 0.1858 - val_loss: 0.0378 - val_root_mean_squared_error: 0.1944\n",
      "Epoch 7/10\n",
      "226/226 - 157s - loss: 0.0339 - root_mean_squared_error: 0.1842 - val_loss: 0.0371 - val_root_mean_squared_error: 0.1926\n",
      "Epoch 8/10\n",
      "226/226 - 158s - loss: 0.0333 - root_mean_squared_error: 0.1826 - val_loss: 0.0365 - val_root_mean_squared_error: 0.1912\n",
      "Epoch 9/10\n",
      "226/226 - 158s - loss: 0.0329 - root_mean_squared_error: 0.1814 - val_loss: 0.0361 - val_root_mean_squared_error: 0.1899\n",
      "Epoch 10/10\n",
      "226/226 - 157s - loss: 0.0327 - root_mean_squared_error: 0.1808 - val_loss: 0.0358 - val_root_mean_squared_error: 0.1892\n"
     ]
    },
    {
     "data": {
      "text/html": [
       "<br/>Waiting for W&B process to finish, PID 67... <strong style=\"color:green\">(success).</strong>"
      ],
      "text/plain": [
       "<IPython.core.display.HTML object>"
      ]
     },
     "metadata": {},
     "output_type": "display_data"
    },
    {
     "data": {
      "application/vnd.jupyter.widget-view+json": {
       "model_id": "39bde348c6ef4920947f327e061a08bf",
       "version_major": 2,
       "version_minor": 0
      },
      "text/plain": [
       "VBox(children=(Label(value=' 112.37MB of 112.37MB uploaded (0.00MB deduped)\\r'), FloatProgress(value=1.0, max=…"
      ]
     },
     "metadata": {},
     "output_type": "display_data"
    },
    {
     "data": {
      "text/html": [
       "<style>\n",
       "    table.wandb td:nth-child(1) { padding: 0 10px; text-align: right }\n",
       "    .wandb-row { display: flex; flex-direction: row; flex-wrap: wrap; width: 100% }\n",
       "    .wandb-col { display: flex; flex-direction: column; flex-basis: 100%; flex: 1; padding: 10px; }\n",
       "    </style>\n",
       "<div class=\"wandb-row\"><div class=\"wandb-col\">\n",
       "<h3>Run history:</h3><br/><table class=\"wandb\"><tr><td>epoch</td><td>▁▂▃▃▄▅▆▆▇█</td></tr><tr><td>loss</td><td>█▅▄▃▂▂▂▁▁▁</td></tr><tr><td>root_mean_squared_error</td><td>█▆▄▃▂▂▂▁▁▁</td></tr><tr><td>val_loss</td><td>█▆▄▃▃▂▂▁▁▁</td></tr><tr><td>val_root_mean_squared_error</td><td>█▆▄▄▃▂▂▁▁▁</td></tr></table><br/></div><div class=\"wandb-col\">\n",
       "<h3>Run summary:</h3><br/><table class=\"wandb\"><tr><td>best_epoch</td><td>9</td></tr><tr><td>best_val_loss</td><td>0.03579</td></tr><tr><td>epoch</td><td>9</td></tr><tr><td>loss</td><td>0.03269</td></tr><tr><td>root_mean_squared_error</td><td>0.18081</td></tr><tr><td>val_loss</td><td>0.03579</td></tr><tr><td>val_root_mean_squared_error</td><td>0.18918</td></tr></table>\n",
       "</div></div>\n",
       "Synced 5 W&B file(s), 0 media file(s), 0 artifact file(s) and 1 other file(s)\n",
       "<br/>Synced <strong style=\"color:#cdcd00\">classic-sweep-1</strong>: <a href=\"https://wandb.ai/42/42/runs/qw4l910i\" target=\"_blank\">https://wandb.ai/42/42/runs/qw4l910i</a><br/>\n",
       "Find logs at: <code>./wandb/run-20220209_021511-qw4l910i/logs</code><br/>\n"
      ],
      "text/plain": [
       "<IPython.core.display.HTML object>"
      ]
     },
     "metadata": {},
     "output_type": "display_data"
    }
   ],
   "source": [
    "#wandb.agent(sweep_id, train, count=5)\n",
    "wandb.agent(\n",
    "    sweep_id, function=train, entity=\"42\", project=\"42\", count=1\n",
    ")"
   ]
  },
  {
   "cell_type": "code",
   "execution_count": 27,
   "id": "8360a6a3",
   "metadata": {
    "execution": {
     "iopub.execute_input": "2022-02-09T03:08:53.240447Z",
     "iopub.status.busy": "2022-02-09T03:08:53.238785Z",
     "iopub.status.idle": "2022-02-09T03:08:53.241083Z",
     "shell.execute_reply": "2022-02-09T03:08:53.241484Z",
     "shell.execute_reply.started": "2022-01-30T23:50:35.381223Z"
    },
    "papermill": {
     "duration": 0.051163,
     "end_time": "2022-02-09T03:08:53.241602",
     "exception": false,
     "start_time": "2022-02-09T03:08:53.190439",
     "status": "completed"
    },
    "tags": []
   },
   "outputs": [],
   "source": [
    "# input_shape = (160, 160, 3)\n",
    "# optimizer = Adam\n",
    "# pre_trained_model = ResNet101\n",
    "# activation = 'sigmoid'\n",
    "# lr = 0.001\n",
    "\n",
    "# model_levels = create_model_2(input_shape, pre_trained_model, optimizer, activation, lr)\n",
    "# model_to_test = train_model(model_levels, train_gen_flow, test_gen_flow, batch_size = 32)"
   ]
  },
  {
   "cell_type": "code",
   "execution_count": 28,
   "id": "926cc586",
   "metadata": {
    "execution": {
     "iopub.execute_input": "2022-02-09T03:08:53.331231Z",
     "iopub.status.busy": "2022-02-09T03:08:53.330473Z",
     "iopub.status.idle": "2022-02-09T03:08:53.332536Z",
     "shell.execute_reply": "2022-02-09T03:08:53.332990Z",
     "shell.execute_reply.started": "2022-01-30T23:50:35.388601Z"
    },
    "papermill": {
     "duration": 0.048184,
     "end_time": "2022-02-09T03:08:53.333114",
     "exception": false,
     "start_time": "2022-02-09T03:08:53.284930",
     "status": "completed"
    },
    "tags": []
   },
   "outputs": [],
   "source": [
    "#model_test.predict()"
   ]
  },
  {
   "cell_type": "code",
   "execution_count": 29,
   "id": "dac64183",
   "metadata": {
    "execution": {
     "iopub.execute_input": "2022-02-09T03:08:53.420409Z",
     "iopub.status.busy": "2022-02-09T03:08:53.419599Z",
     "iopub.status.idle": "2022-02-09T03:08:53.423409Z",
     "shell.execute_reply": "2022-02-09T03:08:53.422970Z",
     "shell.execute_reply.started": "2022-01-30T23:50:35.873687Z"
    },
    "papermill": {
     "duration": 0.049013,
     "end_time": "2022-02-09T03:08:53.423509",
     "exception": false,
     "start_time": "2022-02-09T03:08:53.374496",
     "status": "completed"
    },
    "tags": []
   },
   "outputs": [],
   "source": [
    "# input_shape = (150, 150, 3)\n",
    "# optimizer = Adam\n",
    "# pre_trained_model = ResNet101\n",
    "# activation = 'sigmoid'\n",
    "# lr = 0.001\n",
    "\n",
    "# model_levels = create_model(input_shape, pre_trained_model, optimizer, activation, lr)\n",
    "# train_model(model_levels, train_gen_flow, test_gen_flow, batch_size = 32)"
   ]
  },
  {
   "cell_type": "markdown",
   "id": "6cb003c4",
   "metadata": {
    "papermill": {
     "duration": 0.042317,
     "end_time": "2022-02-09T03:08:53.507715",
     "exception": false,
     "start_time": "2022-02-09T03:08:53.465398",
     "status": "completed"
    },
    "tags": []
   },
   "source": [
    "# ========================"
   ]
  },
  {
   "cell_type": "code",
   "execution_count": 30,
   "id": "9e0efa06",
   "metadata": {
    "execution": {
     "iopub.execute_input": "2022-02-09T03:08:53.595052Z",
     "iopub.status.busy": "2022-02-09T03:08:53.594380Z",
     "iopub.status.idle": "2022-02-09T03:08:53.596991Z",
     "shell.execute_reply": "2022-02-09T03:08:53.596535Z",
     "shell.execute_reply.started": "2022-01-30T23:50:35.885956Z"
    },
    "papermill": {
     "duration": 0.047845,
     "end_time": "2022-02-09T03:08:53.597095",
     "exception": false,
     "start_time": "2022-02-09T03:08:53.549250",
     "status": "completed"
    },
    "tags": []
   },
   "outputs": [],
   "source": [
    "# input_shape = (150, 150, 3)\n",
    "# optimizer = Adam\n",
    "# pre_trained_model = ResNet101\n",
    "# activation = 'sigmoid'\n",
    "# lr = 0.001\n",
    "\n",
    "# model_levels = create_model(input_shape, pre_trained_model, optimizer, activation, lr)\n",
    "# train_model(model_levels, train_gen_flow, test_gen_flow, batch_size = 32)"
   ]
  },
  {
   "cell_type": "code",
   "execution_count": 31,
   "id": "fbddbaa8",
   "metadata": {
    "execution": {
     "iopub.execute_input": "2022-02-09T03:08:53.684313Z",
     "iopub.status.busy": "2022-02-09T03:08:53.683536Z",
     "iopub.status.idle": "2022-02-09T03:08:53.685529Z",
     "shell.execute_reply": "2022-02-09T03:08:53.685917Z",
     "shell.execute_reply.started": "2022-01-30T23:50:35.897111Z"
    },
    "papermill": {
     "duration": 0.047456,
     "end_time": "2022-02-09T03:08:53.686035",
     "exception": false,
     "start_time": "2022-02-09T03:08:53.638579",
     "status": "completed"
    },
    "tags": []
   },
   "outputs": [],
   "source": [
    "# input_shape = (150, 150, 3)\n",
    "# optimizer = SGD\n",
    "# pre_trained_model = ResNet101\n",
    "# activation = 'sigmoid'\n",
    "# lr = 0.001\n",
    "\n",
    "# model_levels = create_model(input_shape, pre_trained_model, optimizer, activation, lr)\n",
    "# train_model(model_levels, train_gen_flow, test_gen_flow, batch_size = 32)"
   ]
  },
  {
   "cell_type": "code",
   "execution_count": 32,
   "id": "25fae17e",
   "metadata": {
    "execution": {
     "iopub.execute_input": "2022-02-09T03:08:53.772851Z",
     "iopub.status.busy": "2022-02-09T03:08:53.772225Z",
     "iopub.status.idle": "2022-02-09T03:08:53.774927Z",
     "shell.execute_reply": "2022-02-09T03:08:53.774459Z",
     "shell.execute_reply.started": "2022-01-30T23:50:35.910029Z"
    },
    "papermill": {
     "duration": 0.047294,
     "end_time": "2022-02-09T03:08:53.775033",
     "exception": false,
     "start_time": "2022-02-09T03:08:53.727739",
     "status": "completed"
    },
    "tags": []
   },
   "outputs": [],
   "source": [
    "# input_shape = (150, 150, 3)\n",
    "# optimizer = Adam\n",
    "# pre_trained_model = InceptionV3\n",
    "# activation = 'sigmoid'\n",
    "# lr = 0.001\n",
    "\n",
    "# model_levels = create_model(input_shape, pre_trained_model, optimizer, activation, lr)\n",
    "# train_model(model_levels, train_gen_flow, test_gen_flow, batch_size = 32)"
   ]
  },
  {
   "cell_type": "code",
   "execution_count": 33,
   "id": "7d8a3bf8",
   "metadata": {
    "execution": {
     "iopub.execute_input": "2022-02-09T03:08:53.861351Z",
     "iopub.status.busy": "2022-02-09T03:08:53.860409Z",
     "iopub.status.idle": "2022-02-09T03:08:53.863820Z",
     "shell.execute_reply": "2022-02-09T03:08:53.863357Z",
     "shell.execute_reply.started": "2022-01-30T23:50:35.920885Z"
    },
    "papermill": {
     "duration": 0.046947,
     "end_time": "2022-02-09T03:08:53.863926",
     "exception": false,
     "start_time": "2022-02-09T03:08:53.816979",
     "status": "completed"
    },
    "tags": []
   },
   "outputs": [],
   "source": [
    "# input_shape = (150, 150, 3)\n",
    "# optimizer = Adam\n",
    "# pre_trained_model = InceptionV3\n",
    "# activation = 'tanh'\n",
    "# lr = 0.001\n",
    "\n",
    "# model_levels = create_model(input_shape, pre_trained_model, optimizer, activation, lr)\n",
    "# train_model(model_levels, train_gen_flow, test_gen_flow, batch_size = 32)"
   ]
  },
  {
   "cell_type": "markdown",
   "id": "c19f3533",
   "metadata": {
    "papermill": {
     "duration": 0.0443,
     "end_time": "2022-02-09T03:08:53.949685",
     "exception": false,
     "start_time": "2022-02-09T03:08:53.905385",
     "status": "completed"
    },
    "tags": []
   },
   "source": [
    "Initial run \n",
    "Changes 1: backbone is not trainable. Results: 21.1810\n",
    "\n",
    "Changes 2: ResNet101, sigmoid, normalized target, Adam, lr = 0.005. Results: 0.2118\n",
    "\n",
    "Changes 3: TBD. Results:\n",
    "\n",
    "Changes 4: TBD. Results:\n",
    "\n",
    "Changes 5: TBD. Results:\n",
    "\n",
    "\n"
   ]
  }
 ],
 "metadata": {
  "kernelspec": {
   "display_name": "Python 3",
   "language": "python",
   "name": "python3"
  },
  "language_info": {
   "codemirror_mode": {
    "name": "ipython",
    "version": 3
   },
   "file_extension": ".py",
   "mimetype": "text/x-python",
   "name": "python",
   "nbconvert_exporter": "python",
   "pygments_lexer": "ipython3",
   "version": "3.7.10"
  },
  "papermill": {
   "default_parameters": {},
   "duration": 3244.690192,
   "end_time": "2022-02-09T03:08:57.418345",
   "environment_variables": {},
   "exception": null,
   "input_path": "__notebook__.ipynb",
   "output_path": "__notebook__.ipynb",
   "parameters": {},
   "start_time": "2022-02-09T02:14:52.728153",
   "version": "2.3.3"
  },
  "widgets": {
   "application/vnd.jupyter.widget-state+json": {
    "state": {
     "39bde348c6ef4920947f327e061a08bf": {
      "model_module": "@jupyter-widgets/controls",
      "model_module_version": "1.5.0",
      "model_name": "VBoxModel",
      "state": {
       "_dom_classes": [],
       "_model_module": "@jupyter-widgets/controls",
       "_model_module_version": "1.5.0",
       "_model_name": "VBoxModel",
       "_view_count": null,
       "_view_module": "@jupyter-widgets/controls",
       "_view_module_version": "1.5.0",
       "_view_name": "VBoxView",
       "box_style": "",
       "children": [
        "IPY_MODEL_511684bd575e4183a3dd9812ac7cfbe9",
        "IPY_MODEL_fddd32b54c374b24898346fbde4054c0"
       ],
       "layout": "IPY_MODEL_ea8ab05a81504495871451e5efebd1e7"
      }
     },
     "3ef95cda99c7495eb8f008b79f63ddff": {
      "model_module": "@jupyter-widgets/controls",
      "model_module_version": "1.5.0",
      "model_name": "ProgressStyleModel",
      "state": {
       "_model_module": "@jupyter-widgets/controls",
       "_model_module_version": "1.5.0",
       "_model_name": "ProgressStyleModel",
       "_view_count": null,
       "_view_module": "@jupyter-widgets/base",
       "_view_module_version": "1.2.0",
       "_view_name": "StyleView",
       "bar_color": null,
       "description_width": ""
      }
     },
     "511684bd575e4183a3dd9812ac7cfbe9": {
      "model_module": "@jupyter-widgets/controls",
      "model_module_version": "1.5.0",
      "model_name": "LabelModel",
      "state": {
       "_dom_classes": [],
       "_model_module": "@jupyter-widgets/controls",
       "_model_module_version": "1.5.0",
       "_model_name": "LabelModel",
       "_view_count": null,
       "_view_module": "@jupyter-widgets/controls",
       "_view_module_version": "1.5.0",
       "_view_name": "LabelView",
       "description": "",
       "description_tooltip": null,
       "layout": "IPY_MODEL_821972904a0a4ccd95fa5f94a1978a2b",
       "placeholder": "​",
       "style": "IPY_MODEL_721d4e2d340f44a792317f4755c88ce1",
       "value": " 112.44MB of 112.44MB uploaded (0.00MB deduped)\r"
      }
     },
     "721d4e2d340f44a792317f4755c88ce1": {
      "model_module": "@jupyter-widgets/controls",
      "model_module_version": "1.5.0",
      "model_name": "DescriptionStyleModel",
      "state": {
       "_model_module": "@jupyter-widgets/controls",
       "_model_module_version": "1.5.0",
       "_model_name": "DescriptionStyleModel",
       "_view_count": null,
       "_view_module": "@jupyter-widgets/base",
       "_view_module_version": "1.2.0",
       "_view_name": "StyleView",
       "description_width": ""
      }
     },
     "7545375efeb24060897b8a9e2a7f4c62": {
      "model_module": "@jupyter-widgets/base",
      "model_module_version": "1.2.0",
      "model_name": "LayoutModel",
      "state": {
       "_model_module": "@jupyter-widgets/base",
       "_model_module_version": "1.2.0",
       "_model_name": "LayoutModel",
       "_view_count": null,
       "_view_module": "@jupyter-widgets/base",
       "_view_module_version": "1.2.0",
       "_view_name": "LayoutView",
       "align_content": null,
       "align_items": null,
       "align_self": null,
       "border": null,
       "bottom": null,
       "display": null,
       "flex": null,
       "flex_flow": null,
       "grid_area": null,
       "grid_auto_columns": null,
       "grid_auto_flow": null,
       "grid_auto_rows": null,
       "grid_column": null,
       "grid_gap": null,
       "grid_row": null,
       "grid_template_areas": null,
       "grid_template_columns": null,
       "grid_template_rows": null,
       "height": null,
       "justify_content": null,
       "justify_items": null,
       "left": null,
       "margin": null,
       "max_height": null,
       "max_width": null,
       "min_height": null,
       "min_width": null,
       "object_fit": null,
       "object_position": null,
       "order": null,
       "overflow": null,
       "overflow_x": null,
       "overflow_y": null,
       "padding": null,
       "right": null,
       "top": null,
       "visibility": null,
       "width": null
      }
     },
     "821972904a0a4ccd95fa5f94a1978a2b": {
      "model_module": "@jupyter-widgets/base",
      "model_module_version": "1.2.0",
      "model_name": "LayoutModel",
      "state": {
       "_model_module": "@jupyter-widgets/base",
       "_model_module_version": "1.2.0",
       "_model_name": "LayoutModel",
       "_view_count": null,
       "_view_module": "@jupyter-widgets/base",
       "_view_module_version": "1.2.0",
       "_view_name": "LayoutView",
       "align_content": null,
       "align_items": null,
       "align_self": null,
       "border": null,
       "bottom": null,
       "display": null,
       "flex": null,
       "flex_flow": null,
       "grid_area": null,
       "grid_auto_columns": null,
       "grid_auto_flow": null,
       "grid_auto_rows": null,
       "grid_column": null,
       "grid_gap": null,
       "grid_row": null,
       "grid_template_areas": null,
       "grid_template_columns": null,
       "grid_template_rows": null,
       "height": null,
       "justify_content": null,
       "justify_items": null,
       "left": null,
       "margin": null,
       "max_height": null,
       "max_width": null,
       "min_height": null,
       "min_width": null,
       "object_fit": null,
       "object_position": null,
       "order": null,
       "overflow": null,
       "overflow_x": null,
       "overflow_y": null,
       "padding": null,
       "right": null,
       "top": null,
       "visibility": null,
       "width": null
      }
     },
     "ea8ab05a81504495871451e5efebd1e7": {
      "model_module": "@jupyter-widgets/base",
      "model_module_version": "1.2.0",
      "model_name": "LayoutModel",
      "state": {
       "_model_module": "@jupyter-widgets/base",
       "_model_module_version": "1.2.0",
       "_model_name": "LayoutModel",
       "_view_count": null,
       "_view_module": "@jupyter-widgets/base",
       "_view_module_version": "1.2.0",
       "_view_name": "LayoutView",
       "align_content": null,
       "align_items": null,
       "align_self": null,
       "border": null,
       "bottom": null,
       "display": null,
       "flex": null,
       "flex_flow": null,
       "grid_area": null,
       "grid_auto_columns": null,
       "grid_auto_flow": null,
       "grid_auto_rows": null,
       "grid_column": null,
       "grid_gap": null,
       "grid_row": null,
       "grid_template_areas": null,
       "grid_template_columns": null,
       "grid_template_rows": null,
       "height": null,
       "justify_content": null,
       "justify_items": null,
       "left": null,
       "margin": null,
       "max_height": null,
       "max_width": null,
       "min_height": null,
       "min_width": null,
       "object_fit": null,
       "object_position": null,
       "order": null,
       "overflow": null,
       "overflow_x": null,
       "overflow_y": null,
       "padding": null,
       "right": null,
       "top": null,
       "visibility": null,
       "width": null
      }
     },
     "fddd32b54c374b24898346fbde4054c0": {
      "model_module": "@jupyter-widgets/controls",
      "model_module_version": "1.5.0",
      "model_name": "FloatProgressModel",
      "state": {
       "_dom_classes": [],
       "_model_module": "@jupyter-widgets/controls",
       "_model_module_version": "1.5.0",
       "_model_name": "FloatProgressModel",
       "_view_count": null,
       "_view_module": "@jupyter-widgets/controls",
       "_view_module_version": "1.5.0",
       "_view_name": "ProgressView",
       "bar_style": "",
       "description": "",
       "description_tooltip": null,
       "layout": "IPY_MODEL_7545375efeb24060897b8a9e2a7f4c62",
       "max": 1.0,
       "min": 0.0,
       "orientation": "horizontal",
       "style": "IPY_MODEL_3ef95cda99c7495eb8f008b79f63ddff",
       "value": 1.0
      }
     }
    },
    "version_major": 2,
    "version_minor": 0
   }
  }
 },
 "nbformat": 4,
 "nbformat_minor": 5
}
